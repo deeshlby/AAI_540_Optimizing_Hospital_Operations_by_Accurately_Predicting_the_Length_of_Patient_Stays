{
 "cells": [
  {
   "cell_type": "markdown",
   "id": "153fe110-4e4d-4242-b51b-339c828aaf57",
   "metadata": {},
   "source": [
    "# Project Name\n",
    "## Project Description\n",
    "### Data Source"
   ]
  },
  {
   "cell_type": "code",
   "execution_count": 73,
   "id": "dbdc3f9b-ca57-4405-99f9-07cd1f478cbd",
   "metadata": {},
   "outputs": [],
   "source": [
    "#import libraries\n",
    "import boto3\n",
    "import sagemaker\n",
    "import pandas as pd\n",
    "import os\n",
    "import tqdm\n",
    "import numpy as np\n",
    "\n",
    "sess = sagemaker.Session()\n",
    "bucket = sess.default_bucket()\n",
    "role = sagemaker.get_execution_role()\n",
    "region = boto3.Session().region_name\n",
    "account_id = boto3.client(\"sts\").get_caller_identity().get(\"Account\")\n",
    "\n",
    "sm = boto3.Session().client(service_name=\"sagemaker\", region_name=region)\n",
    "s3 = boto3.Session().client(service_name=\"s3\", region_name=region)"
   ]
  },
  {
   "cell_type": "code",
   "execution_count": 74,
   "id": "d9776b8a-cb40-452c-80a3-6fd755221e74",
   "metadata": {},
   "outputs": [
    {
     "name": "stdout",
     "output_type": "stream",
     "text": [
      "s3://sagemaker-us-east-1-361019805433/PatientLOS/data/\n"
     ]
    }
   ],
   "source": [
    "s3_finalprj_csv = \"s3://{}/PatientLOS/data/\".format(bucket)\n",
    "print(s3_finalprj_csv)"
   ]
  },
  {
   "cell_type": "markdown",
   "id": "7cb4a9e5-f544-4829-a14d-50350addb707",
   "metadata": {},
   "source": [
    "# Save the training and production data in S3"
   ]
  },
  {
   "cell_type": "code",
   "execution_count": 75,
   "id": "028f69be-fbf7-4355-881c-1d7b7d036c43",
   "metadata": {
    "tags": []
   },
   "outputs": [
    {
     "name": "stderr",
     "output_type": "stream",
     "text": [
      "/tmp/ipykernel_138/1347165530.py:1: DtypeWarning: Columns (2,4,6,7,8,12,13,15,17) have mixed types. Specify dtype option on import or set low_memory=False.\n",
      "  trainData=pd.read_csv('traindata_medium.csv')\n"
     ]
    },
    {
     "name": "stdout",
     "output_type": "stream",
     "text": [
      "   case_id  Hospital_code Hospital_type_code  City_Code_Hospital  \\\n",
      "0      1.0            8.0                  c                 3.0   \n",
      "1      2.0            2.0                  c                 5.0   \n",
      "2      3.0           10.0                  e                 1.0   \n",
      "3      4.0           26.0                  b                 2.0   \n",
      "4      5.0           26.0                  b                 2.0   \n",
      "\n",
      "  Hospital_region_code  AvailableExtraRoomsinHospital    Department Ward_Type  \\\n",
      "0                    Z                            3.0  radiotherapy         R   \n",
      "1                    Z                            2.0  radiotherapy         S   \n",
      "2                    X                            2.0    anesthesia         S   \n",
      "3                    Y                            2.0  radiotherapy         R   \n",
      "4                    Y                            2.0  radiotherapy         S   \n",
      "\n",
      "  Ward_Facility_Code  BedGrade  patientid  City_Code_Patient TypeofAdmission  \\\n",
      "0                  F       2.0    31397.0                7.0       Emergency   \n",
      "1                  F       2.0    31397.0                7.0          Trauma   \n",
      "2                  E       2.0    31397.0                7.0          Trauma   \n",
      "3                  D       2.0    31397.0                7.0          Trauma   \n",
      "4                  D       2.0    31397.0                7.0          Trauma   \n",
      "\n",
      "  SeverityofIllness  VisitorswithPatient    Age  Admission_Deposit   Stay  \n",
      "0           Extreme                  2.0  51-60             4911.0   0-10  \n",
      "1           Extreme                  2.0  51-60             5954.0  41-50  \n",
      "2           Extreme                  2.0  51-60             4745.0  31-40  \n",
      "3           Extreme                  2.0  51-60             7272.0  41-50  \n",
      "4           Extreme                  2.0  51-60             5558.0  41-50  \n",
      "   case_id  Hospital_code Hospital_type_code  City_Code_Hospital  \\\n",
      "0   318439             21                  c                   3   \n",
      "1   318440             29                  a                   4   \n",
      "2   318441             26                  b                   2   \n",
      "3   318442              6                  a                   6   \n",
      "4   318443             28                  b                  11   \n",
      "\n",
      "  Hospital_region_code  AvailableExtraRoomsinHospital  Department Ward_Type  \\\n",
      "0                    Z                              3  gynecology         S   \n",
      "1                    X                              2  gynecology         S   \n",
      "2                    Y                              3  gynecology         Q   \n",
      "3                    X                              3  gynecology         Q   \n",
      "4                    X                              2  gynecology         R   \n",
      "\n",
      "  Ward_Facility_Code  BedGrade  patientid  City_Code_Patient TypeofAdmission  \\\n",
      "0                  A       2.0      17006                2.0       Emergency   \n",
      "1                  F       2.0      17006                2.0          Trauma   \n",
      "2                  D       4.0      17006                2.0       Emergency   \n",
      "3                  F       2.0      17006                2.0          Trauma   \n",
      "4                  F       2.0      17006                2.0          Trauma   \n",
      "\n",
      "  SeverityofIllness  VisitorswithPatient    Age  Admission_Deposit  \n",
      "0          Moderate                    2  71-80               3095  \n",
      "1          Moderate                    4  71-80               4018  \n",
      "2          Moderate                    3  71-80               4492  \n",
      "3          Moderate                    3  71-80               4173  \n",
      "4          Moderate                    4  71-80               4161  \n"
     ]
    }
   ],
   "source": [
    "trainData=pd.read_csv('traindata_medium.csv')\n",
    "productionData=pd.read_csv('test.csv')\n",
    "print(trainData.head())\n",
    "print(productionData.head())"
   ]
  },
  {
   "cell_type": "code",
   "execution_count": 76,
   "id": "69616537-cd09-4bc1-a228-e7925ad934bf",
   "metadata": {
    "tags": []
   },
   "outputs": [
    {
     "name": "stdout",
     "output_type": "stream",
     "text": [
      "<class 'pandas.core.frame.DataFrame'>\n",
      "RangeIndex: 10000 entries, 0 to 9999\n",
      "Data columns (total 18 columns):\n",
      " #   Column                         Non-Null Count  Dtype  \n",
      "---  ------                         --------------  -----  \n",
      " 0   case_id                        10000 non-null  float64\n",
      " 1   Hospital_code                  10000 non-null  float64\n",
      " 2   Hospital_type_code             10000 non-null  object \n",
      " 3   City_Code_Hospital             10000 non-null  float64\n",
      " 4   Hospital_region_code           10000 non-null  object \n",
      " 5   AvailableExtraRoomsinHospital  10000 non-null  float64\n",
      " 6   Department                     10000 non-null  object \n",
      " 7   Ward_Type                      10000 non-null  object \n",
      " 8   Ward_Facility_Code             10000 non-null  object \n",
      " 9   BedGrade                       9998 non-null   float64\n",
      " 10  patientid                      10000 non-null  float64\n",
      " 11  City_Code_Patient              9890 non-null   float64\n",
      " 12  TypeofAdmission                10000 non-null  object \n",
      " 13  SeverityofIllness              10000 non-null  object \n",
      " 14  VisitorswithPatient            10000 non-null  float64\n",
      " 15  Age                            10000 non-null  object \n",
      " 16  Admission_Deposit              10000 non-null  float64\n",
      " 17  Stay                           10000 non-null  object \n",
      "dtypes: float64(9), object(9)\n",
      "memory usage: 1.4+ MB\n",
      "None\n",
      "<class 'pandas.core.frame.DataFrame'>\n",
      "RangeIndex: 10000 entries, 0 to 9999\n",
      "Data columns (total 17 columns):\n",
      " #   Column                         Non-Null Count  Dtype  \n",
      "---  ------                         --------------  -----  \n",
      " 0   case_id                        10000 non-null  int64  \n",
      " 1   Hospital_code                  10000 non-null  int64  \n",
      " 2   Hospital_type_code             10000 non-null  object \n",
      " 3   City_Code_Hospital             10000 non-null  int64  \n",
      " 4   Hospital_region_code           10000 non-null  object \n",
      " 5   AvailableExtraRoomsinHospital  10000 non-null  int64  \n",
      " 6   Department                     10000 non-null  object \n",
      " 7   Ward_Type                      10000 non-null  object \n",
      " 8   Ward_Facility_Code             10000 non-null  object \n",
      " 9   BedGrade                       9997 non-null   float64\n",
      " 10  patientid                      10000 non-null  int64  \n",
      " 11  City_Code_Patient              9917 non-null   float64\n",
      " 12  TypeofAdmission                10000 non-null  object \n",
      " 13  SeverityofIllness              10000 non-null  object \n",
      " 14  VisitorswithPatient            10000 non-null  int64  \n",
      " 15  Age                            10000 non-null  object \n",
      " 16  Admission_Deposit              10000 non-null  int64  \n",
      "dtypes: float64(2), int64(7), object(8)\n",
      "memory usage: 1.3+ MB\n",
      "None\n"
     ]
    }
   ],
   "source": [
    "trainData=trainData.iloc[:10000, :]\n",
    "productionData=productionData.iloc[:10000,:]\n",
    "print(trainData.info())\n",
    "print(productionData.info())\n"
   ]
  },
  {
   "cell_type": "code",
   "execution_count": 82,
   "id": "efd181e1-fbcd-4075-b6d8-1fbbb34b3be1",
   "metadata": {
    "tags": []
   },
   "outputs": [
    {
     "data": {
      "text/plain": [
       "{'ResponseMetadata': {'RequestId': 'SK0VNV3MEC2E98JB',\n",
       "  'HostId': 'zr0+FM3mWZbK38sDFmAV4Hs1HRw95EgDeS++FpS2ppJZIDP+6fLsZW4Y6lE775Hnpfbx795tVyafMJl1NTWrxg==',\n",
       "  'HTTPStatusCode': 200,\n",
       "  'HTTPHeaders': {'x-amz-id-2': 'zr0+FM3mWZbK38sDFmAV4Hs1HRw95EgDeS++FpS2ppJZIDP+6fLsZW4Y6lE775Hnpfbx795tVyafMJl1NTWrxg==',\n",
       "   'x-amz-request-id': 'SK0VNV3MEC2E98JB',\n",
       "   'date': 'Sun, 20 Oct 2024 05:50:04 GMT',\n",
       "   'x-amz-server-side-encryption': 'AES256',\n",
       "   'etag': '\"d825f1201e27e2bf6958fb0b6ef5c285\"',\n",
       "   'server': 'AmazonS3',\n",
       "   'content-length': '0'},\n",
       "  'RetryAttempts': 0},\n",
       " 'ETag': '\"d825f1201e27e2bf6958fb0b6ef5c285\"',\n",
       " 'ServerSideEncryption': 'AES256'}"
      ]
     },
     "execution_count": 82,
     "metadata": {},
     "output_type": "execute_result"
    }
   ],
   "source": [
    "from io import StringIO\n",
    "import boto3\n",
    "\n",
    "# Convert DataFrame to CSV and store it in an in-memory buffer\n",
    "csv_buffer1 = StringIO()\n",
    "csv_buffer2 = StringIO()\n",
    "trainData.to_csv(csv_buffer1)\n",
    "productionData.to_csv(csv_buffer2)\n",
    "\n",
    "\n",
    "# Define bucket name and object keys (file paths within the bucket)\n",
    "bucket = 'sagemaker-us-east-1-361019805433'\n",
    "object_key_train = 'PatientLOS/data/trainData.csv'\n",
    "object_key_test = 'PatientLOS/data/productionData.csv'\n",
    "\n",
    "# Initialize the S3 client\n",
    "s3 = boto3.client('s3')\n",
    "\n",
    "# Upload the CSV to S3\n",
    "s3.put_object(Bucket=bucket, Key=object_key_train, Body=csv_buffer1.getvalue())\n",
    "s3.put_object(Bucket=bucket, Key=object_key_test, Body=csv_buffer2.getvalue())\n",
    "\n"
   ]
  },
  {
   "cell_type": "code",
   "execution_count": 83,
   "id": "ebe45831-6523-4849-a639-b3dc372c0617",
   "metadata": {
    "tags": []
   },
   "outputs": [
    {
     "name": "stdout",
     "output_type": "stream",
     "text": [
      "PatientLOS/data/productionData.csv\n",
      "PatientLOS/data/trainData.csv\n"
     ]
    }
   ],
   "source": [
    "import boto3\n",
    "\n",
    "s3 = boto3.client('s3')\n",
    "bucket = 'sagemaker-us-east-1-361019805433'\n",
    "prefix = 'PatientLOS/data/'\n",
    "\n",
    "response = s3.list_objects_v2(Bucket=bucket, Prefix=prefix)\n",
    "for obj in response.get('Contents', []):\n",
    "    print(obj['Key'])\n"
   ]
  },
  {
   "cell_type": "code",
   "execution_count": 85,
   "id": "5dd381a6-2f6a-4812-b51c-ab7ff3298c30",
   "metadata": {
    "tags": []
   },
   "outputs": [],
   "source": [
    " #code to delete files in th S3 bucket\n",
    "    \n",
    "#import boto3\n",
    "\n",
    "# Initialize the S3 client\n",
    "#s3 = boto3.client('s3')\n",
    "\n",
    "# Define the bucket and file keys to delete\n",
    "#bucket = 'sagemaker-us-east-1-361019805433'\n",
    "#files_to_delete = [\n",
    "#    'PatientLOS/data/productionData1.csv',\n",
    "#    'PatientLOS/data/trainData1.csv'\n",
    "#]\n",
    "\n",
    "# Loop through each file and delete it\n",
    "#for file_key in files_to_delete:\n",
    "#    response = s3.delete_object(Bucket=bucket, Key=file_key)\n",
    "#    print(f'Deleted: {file_key}')\n"
   ]
  },
  {
   "cell_type": "code",
   "execution_count": 84,
   "id": "ff2873c4-0c38-411f-86fc-cc319d52c4fe",
   "metadata": {},
   "outputs": [
    {
     "name": "stdout",
     "output_type": "stream",
     "text": [
      "   Unnamed: 0  case_id  Hospital_code Hospital_type_code  City_Code_Hospital  \\\n",
      "0           0      1.0            8.0                  c                 3.0   \n",
      "1           1      2.0            2.0                  c                 5.0   \n",
      "2           2      3.0           10.0                  e                 1.0   \n",
      "3           3      4.0           26.0                  b                 2.0   \n",
      "4           4      5.0           26.0                  b                 2.0   \n",
      "\n",
      "  Hospital_region_code  AvailableExtraRoomsinHospital    Department Ward_Type  \\\n",
      "0                    Z                            3.0  radiotherapy         R   \n",
      "1                    Z                            2.0  radiotherapy         S   \n",
      "2                    X                            2.0    anesthesia         S   \n",
      "3                    Y                            2.0  radiotherapy         R   \n",
      "4                    Y                            2.0  radiotherapy         S   \n",
      "\n",
      "  Ward_Facility_Code  BedGrade  patientid  City_Code_Patient TypeofAdmission  \\\n",
      "0                  F       2.0    31397.0                7.0       Emergency   \n",
      "1                  F       2.0    31397.0                7.0          Trauma   \n",
      "2                  E       2.0    31397.0                7.0          Trauma   \n",
      "3                  D       2.0    31397.0                7.0          Trauma   \n",
      "4                  D       2.0    31397.0                7.0          Trauma   \n",
      "\n",
      "  SeverityofIllness  VisitorswithPatient    Age  Admission_Deposit   Stay  \n",
      "0           Extreme                  2.0  51-60             4911.0   0-10  \n",
      "1           Extreme                  2.0  51-60             5954.0  41-50  \n",
      "2           Extreme                  2.0  51-60             4745.0  31-40  \n",
      "3           Extreme                  2.0  51-60             7272.0  41-50  \n",
      "4           Extreme                  2.0  51-60             5558.0  41-50  \n"
     ]
    }
   ],
   "source": [
    "# Fetch the CSV file from S3\n",
    "response = s3.get_object(Bucket=bucket, Key=object_key_train)\n",
    "\n",
    "# Read the contents of the file\n",
    "csv_content = response['Body'].read().decode('utf-8')\n",
    "\n",
    "# Use StringIO to convert the string data into a file-like object for pandas\n",
    "csv_buffer = StringIO(csv_content)\n",
    "\n",
    "# Load the CSV data into a pandas DataFrame\n",
    "trainData = pd.read_csv(csv_buffer)\n",
    "\n",
    "# Display the DataFrame\n",
    "print(trainData.head())                  "
   ]
  },
  {
   "cell_type": "markdown",
   "id": "b8f39f54-c68d-44b4-8102-ed75dc4c5ad9",
   "metadata": {},
   "source": [
    "# 2- Data Exploration and Cleaning"
   ]
  },
  {
   "cell_type": "code",
   "execution_count": 86,
   "id": "d5c7de19-1ab6-458e-a888-ce108ae51912",
   "metadata": {},
   "outputs": [
    {
     "data": {
      "text/plain": [
       "Unnamed: 0                         0\n",
       "case_id                            0\n",
       "Hospital_code                      0\n",
       "Hospital_type_code                 0\n",
       "City_Code_Hospital                 0\n",
       "Hospital_region_code               0\n",
       "AvailableExtraRoomsinHospital      0\n",
       "Department                         0\n",
       "Ward_Type                          0\n",
       "Ward_Facility_Code                 0\n",
       "BedGrade                           2\n",
       "patientid                          0\n",
       "City_Code_Patient                110\n",
       "TypeofAdmission                    0\n",
       "SeverityofIllness                  0\n",
       "VisitorswithPatient                0\n",
       "Age                                0\n",
       "Admission_Deposit                  0\n",
       "Stay                               0\n",
       "dtype: int64"
      ]
     },
     "execution_count": 86,
     "metadata": {},
     "output_type": "execute_result"
    }
   ],
   "source": [
    "trainData.isnull().sum()"
   ]
  },
  {
   "cell_type": "code",
   "execution_count": 87,
   "id": "8a6072c5-5bdc-439a-905b-c81a4a347433",
   "metadata": {},
   "outputs": [
    {
     "name": "stdout",
     "output_type": "stream",
     "text": [
      "<class 'pandas.core.frame.DataFrame'>\n",
      "RangeIndex: 10000 entries, 0 to 9999\n",
      "Data columns (total 19 columns):\n",
      " #   Column                         Non-Null Count  Dtype  \n",
      "---  ------                         --------------  -----  \n",
      " 0   Unnamed: 0                     10000 non-null  int64  \n",
      " 1   case_id                        10000 non-null  float64\n",
      " 2   Hospital_code                  10000 non-null  float64\n",
      " 3   Hospital_type_code             10000 non-null  object \n",
      " 4   City_Code_Hospital             10000 non-null  float64\n",
      " 5   Hospital_region_code           10000 non-null  object \n",
      " 6   AvailableExtraRoomsinHospital  10000 non-null  float64\n",
      " 7   Department                     10000 non-null  object \n",
      " 8   Ward_Type                      10000 non-null  object \n",
      " 9   Ward_Facility_Code             10000 non-null  object \n",
      " 10  BedGrade                       9998 non-null   float64\n",
      " 11  patientid                      10000 non-null  float64\n",
      " 12  City_Code_Patient              9890 non-null   float64\n",
      " 13  TypeofAdmission                10000 non-null  object \n",
      " 14  SeverityofIllness              10000 non-null  object \n",
      " 15  VisitorswithPatient            10000 non-null  float64\n",
      " 16  Age                            10000 non-null  object \n",
      " 17  Admission_Deposit              10000 non-null  float64\n",
      " 18  Stay                           10000 non-null  object \n",
      "dtypes: float64(9), int64(1), object(9)\n",
      "memory usage: 1.4+ MB\n"
     ]
    }
   ],
   "source": [
    "trainData.info()"
   ]
  },
  {
   "cell_type": "code",
   "execution_count": 88,
   "id": "fb263a24-cc89-4937-b023-2d165cd13ff9",
   "metadata": {},
   "outputs": [
    {
     "data": {
      "text/html": [
       "<div>\n",
       "<style scoped>\n",
       "    .dataframe tbody tr th:only-of-type {\n",
       "        vertical-align: middle;\n",
       "    }\n",
       "\n",
       "    .dataframe tbody tr th {\n",
       "        vertical-align: top;\n",
       "    }\n",
       "\n",
       "    .dataframe thead th {\n",
       "        text-align: right;\n",
       "    }\n",
       "</style>\n",
       "<table border=\"1\" class=\"dataframe\">\n",
       "  <thead>\n",
       "    <tr style=\"text-align: right;\">\n",
       "      <th></th>\n",
       "      <th>Unnamed: 0</th>\n",
       "      <th>case_id</th>\n",
       "      <th>Hospital_code</th>\n",
       "      <th>City_Code_Hospital</th>\n",
       "      <th>AvailableExtraRoomsinHospital</th>\n",
       "      <th>BedGrade</th>\n",
       "      <th>patientid</th>\n",
       "      <th>City_Code_Patient</th>\n",
       "      <th>VisitorswithPatient</th>\n",
       "      <th>Admission_Deposit</th>\n",
       "    </tr>\n",
       "  </thead>\n",
       "  <tbody>\n",
       "    <tr>\n",
       "      <th>count</th>\n",
       "      <td>10000.00000</td>\n",
       "      <td>10000.00000</td>\n",
       "      <td>10000.000000</td>\n",
       "      <td>10000.000000</td>\n",
       "      <td>10000.000000</td>\n",
       "      <td>9998.000000</td>\n",
       "      <td>10000.000000</td>\n",
       "      <td>9890.000000</td>\n",
       "      <td>10000.000000</td>\n",
       "      <td>10000.000000</td>\n",
       "    </tr>\n",
       "    <tr>\n",
       "      <th>mean</th>\n",
       "      <td>4999.50000</td>\n",
       "      <td>5000.50000</td>\n",
       "      <td>18.874100</td>\n",
       "      <td>4.726600</td>\n",
       "      <td>3.098700</td>\n",
       "      <td>2.642328</td>\n",
       "      <td>66672.653200</td>\n",
       "      <td>6.925480</td>\n",
       "      <td>3.324900</td>\n",
       "      <td>4956.996100</td>\n",
       "    </tr>\n",
       "    <tr>\n",
       "      <th>std</th>\n",
       "      <td>2886.89568</td>\n",
       "      <td>2886.89568</td>\n",
       "      <td>8.683351</td>\n",
       "      <td>3.215538</td>\n",
       "      <td>1.145639</td>\n",
       "      <td>0.854936</td>\n",
       "      <td>37533.890048</td>\n",
       "      <td>4.302686</td>\n",
       "      <td>1.874057</td>\n",
       "      <td>1050.393615</td>\n",
       "    </tr>\n",
       "    <tr>\n",
       "      <th>min</th>\n",
       "      <td>0.00000</td>\n",
       "      <td>1.00000</td>\n",
       "      <td>1.000000</td>\n",
       "      <td>1.000000</td>\n",
       "      <td>1.000000</td>\n",
       "      <td>1.000000</td>\n",
       "      <td>170.000000</td>\n",
       "      <td>1.000000</td>\n",
       "      <td>1.000000</td>\n",
       "      <td>1979.000000</td>\n",
       "    </tr>\n",
       "    <tr>\n",
       "      <th>25%</th>\n",
       "      <td>2499.75000</td>\n",
       "      <td>2500.75000</td>\n",
       "      <td>11.000000</td>\n",
       "      <td>2.000000</td>\n",
       "      <td>2.000000</td>\n",
       "      <td>2.000000</td>\n",
       "      <td>35299.250000</td>\n",
       "      <td>4.000000</td>\n",
       "      <td>2.000000</td>\n",
       "      <td>4278.000000</td>\n",
       "    </tr>\n",
       "    <tr>\n",
       "      <th>50%</th>\n",
       "      <td>4999.50000</td>\n",
       "      <td>5000.50000</td>\n",
       "      <td>21.000000</td>\n",
       "      <td>5.000000</td>\n",
       "      <td>3.000000</td>\n",
       "      <td>3.000000</td>\n",
       "      <td>67657.000000</td>\n",
       "      <td>8.000000</td>\n",
       "      <td>3.000000</td>\n",
       "      <td>4834.000000</td>\n",
       "    </tr>\n",
       "    <tr>\n",
       "      <th>75%</th>\n",
       "      <td>7499.25000</td>\n",
       "      <td>7500.25000</td>\n",
       "      <td>26.000000</td>\n",
       "      <td>7.000000</td>\n",
       "      <td>4.000000</td>\n",
       "      <td>3.000000</td>\n",
       "      <td>98863.000000</td>\n",
       "      <td>8.000000</td>\n",
       "      <td>4.000000</td>\n",
       "      <td>5471.000000</td>\n",
       "    </tr>\n",
       "    <tr>\n",
       "      <th>max</th>\n",
       "      <td>9999.00000</td>\n",
       "      <td>10000.00000</td>\n",
       "      <td>32.000000</td>\n",
       "      <td>13.000000</td>\n",
       "      <td>10.000000</td>\n",
       "      <td>4.000000</td>\n",
       "      <td>131507.000000</td>\n",
       "      <td>34.000000</td>\n",
       "      <td>24.000000</td>\n",
       "      <td>10314.000000</td>\n",
       "    </tr>\n",
       "  </tbody>\n",
       "</table>\n",
       "</div>"
      ],
      "text/plain": [
       "        Unnamed: 0      case_id  Hospital_code  City_Code_Hospital  \\\n",
       "count  10000.00000  10000.00000   10000.000000        10000.000000   \n",
       "mean    4999.50000   5000.50000      18.874100            4.726600   \n",
       "std     2886.89568   2886.89568       8.683351            3.215538   \n",
       "min        0.00000      1.00000       1.000000            1.000000   \n",
       "25%     2499.75000   2500.75000      11.000000            2.000000   \n",
       "50%     4999.50000   5000.50000      21.000000            5.000000   \n",
       "75%     7499.25000   7500.25000      26.000000            7.000000   \n",
       "max     9999.00000  10000.00000      32.000000           13.000000   \n",
       "\n",
       "       AvailableExtraRoomsinHospital     BedGrade      patientid  \\\n",
       "count                   10000.000000  9998.000000   10000.000000   \n",
       "mean                        3.098700     2.642328   66672.653200   \n",
       "std                         1.145639     0.854936   37533.890048   \n",
       "min                         1.000000     1.000000     170.000000   \n",
       "25%                         2.000000     2.000000   35299.250000   \n",
       "50%                         3.000000     3.000000   67657.000000   \n",
       "75%                         4.000000     3.000000   98863.000000   \n",
       "max                        10.000000     4.000000  131507.000000   \n",
       "\n",
       "       City_Code_Patient  VisitorswithPatient  Admission_Deposit  \n",
       "count        9890.000000         10000.000000       10000.000000  \n",
       "mean            6.925480             3.324900        4956.996100  \n",
       "std             4.302686             1.874057        1050.393615  \n",
       "min             1.000000             1.000000        1979.000000  \n",
       "25%             4.000000             2.000000        4278.000000  \n",
       "50%             8.000000             3.000000        4834.000000  \n",
       "75%             8.000000             4.000000        5471.000000  \n",
       "max            34.000000            24.000000       10314.000000  "
      ]
     },
     "execution_count": 88,
     "metadata": {},
     "output_type": "execute_result"
    }
   ],
   "source": [
    "trainData.describe()"
   ]
  },
  {
   "cell_type": "code",
   "execution_count": 89,
   "id": "2bcc245c-1b19-435c-9cef-74b337d967e5",
   "metadata": {},
   "outputs": [
    {
     "name": "stdout",
     "output_type": "stream",
     "text": [
      "0     5\n",
      "1     5\n",
      "2     5\n",
      "3     5\n",
      "4     5\n",
      "5     5\n",
      "6     5\n",
      "7     5\n",
      "8     5\n",
      "9     5\n",
      "10    5\n",
      "11    5\n",
      "12    5\n",
      "13    5\n",
      "14    7\n",
      "15    7\n",
      "16    7\n",
      "17    7\n",
      "18    7\n",
      "19    7\n",
      "Name: Age, dtype: object\n"
     ]
    }
   ],
   "source": [
    "# Change cateorical data to numerical\n",
    "#Convert the Age column into numerical or ordinal categories for better analysis.\n",
    "trainData['Age'] = trainData['Age'].replace({\n",
    "    '0-10': 0, '11-20': 1, '21-30': 2, '31-40': 3, \n",
    "    '41-50': 4, '51-60': 5, '61-70': 6, '71-80': 7, \n",
    "    '81-90': 8, '91-100': 9\n",
    "})\n",
    "\n",
    "print(trainData['Age'].head(20))"
   ]
  },
  {
   "cell_type": "code",
   "execution_count": 90,
   "id": "d87abc26-4d35-4b4c-a7f9-8d30fbc7055c",
   "metadata": {},
   "outputs": [
    {
     "name": "stderr",
     "output_type": "stream",
     "text": [
      "/tmp/ipykernel_138/852459186.py:2: FutureWarning: A value is trying to be set on a copy of a DataFrame or Series through chained assignment using an inplace method.\n",
      "The behavior will change in pandas 3.0. This inplace method will never work because the intermediate object on which we are setting values always behaves as a copy.\n",
      "\n",
      "For example, when doing 'df[col].method(value, inplace=True)', try using 'df.method({col: value}, inplace=True)' or df[col] = df[col].method(value) instead, to perform the operation inplace on the original object.\n",
      "\n",
      "\n",
      "  trainData['BedGrade'].fillna(trainData['BedGrade'].median(), inplace=True)\n"
     ]
    },
    {
     "data": {
      "text/plain": [
       "Unnamed: 0                       0\n",
       "case_id                          0\n",
       "Hospital_code                    0\n",
       "Hospital_type_code               0\n",
       "City_Code_Hospital               0\n",
       "Hospital_region_code             0\n",
       "AvailableExtraRoomsinHospital    0\n",
       "Department                       0\n",
       "Ward_Type                        0\n",
       "Ward_Facility_Code               0\n",
       "BedGrade                         0\n",
       "patientid                        0\n",
       "City_Code_Patient                0\n",
       "TypeofAdmission                  0\n",
       "SeverityofIllness                0\n",
       "VisitorswithPatient              0\n",
       "Age                              0\n",
       "Admission_Deposit                0\n",
       "Stay                             0\n",
       "dtype: int64"
      ]
     },
     "execution_count": 90,
     "metadata": {},
     "output_type": "execute_result"
    }
   ],
   "source": [
    "#imputation using median\n",
    "trainData['BedGrade'].fillna(trainData['BedGrade'].median(), inplace=True)\n",
    "trainData['City_Code_Patient'] = trainData.groupby('Hospital_region_code')['City_Code_Patient'].transform(lambda x: x.fillna(x.mode()[0]))\n",
    "trainData.isnull().sum()"
   ]
  },
  {
   "cell_type": "code",
   "execution_count": 93,
   "id": "e890a61e-cd31-414e-b014-7c9ffb603abb",
   "metadata": {},
   "outputs": [
    {
     "name": "stdout",
     "output_type": "stream",
     "text": [
      "   Unnamed: 0  case_id  Hospital_code  Hospital_type_code  City_Code_Hospital  \\\n",
      "0           0      1.0            8.0                   2                 3.0   \n",
      "1           1      2.0            2.0                   2                 5.0   \n",
      "2           2      3.0           10.0                   4                 1.0   \n",
      "3           3      4.0           26.0                   1                 2.0   \n",
      "4           4      5.0           26.0                   1                 2.0   \n",
      "\n",
      "   Hospital_region_code  AvailableExtraRoomsinHospital  Department  Ward_Type  \\\n",
      "0                     2                            3.0           3          2   \n",
      "1                     2                            2.0           3          3   \n",
      "2                     0                            2.0           1          3   \n",
      "3                     1                            2.0           3          2   \n",
      "4                     1                            2.0           3          3   \n",
      "\n",
      "   Ward_Facility_Code  BedGrade  patientid  City_Code_Patient  \\\n",
      "0                   5       2.0    31397.0                7.0   \n",
      "1                   5       2.0    31397.0                7.0   \n",
      "2                   4       2.0    31397.0                7.0   \n",
      "3                   3       2.0    31397.0                7.0   \n",
      "4                   3       2.0    31397.0                7.0   \n",
      "\n",
      "   TypeofAdmission  SeverityofIllness  VisitorswithPatient  Age  \\\n",
      "0                0                  0                  2.0    5   \n",
      "1                1                  0                  2.0    5   \n",
      "2                1                  0                  2.0    5   \n",
      "3                1                  0                  2.0    5   \n",
      "4                1                  0                  2.0    5   \n",
      "\n",
      "   Admission_Deposit  Stay  \n",
      "0             4911.0     0  \n",
      "1             5954.0     4  \n",
      "2             4745.0     3  \n",
      "3             7272.0     4  \n",
      "4             5558.0     4  \n",
      "Transformed columns: ['Hospital_type_code', 'Hospital_region_code', 'Department', 'Ward_Type', 'Ward_Facility_Code', 'TypeofAdmission', 'SeverityofIllness', 'Age', 'Stay']\n"
     ]
    }
   ],
   "source": [
    "from sklearn.preprocessing import LabelEncoder\n",
    "\n",
    "# Create a copy of the dataframe to apply transformations\n",
    "df_transformed = trainData.copy()\n",
    "\n",
    "# Identify the columns with dtype 'object'\n",
    "categorical_columns = df_transformed.select_dtypes(include=['object']).columns\n",
    "\n",
    "# Convert all the categorical columns to strings to ensure uniform data type\n",
    "df_transformed[categorical_columns] = df_transformed[categorical_columns].astype(str)\n",
    "\n",
    "# Initialize the LabelEncoder\n",
    "label_encoder = LabelEncoder()\n",
    "\n",
    "# Iterate over each categorical column and apply LabelEncoder\n",
    "for col in categorical_columns:\n",
    "    df_transformed[col] = label_encoder.fit_transform(df_transformed[col])\n",
    "\n",
    "# Display the first few rows to verify the transformation\n",
    "print(df_transformed.head())\n",
    "\n",
    "# Optionally, show which columns were transformed\n",
    "print(f\"Transformed columns: {categorical_columns.tolist()}\")"
   ]
  },
  {
   "cell_type": "code",
   "execution_count": 94,
   "id": "b23f95f5-4e5d-4d06-b197-3ee676117265",
   "metadata": {},
   "outputs": [
    {
     "data": {
      "image/png": "[encoded data removed]",
      "text/plain": [
       "<Figure size 1200x800 with 2 Axes>"
      ]
     },
     "metadata": {},
     "output_type": "display_data"
    }
   ],
   "source": [
    "import seaborn as sns\n",
    "import matplotlib.pyplot as plt\n",
    "\n",
    "# Drop non-numeric columns from the DataFrame\n",
    "df_transformed = df_transformed.select_dtypes(include=['number'])\n",
    "\n",
    "# Generate the correlation matrix (this will only include numeric columns)\n",
    "corr_matrix = df_transformed.corr()\n",
    "\n",
    "# Create a heatmap with the correlation matrix\n",
    "plt.figure(figsize=(12, 8))  # Optional: set the figure size\n",
    "sns.heatmap(corr_matrix, annot=True, cmap=\"coolwarm\", linewidths=0.5)\n",
    "\n",
    "# Display the plot\n",
    "plt.show()"
   ]
  },
  {
   "cell_type": "code",
   "execution_count": null,
   "id": "cdb0838c-d6d2-49e4-88fe-32fd0952ac1a",
   "metadata": {},
   "outputs": [],
   "source": []
  },
  {
   "cell_type": "markdown",
   "id": "c3339231-f092-4519-9a13-1fea214851b5",
   "metadata": {},
   "source": [
    "# Store processed data to S3 "
   ]
  },
  {
   "cell_type": "code",
   "execution_count": 95,
   "id": "b8288ef2-be67-49dc-9d13-63c460a6647b",
   "metadata": {},
   "outputs": [
    {
     "data": {
      "text/plain": [
       "{'ResponseMetadata': {'RequestId': '5Y3FRAYGA7YSVFMS',\n",
       "  'HostId': 'lLrujHJUZu0EF+VvpOVt9Gb67eFyfwxyOQWATZptscUm2dbIt4v4RUJ9OaJCXnRLIPqJQc3vWaIZdW40O2Vtt8YCcTrS3vRqRg99Oa+jL2E=',\n",
       "  'HTTPStatusCode': 200,\n",
       "  'HTTPHeaders': {'x-amz-id-2': 'lLrujHJUZu0EF+VvpOVt9Gb67eFyfwxyOQWATZptscUm2dbIt4v4RUJ9OaJCXnRLIPqJQc3vWaIZdW40O2Vtt8YCcTrS3vRqRg99Oa+jL2E=',\n",
       "   'x-amz-request-id': '5Y3FRAYGA7YSVFMS',\n",
       "   'date': 'Sun, 20 Oct 2024 05:54:21 GMT',\n",
       "   'x-amz-server-side-encryption': 'AES256',\n",
       "   'etag': '\"828982193dd5df792232a65d2bad0f38\"',\n",
       "   'server': 'AmazonS3',\n",
       "   'content-length': '0'},\n",
       "  'RetryAttempts': 0},\n",
       " 'ETag': '\"828982193dd5df792232a65d2bad0f38\"',\n",
       " 'ServerSideEncryption': 'AES256'}"
      ]
     },
     "execution_count": 95,
     "metadata": {},
     "output_type": "execute_result"
    }
   ],
   "source": [
    "# This needs to change to our variables names, save train, validate, and test data\n",
    "from io import StringIO\n",
    "csv_buffer = StringIO()\n",
    "df_transformed.to_csv(csv_buffer)\n",
    "\n",
    "object_key_transformed = 'PatientLOS/data/transformedData.csv'\n",
    "\n",
    "s3.put_object(Bucket=bucket, Key=object_key_transformed, Body=csv_buffer.getvalue())"
   ]
  },
  {
   "cell_type": "markdown",
   "id": "bb3193d5-8339-4484-bfae-a172aa1bb5d9",
   "metadata": {},
   "source": [
    "# Create Athena database"
   ]
  },
  {
   "cell_type": "code",
   "execution_count": 96,
   "id": "a0e2816f-2114-40b5-9b15-44265c27539b",
   "metadata": {},
   "outputs": [
    {
     "name": "stdout",
     "output_type": "stream",
     "text": [
      "\u001b[33mWARNING: Running pip as the 'root' user can result in broken permissions and conflicting behaviour with the system package manager. It is recommended to use a virtual environment instead: https://pip.pypa.io/warnings/venv\u001b[0m\u001b[33m\n",
      "\u001b[0m"
     ]
    }
   ],
   "source": [
    "!pip install -q PyAthena"
   ]
  },
  {
   "cell_type": "code",
   "execution_count": 97,
   "id": "c154ce98-e996-4f84-a253-f2edeaa27a1b",
   "metadata": {},
   "outputs": [],
   "source": [
    "from pyathena import connect\n",
    "database_name = \"dsoawsfp\" # create database name"
   ]
  },
  {
   "cell_type": "code",
   "execution_count": 98,
   "id": "ea09bd8e-aee5-45b8-bab4-b7016c2f972f",
   "metadata": {},
   "outputs": [],
   "source": [
    "# Set S3 staging directory -- this is a temporary directory used for Athena queries\n",
    "s3_staging_dir = \"s3://{0}/athena/staging\".format(bucket)"
   ]
  },
  {
   "cell_type": "code",
   "execution_count": 99,
   "id": "195b4098-c472-497f-82e3-b3463be0e6fb",
   "metadata": {},
   "outputs": [],
   "source": [
    "conn = connect(region_name=region, s3_staging_dir=s3_staging_dir) # create connection"
   ]
  },
  {
   "cell_type": "code",
   "execution_count": 100,
   "id": "64009845-0684-4ef9-9a16-dadeda20f81d",
   "metadata": {},
   "outputs": [
    {
     "name": "stdout",
     "output_type": "stream",
     "text": [
      "CREATE DATABASE IF NOT EXISTS dsoawsfp\n"
     ]
    }
   ],
   "source": [
    "statement = \"CREATE DATABASE IF NOT EXISTS {}\".format(database_name) # Testing the database\n",
    "print(statement)"
   ]
  },
  {
   "cell_type": "code",
   "execution_count": 101,
   "id": "0f9e8beb-e123-48f6-9e1b-0c1ba71e86ca",
   "metadata": {},
   "outputs": [
    {
     "name": "stderr",
     "output_type": "stream",
     "text": [
      "/tmp/ipykernel_138/3803073958.py:3: UserWarning: pandas only supports SQLAlchemy connectable (engine/connection) or database string URI or sqlite3 DBAPI2 connection. Other DBAPI2 objects are not tested. Please consider using SQLAlchemy.\n",
      "  pd.read_sql(statement, conn)\n"
     ]
    },
    {
     "data": {
      "text/html": [
       "<div>\n",
       "<style scoped>\n",
       "    .dataframe tbody tr th:only-of-type {\n",
       "        vertical-align: middle;\n",
       "    }\n",
       "\n",
       "    .dataframe tbody tr th {\n",
       "        vertical-align: top;\n",
       "    }\n",
       "\n",
       "    .dataframe thead th {\n",
       "        text-align: right;\n",
       "    }\n",
       "</style>\n",
       "<table border=\"1\" class=\"dataframe\">\n",
       "  <thead>\n",
       "    <tr style=\"text-align: right;\">\n",
       "      <th></th>\n",
       "    </tr>\n",
       "  </thead>\n",
       "  <tbody>\n",
       "  </tbody>\n",
       "</table>\n",
       "</div>"
      ],
      "text/plain": [
       "Empty DataFrame\n",
       "Columns: []\n",
       "Index: []"
      ]
     },
     "execution_count": 101,
     "metadata": {},
     "output_type": "execute_result"
    }
   ],
   "source": [
    "import pandas as pd\n",
    "\n",
    "pd.read_sql(statement, conn)"
   ]
  },
  {
   "cell_type": "code",
   "execution_count": 102,
   "id": "aba85197-e34a-4cf2-94d4-ef801729fc1d",
   "metadata": {},
   "outputs": [
    {
     "name": "stderr",
     "output_type": "stream",
     "text": [
      "/tmp/ipykernel_138/3999478089.py:3: UserWarning: pandas only supports SQLAlchemy connectable (engine/connection) or database string URI or sqlite3 DBAPI2 connection. Other DBAPI2 objects are not tested. Please consider using SQLAlchemy.\n",
      "  df_show = pd.read_sql(statement, conn)\n"
     ]
    },
    {
     "data": {
      "text/html": [
       "<div>\n",
       "<style scoped>\n",
       "    .dataframe tbody tr th:only-of-type {\n",
       "        vertical-align: middle;\n",
       "    }\n",
       "\n",
       "    .dataframe tbody tr th {\n",
       "        vertical-align: top;\n",
       "    }\n",
       "\n",
       "    .dataframe thead th {\n",
       "        text-align: right;\n",
       "    }\n",
       "</style>\n",
       "<table border=\"1\" class=\"dataframe\">\n",
       "  <thead>\n",
       "    <tr style=\"text-align: right;\">\n",
       "      <th></th>\n",
       "      <th>database_name</th>\n",
       "    </tr>\n",
       "  </thead>\n",
       "  <tbody>\n",
       "    <tr>\n",
       "      <th>0</th>\n",
       "      <td>default</td>\n",
       "    </tr>\n",
       "    <tr>\n",
       "      <th>1</th>\n",
       "      <td>dsoawsfp</td>\n",
       "    </tr>\n",
       "  </tbody>\n",
       "</table>\n",
       "</div>"
      ],
      "text/plain": [
       "  database_name\n",
       "0       default\n",
       "1      dsoawsfp"
      ]
     },
     "execution_count": 102,
     "metadata": {},
     "output_type": "execute_result"
    }
   ],
   "source": [
    "statement = \"SHOW DATABASES\"\n",
    "\n",
    "df_show = pd.read_sql(statement, conn)\n",
    "df_show.head(5)"
   ]
  },
  {
   "cell_type": "markdown",
   "id": "2ddfe9d2-68fc-4ed3-acff-777024d2b429",
   "metadata": {},
   "source": [
    "# Create Feature Store"
   ]
  },
  {
   "cell_type": "code",
   "execution_count": 103,
   "id": "c114d9b8-c078-4b7b-92b9-8ba145629086",
   "metadata": {},
   "outputs": [],
   "source": [
    "from sagemaker.session import Session\n",
    "\n",
    "region = boto3.Session().region_name\n",
    "\n",
    "boto_session = boto3.Session(region_name=region)\n",
    "\n",
    "sagemaker_client = boto_session.client(service_name=\"sagemaker\", region_name=region)\n",
    "featurestore_runtime = boto_session.client(\n",
    "    service_name=\"sagemaker-featurestore-runtime\", region_name=region\n",
    ")\n",
    "\n",
    "feature_store_session = Session(\n",
    "    boto_session=boto_session,\n",
    "    sagemaker_client=sagemaker_client,\n",
    "    sagemaker_featurestore_runtime_client=featurestore_runtime,\n",
    ")"
   ]
  },
  {
   "cell_type": "code",
   "execution_count": 104,
   "id": "c3b5740c-0056-4b10-8d60-e75cc0e95c16",
   "metadata": {},
   "outputs": [
    {
     "name": "stdout",
     "output_type": "stream",
     "text": [
      "sagemaker-us-east-1-361019805433\n"
     ]
    }
   ],
   "source": [
    "# declare bucket name\n",
    "default_s3_bucket_name = feature_store_session.default_bucket()\n",
    "prefix = \"sagemaker-featurestore-hospitalLOS\"\n",
    "\n",
    "print(default_s3_bucket_name)"
   ]
  },
  {
   "cell_type": "code",
   "execution_count": 105,
   "id": "d92d0cf8-1c49-4881-b6c2-bff28277ebb2",
   "metadata": {},
   "outputs": [
    {
     "name": "stdout",
     "output_type": "stream",
     "text": [
      "arn:aws:iam::361019805433:role/LabRole\n"
     ]
    }
   ],
   "source": [
    "from sagemaker import get_execution_role\n",
    "\n",
    "# call for the role information.\n",
    "role = get_execution_role()\n",
    "print(role)"
   ]
  },
  {
   "cell_type": "code",
   "execution_count": 111,
   "id": "b4e2d362-e4c3-4a7d-bbf0-15b663097978",
   "metadata": {},
   "outputs": [],
   "source": [
    "# Set Athena parameters\n",
    "database_name = \"dsoawsfp\"\n",
    "table_name_csv = object_key_transformed"
   ]
  },
  {
   "cell_type": "code",
   "execution_count": 112,
   "id": "aa63e226-c3f4-45ae-af45-7101c0ab076c",
   "metadata": {},
   "outputs": [
    {
     "name": "stdout",
     "output_type": "stream",
     "text": [
      "SELECT * FROM dsoawsfp.PatientLOS/data/transformedData.csv\n",
      "    ORDER BY timestamp\n"
     ]
    }
   ],
   "source": [
    "statement = \"\"\"SELECT * FROM {}.{}\n",
    "    ORDER BY timestamp\"\"\".format(\n",
    "    database_name, table_name_csv\n",
    ")\n",
    "\n",
    "print(statement)"
   ]
  },
  {
   "cell_type": "markdown",
   "id": "3fb7d629-618a-437b-a917-f44fed298c57",
   "metadata": {},
   "source": [
    "# Model Benchmarking"
   ]
  },
  {
   "cell_type": "markdown",
   "id": "c0804201-6ac3-40ac-91fa-3b42076981e7",
   "metadata": {},
   "source": [
    "## Basline SVM Model"
   ]
  },
  {
   "cell_type": "code",
   "execution_count": 117,
   "id": "b3e39a75-ef0f-405c-b7f2-db13d551deed",
   "metadata": {
    "tags": []
   },
   "outputs": [],
   "source": [
    "import numpy as np\n",
    "# data split in three sets, training, validation and batch inference\n",
    "rand_split = np.random.rand(len(df_transformed))\n",
    "train_list = rand_split < 0.66\n",
    "val_list = (rand_split >= 0.66) & (rand_split < 0.83)\n",
    "test_list = rand_split >= 0.83"
   ]
  },
  {
   "cell_type": "code",
   "execution_count": 123,
   "id": "eb0ec9a0-7de6-44ca-84f4-aaa4948f81cd",
   "metadata": {},
   "outputs": [
    {
     "name": "stdout",
     "output_type": "stream",
     "text": [
      "Validation Accuracy: 40.40%\n",
      "Test Accuracy: 41.56%\n"
     ]
    }
   ],
   "source": [
    "from sklearn.svm import SVC\n",
    "from sklearn.metrics import accuracy_score\n",
    "from sklearn.preprocessing import StandardScaler\n",
    "\n",
    "# Since 'Stay' is the target variable (y) and the rest are features (X)\n",
    "X = df_transformed.drop(columns=['Stay'])  # Drop the target column\n",
    "y = df_transformed['Stay']  # Target column\n",
    "\n",
    "# Split the dataset based on your train, validation, and test lists\n",
    "X_train = X[train_list]\n",
    "y_train = y[train_list]\n",
    "\n",
    "X_val = X[val_list]\n",
    "y_val = y[val_list]\n",
    "\n",
    "X_test = X[test_list]\n",
    "y_test = y[test_list]\n",
    "\n",
    "# Standardize the data (SVM works better with scaled data)\n",
    "scaler = StandardScaler()\n",
    "\n",
    "X_train_scaled = scaler.fit_transform(X_train)\n",
    "X_val_scaled = scaler.transform(X_val)\n",
    "X_test_scaled = scaler.transform(X_test)\n",
    "\n",
    "# Initialize the SVM classifier\n",
    "svm_model = SVC(kernel='linear')  # You can also experiment with other kernels like 'rbf' or 'poly'\n",
    "\n",
    "# Train the SVM model on the training set\n",
    "svm_model.fit(X_train_scaled, y_train)\n",
    "\n",
    "# Validate the model on the validation set\n",
    "y_val_pred = svm_model.predict(X_val_scaled)\n",
    "val_accuracy = accuracy_score(y_val, y_val_pred)\n",
    "print(f\"Validation Accuracy: {val_accuracy * 100:.2f}%\")\n",
    "\n",
    "# Test the model on the test set\n",
    "y_test_pred = svm_model.predict(X_test_scaled)\n",
    "test_accuracysvm = accuracy_score(y_test, y_test_pred)\n",
    "print(f\"Test Accuracy: {test_accuracysvm * 100:.2f}%\")"
   ]
  },
  {
   "cell_type": "markdown",
   "id": "27871653-1ae4-4cd5-8df8-d23efc816146",
   "metadata": {},
   "source": [
    "## Xgboost Model"
   ]
  },
  {
   "cell_type": "code",
   "execution_count": 120,
   "id": "c66debbe-a13f-4ece-957e-81e0c429f288",
   "metadata": {},
   "outputs": [
    {
     "name": "stdout",
     "output_type": "stream",
     "text": [
      "Collecting xgboost\n",
      "  Downloading xgboost-2.1.1-py3-none-manylinux_2_28_x86_64.whl.metadata (2.1 kB)\n",
      "Requirement already satisfied: numpy in /opt/conda/lib/python3.10/site-packages (from xgboost) (1.26.4)\n",
      "Collecting nvidia-nccl-cu12 (from xgboost)\n",
      "  Downloading nvidia_nccl_cu12-2.23.4-py3-none-manylinux2014_x86_64.whl.metadata (1.8 kB)\n",
      "Requirement already satisfied: scipy in /opt/conda/lib/python3.10/site-packages (from xgboost) (1.13.0)\n",
      "Downloading xgboost-2.1.1-py3-none-manylinux_2_28_x86_64.whl (153.9 MB)\n",
      "\u001b[2K   \u001b[90m━━━━━━━━━━━━━━━━━━━━━━━━━━━━━━━━━━━━━━━━\u001b[0m \u001b[32m153.9/153.9 MB\u001b[0m \u001b[31m7.9 MB/s\u001b[0m eta \u001b[36m0:00:00\u001b[0m:00:01\u001b[0m00:01\u001b[0m\n",
      "\u001b[?25hDownloading nvidia_nccl_cu12-2.23.4-py3-none-manylinux2014_x86_64.whl (199.0 MB)\n",
      "\u001b[2K   \u001b[90m━━━━━━━━━━━━━━━━━━━━━━━━━━━━━━━━━━━━━━━━\u001b[0m \u001b[32m199.0/199.0 MB\u001b[0m \u001b[31m5.9 MB/s\u001b[0m eta \u001b[36m0:00:00\u001b[0m:00:01\u001b[0m00:01\u001b[0m\n",
      "\u001b[?25hInstalling collected packages: nvidia-nccl-cu12, xgboost\n",
      "Successfully installed nvidia-nccl-cu12-2.23.4 xgboost-2.1.1\n",
      "\u001b[33mWARNING: Running pip as the 'root' user can result in broken permissions and conflicting behaviour with the system package manager. It is recommended to use a virtual environment instead: https://pip.pypa.io/warnings/venv\u001b[0m\u001b[33m\n",
      "\u001b[0m"
     ]
    }
   ],
   "source": [
    "!pip install xgboost"
   ]
  },
  {
   "cell_type": "code",
   "execution_count": 125,
   "id": "2b81f924-aa83-435e-a7cb-861d17e010ca",
   "metadata": {},
   "outputs": [
    {
     "name": "stdout",
     "output_type": "stream",
     "text": [
      "XGBoost Validation Accuracy: 40.46%\n",
      "XGBoost Test Accuracy: 43.02%\n",
      "SVM Test Accuracy (from previous result): 41.56%\n"
     ]
    }
   ],
   "source": [
    "import xgboost as xgb\n",
    "from sklearn.metrics import accuracy_score\n",
    "from sklearn.metrics import accuracy_score\n",
    "from sklearn.preprocessing import StandardScaler\n",
    "\n",
    "# Standardize the data (SVM works better with scaled data)\n",
    "scaler = StandardScaler()\n",
    "\n",
    "X_train_scaled = scaler.fit_transform(X_train)\n",
    "X_val_scaled = scaler.transform(X_val)\n",
    "X_test_scaled = scaler.transform(X_test)\n",
    "# Initialize and train the XGBoost model\n",
    "xgb_model = xgb.XGBClassifier(objective='multi:softmax', num_class=len(y.unique()))\n",
    "\n",
    "# Train the XGBoost model on the training set\n",
    "xgb_model.fit(X_train_scaled, y_train)\n",
    "\n",
    "# Validate the model on the validation set\n",
    "y_val_pred = xgb_model.predict(X_val_scaled)\n",
    "val_accuracy = accuracy_score(y_val, y_val_pred)\n",
    "print(f\"XGBoost Validation Accuracy: {val_accuracy * 100:.2f}%\")\n",
    "\n",
    "# Test the model on the test set\n",
    "y_test_pred = xgb_model.predict(X_test_scaled)\n",
    "test_accuracyxgb = accuracy_score(y_test, y_test_pred)\n",
    "print(f\"XGBoost Test Accuracy: {test_accuracyxgb * 100:.2f}%\")\n",
    "\n",
    "# Compare the accuracy with the SVM model accuracy\n",
    "print(f\"SVM Test Accuracy (from previous result): {test_accuracysvm * 100:.2f}%\")"
   ]
  },
  {
   "cell_type": "markdown",
   "id": "257b6470-028f-46d7-9477-61aad9cebb54",
   "metadata": {},
   "source": [
    "# Ci/CD Pipeline"
   ]
  },
  {
   "cell_type": "code",
   "execution_count": 114,
   "id": "dc8c6a21-e501-4e15-9901-5b9d0713df30",
   "metadata": {},
   "outputs": [],
   "source": [
    "#!pip install -U sagemaker"
   ]
  },
  {
   "cell_type": "code",
   "execution_count": 437,
   "id": "f0b69954-8417-4f22-9391-2c3eb374aa82",
   "metadata": {},
   "outputs": [],
   "source": [
    "import sys\n",
    "from io import StringIO\n",
    "import pandas as pd\n",
    "import boto3\n",
    "import sagemaker\n",
    "from sagemaker.workflow.pipeline_context import PipelineSession\n",
    "\n",
    "sagemaker_session = sagemaker.session.Session()\n",
    "region = sagemaker_session.boto_region_name\n",
    "role = sagemaker.get_execution_role()\n",
    "pipeline_session = PipelineSession()\n",
    "default_bucket = sagemaker_session.default_bucket()\n",
    "model_package_group_name = f\"HospitalLOS\""
   ]
  },
  {
   "cell_type": "code",
   "execution_count": 438,
   "id": "cce86d32-dd67-4382-9227-ed5d950bc7ca",
   "metadata": {
    "tags": []
   },
   "outputs": [
    {
     "name": "stdout",
     "output_type": "stream",
     "text": [
      "s3://sagemaker-us-east-1-361019805433/HospitalLOS/traindata_medium.csv\n"
     ]
    }
   ],
   "source": [
    "s3 = boto3.resource(\"s3\")\n",
    "local_path_train='traindata_medium.csv'\n",
    "base_uri = f\"s3://{default_bucket}/HospitalLOS\"\n",
    "input_data_uri = sagemaker.s3.S3Uploader.upload(\n",
    "    local_path=local_path_train,\n",
    "    desired_s3_uri=base_uri,\n",
    ")\n",
    "print(input_data_uri)"
   ]
  },
  {
   "cell_type": "code",
   "execution_count": 439,
   "id": "cffb76dc-ed6e-45c3-9073-b3d5524162ee",
   "metadata": {
    "tags": []
   },
   "outputs": [
    {
     "name": "stdout",
     "output_type": "stream",
     "text": [
      "s3://sagemaker-us-east-1-361019805433/HospitalLOS/test.csv\n"
     ]
    }
   ],
   "source": [
    "local_path_test = \"test.csv\"\n",
    "\n",
    "s3 = boto3.resource(\"s3\")\n",
    "\n",
    "base_uri = f\"s3://{default_bucket}/HospitalLOS\"\n",
    "batch_data_uri = sagemaker.s3.S3Uploader.upload(\n",
    "    local_path=local_path_test,\n",
    "    desired_s3_uri=base_uri,\n",
    ")\n",
    "print(batch_data_uri)"
   ]
  },
  {
   "cell_type": "code",
   "execution_count": 440,
   "id": "68aeac7c-8567-47c0-a851-fa3d401ec7f3",
   "metadata": {
    "tags": []
   },
   "outputs": [
    {
     "name": "stdout",
     "output_type": "stream",
     "text": [
      "HospitalLOS/test.csv\n",
      "HospitalLOS/traindata_medium.csv\n"
     ]
    }
   ],
   "source": [
    "import boto3\n",
    "\n",
    "s3_client = boto3.client('s3')\n",
    "\n",
    "\n",
    "response = s3_client.list_objects_v2(Bucket=default_bucket, Prefix='HospitalLOS')\n",
    "for obj in response.get('Contents', []):\n",
    "    print(obj['Key'])"
   ]
  },
  {
   "cell_type": "code",
   "execution_count": 441,
   "id": "c070e7e8-db07-4d79-a158-e258c69b2ff6",
   "metadata": {},
   "outputs": [],
   "source": [
    "# Define Pipeline parameters\n",
    "from sagemaker.workflow.parameters import (\n",
    "    ParameterInteger,\n",
    "    ParameterString,\n",
    "    ParameterFloat,\n",
    ")\n",
    "\n",
    "processing_instance_count = ParameterInteger(name=\"ProcessingInstanceCount\", default_value=1)\n",
    "instance_type = ParameterString(name=\"TrainingInstanceType\", default_value=\"ml.m5.xlarge\")\n",
    "model_approval_status = ParameterString(\n",
    "    name=\"ModelApprovalStatus\", default_value=\"PendingManualApproval\"\n",
    ")\n",
    "input_data = ParameterString(\n",
    "    name=\"InputData\",\n",
    "    default_value=input_data_uri,\n",
    ")\n",
    "batch_data = ParameterString(\n",
    "    name=\"BatchData\",\n",
    "    default_value=batch_data_uri,\n",
    ")\n",
    "Accuracy_threshold = ParameterFloat(name=\"Accuracy_Error\", default_value=0.6)"
   ]
  },
  {
   "cell_type": "code",
   "execution_count": 442,
   "id": "cec64264-68f4-422f-92e8-51150e03529e",
   "metadata": {
    "tags": []
   },
   "outputs": [],
   "source": [
    "#pip install --upgrade sagemaker\n"
   ]
  },
  {
   "cell_type": "code",
   "execution_count": 443,
   "id": "bf4dd01a-3b20-4054-8148-278bcffd6de3",
   "metadata": {
    "tags": []
   },
   "outputs": [],
   "source": [
    "from sagemaker.model_card import ModelCard"
   ]
  },
  {
   "cell_type": "code",
   "execution_count": 444,
   "id": "28a9241a-8f05-47e6-ab32-77533802a713",
   "metadata": {
    "tags": []
   },
   "outputs": [],
   "source": [
    "# %%writefile opt/ml/processing/preprocessing.py\n",
    "# import argparse\n",
    "# import os\n",
    "# import requests\n",
    "# import tempfile\n",
    "\n",
    "# import numpy as np\n",
    "# import pandas as pd\n",
    "\n",
    "# from sklearn.compose import ColumnTransformer\n",
    "# from sklearn.impute import SimpleImputer\n",
    "# from sklearn.pipeline import Pipeline\n",
    "# from sklearn.preprocessing import StandardScaler, OneHotEncoder\n",
    "\n",
    "\n",
    "# # Since we get a headerless CSV file, we specify the column names here.\n",
    "# # feature_columns_names = [\n",
    "# #     \"case_id\" ,                          \n",
    "# #     \"Hospital_code\",\n",
    "# #     \"Hospital_type_code\",\n",
    "# #     \"City_Code_Hospital\",\n",
    "# #     \"Hospital_region_code\",\n",
    "# #     \"AvailableExtraRoomsinHospital\",\n",
    "# #     \"Department\", \n",
    "# #     \"Ward_Type\",\n",
    "# #     \"Ward_Facility_Code\",\n",
    "# #     \"BedGrade\",\n",
    "# #     \"patientid\",\n",
    "# #     \"City_Code_Patient\",\n",
    "# #     \"TypeofAdmission\",\n",
    "# #     \"SeverityofIllness\",\n",
    "# #     \"VisitorswithPatient\",\n",
    "# #     \"Age\",\n",
    "# #     \"Admission_Deposit\" \n",
    "# # ]\n",
    "# # label_column = \"Stay\"\n",
    " \n",
    "#  # 1   case_id                        10000 non-null  float64\n",
    "#  # 2   Hospital_code                  10000 non-null  float64\n",
    "#  # 3   Hospital_type_code             10000 non-null  object \n",
    "#  # 4   City_Code_Hospital             10000 non-null  float64\n",
    "#  # 5   Hospital_region_code           10000 non-null  object \n",
    "#  # 6   AvailableExtraRoomsinHospital  10000 non-null  float64\n",
    "#  # 7   Department                     10000 non-null  object \n",
    "#  # 8   Ward_Type                      10000 non-null  object \n",
    "#  # 9   Ward_Facility_Code             10000 non-null  object \n",
    "#  # 10  BedGrade                       9998 non-null   float64\n",
    "#  # 11  patientid                      10000 non-null  float64\n",
    "#  # 12  City_Code_Patient              9890 non-null   float64\n",
    "#  # 13  TypeofAdmission                10000 non-null  object \n",
    "#  # 14  SeverityofIllness              10000 non-null  object \n",
    "#  # 15  VisitorswithPatient            10000 non-null  float64\n",
    "#  # 16  Age                            10000 non-null  object \n",
    "#  # 17  Admission_Deposit              10000 non-null  float64\n",
    "#  # 18  Stay                           10000 non-null  object \n",
    "# # feature_columns_dtype = {\n",
    "# #     \"case_id\": np.float64,                         \n",
    "# #     \"Hospital_code\": np.float64,\n",
    "# #     \"Hospital_type_code\": pd.CategoricalDtype(),  # Use CategoricalDtype for categorical columns\n",
    "# #     \"City_Code_Hospital\": np.float64,\n",
    "# #     \"Hospital_region_code\": pd.CategoricalDtype(),\n",
    "# #     \"AvailableExtraRoomsinHospital\": np.float64,\n",
    "# #     \"Department\": pd.CategoricalDtype(), \n",
    "# #     \"Ward_Type\": pd.CategoricalDtype(),\n",
    "# #     \"Ward_Facility_Code\": pd.CategoricalDtype(),\n",
    "# #     \"BedGrade\": np.float64,\n",
    "# #     \"patientid\": np.float64,\n",
    "# #     \"City_Code_Patient\": np.float64,\n",
    "# #     \"TypeofAdmission\": pd.CategoricalDtype(),\n",
    "# #     \"SeverityofIllness\": pd.CategoricalDtype(),\n",
    "# #     \"VisitorswithPatient\": np.float64,\n",
    "# #     \"Age\": pd.CategoricalDtype(),  # Use categorical for age if it's in brackets\n",
    "# #     \"Admission_Deposit\": np.float64\n",
    "# # }\n",
    "\n",
    "# #label_column_dtype = {\"Stay\": pd.CategoricalDtype()}\n",
    "\n",
    "# # def merge_two_dicts(x, y):\n",
    "# #     z = x.copy()\n",
    "# #     z.update(y)\n",
    "# #     return z\n",
    "\n",
    "\n",
    "# if __name__ == \"__main__\":\n",
    "#    # base_dir = \"/opt/ml/processing\"\n",
    "# #        base_dir = \"/opt/ml/processing\"\n",
    "\n",
    "\n",
    "#     # df = pd.read_csv(\n",
    "#     #     \"opt/ml/processing/input/traindata_medium.csv\",\n",
    "#     #     names=feature_columns_names + [label_column],\n",
    "#     #     dtype=merge_two_dicts(feature_columns_dtype, label_column_dtype),\n",
    "#     # )\n",
    "#     df.read_csv(\"opt/ml/processing/input/traindata_medium.csv\")\n",
    "#     print(df.head())\n",
    "#  #   numeric_features = list(feature_columns_names)\n",
    "#  #   numeric_transformer = Pipeline(\n",
    "#  #   steps=[(\"imputer\", SimpleImputer(strategy=\"median\")), (\"scaler\", StandardScaler())]\n",
    "#  #   )\n",
    "\n",
    "#     categorical_features = [\"Hospital_type_code\",\"Hospital_region_code\",\"Department\",\"Ward_Type\",\"Ward_Facility_Code\",\"TypeofAdmission\",\"SeverityofIllness\",\"Age\",\"Stay\"]\n",
    "#     categorical_transformer = Pipeline(\n",
    "#         steps=[\n",
    "#             (\"imputer\", SimpleImputer(strategy=\"constant\", fill_value=\"missing\")),\n",
    "#             (\"onehot\", OneHotEncoder(handle_unknown=\"ignore\")),\n",
    "#         ]\n",
    "#     )\n",
    "\n",
    "#     preprocess = ColumnTransformer(\n",
    "#         transformers=[\n",
    "#             (\"num\", numeric_transformer, numeric_features),\n",
    "#             (\"cat\", categorical_transformer, categorical_features),\n",
    "#         ]\n",
    "#     )\n",
    "\n",
    "#     y = df.pop(\"Stay\")\n",
    "#     X_pre = preprocess.fit_transform(df)\n",
    "#     y_pre = y.to_numpy().reshape(len(y), 1)\n",
    "\n",
    "#     X = np.concatenate((y_pre, X_pre), axis=1)\n",
    "\n",
    "#     np.random.shuffle(X)\n",
    "#     train, validation, test = np.split(X, [int(0.6 * len(X)), int(0.80 * len(X))])\n",
    "\n",
    "#     pd.DataFrame(train).to_csv(\"input/train/train.csv\", header=False, index=False)\n",
    "#     pd.DataFrame(validation).to_csv(\n",
    "#         \"input/validation/validation.csv\", header=False, index=False\n",
    "#     )\n",
    "#     pd.DataFrame(test).to_csv(\"input/test/test.csv\", header=False, index=False)"
   ]
  },
  {
   "cell_type": "code",
   "execution_count": 445,
   "id": "36291fa9-2564-4261-865a-9a037e133478",
   "metadata": {
    "tags": []
   },
   "outputs": [],
   "source": [
    "# %%writefile opt/ml/processing/preprocessing.py\n",
    "# import argparse\n",
    "# import os\n",
    "# import requests\n",
    "# import tempfile\n",
    "\n",
    "# import numpy as np\n",
    "# import pandas as pd\n",
    "\n",
    "# from sklearn.compose import ColumnTransformer\n",
    "# from sklearn.impute import SimpleImputer\n",
    "# from sklearn.pipeline import Pipeline\n",
    "# from sklearn.preprocessing import StandardScaler, OneHotEncoder\n",
    "\n",
    "\n",
    "# # Read CSV file\n",
    "# if __name__ == \"__main__\":\n",
    "    \n",
    "#     # Reading the input CSV file\n",
    "#     df = pd.read_csv(\"/opt/ml/processing/input/traindata_medium.csv\")\n",
    "#     print(df.head())\n",
    "    \n",
    "#     # Remove rows with NaN values\n",
    "#     #df = df.dropna()  # This will remove all rows with any NaN values\n",
    "    \n",
    "#     #print(\"Data after removing NaN values:\")\n",
    "#     #print(df.head())\n",
    "    \n",
    "#     # Defining numerical and categorical features\n",
    "#     numeric_features = [\n",
    "#         \"case_id\", \"Hospital_code\", \"City_Code_Hospital\", \"AvailableExtraRoomsinHospital\",\n",
    "#         \"BedGrade\", \"patientid\", \"City_Code_Patient\", \"VisitorswithPatient\", \"Admission_Deposit\"\n",
    "#     ]\n",
    "    \n",
    "#     categorical_features = [\n",
    "#         \"Hospital_type_code\", \"Hospital_region_code\", \"Department\", \"Ward_Type\", \n",
    "#         \"Ward_Facility_Code\", \"TypeofAdmission\", \"SeverityofIllness\", \"Age\",'Stay'\n",
    "#     ]\n",
    "    \n",
    "#     # Pipeline for numerical features (imputation and scaling)\n",
    "#     numeric_transformer = Pipeline(\n",
    "#         steps=[\n",
    "#             (\"imputer\", SimpleImputer(strategy=\"median\")),\n",
    "#             (\"scaler\", StandardScaler())\n",
    "#         ]\n",
    "#     )\n",
    "    \n",
    "#     # Pipeline for categorical features (imputation and one-hot encoding)\n",
    "#     # categorical_transformer = Pipeline(\n",
    "#     #     steps=[\n",
    "#     #         (\"imputer\", SimpleImputer(strategy=\"constant\", fill_value=\"missing\")),\n",
    "#     #         (\"onehot\", OneHotEncoder(handle_unknown=\"ignore\"))\n",
    "#     #     ]\n",
    "#     # )\n",
    "#     categorical_transformer = Pipeline(\n",
    "#        steps=[\n",
    "#         (\"imputer\", SimpleImputer(strategy=\"constant\", fill_value=\"missing\")),\n",
    "#         (\"labelencoder\", OrdinalEncoder())  # Use OrdinalEncoder to convert categories to numerical labels\n",
    "#         ]\n",
    "#     )\n",
    "\n",
    "#     # Combine the transformers into a single preprocessing pipeline\n",
    "#     preprocess = ColumnTransformer(\n",
    "#         transformers=[\n",
    "#             (\"num\", numeric_transformer, numeric_features),\n",
    "#             (\"cat\", categorical_transformer, categorical_features)\n",
    "#         ]\n",
    "#     )\n",
    "    \n",
    "#     # Separating the target label\n",
    "#     #y = df.pop(\"Stay\")\n",
    "    \n",
    "#     # Fit the preprocessing pipeline and transform the input data\n",
    "#     df_pre=df.iloc[:10000, :]\n",
    "#     df_pre = preprocess.fit_transform(df_pre)\n",
    "#     # Convert the transformed data back to a DataFrame for easier manipulation (optional)\n",
    "#     df_pre_transformed_df = pd.DataFrame(df_pre_transformed)\n",
    "\n",
    "#     # Print the shape and first few rows of the transformed data\n",
    "#     print(\"Shape of df_pre_transformed:\", df_pre_transformed_df.shape)\n",
    "#     print(\"First 5 rows of the transformed data:\")\n",
    "#     print(df_pre_transformed_df.head())\n",
    "\n",
    "#     # Split the dataset based on random values for train, validation, and test\n",
    "#     rand_split = np.random.rand(len(df_pre_transformed_df))\n",
    "#     train_list = rand_split < 0.66\n",
    "#     val_list = (rand_split >= 0.66) & (rand_split < 0.83)\n",
    "#     test_list = rand_split >= 0.83\n",
    "\n",
    "#     # Split the dataset into train, validation, and test sets\n",
    "#     df_train = df_pre_transformed_df[train_list]\n",
    "#     df_val = df_pre_transformed_df[val_list]\n",
    "#     df_test = df_pre_transformed_df[test_list]    # Create directories for output if they don't exist\n",
    "#     os.makedirs(\"/opt/ml/processing/output/train\", exist_ok=True)\n",
    "#     os.makedirs(\"/opt/ml/processing/output/validation\", exist_ok=True)\n",
    "#     os.makedirs(\"/opt/ml/processing/output/test\", exist_ok=True)\n",
    "\n",
    "#     # Print confirmation of directory creation\n",
    "#     print(\"Directories created successfully.\")      \n",
    "\n",
    "#     # Save the processed data to CSV files\n",
    "#     pd.DataFrame(df_train).to_csv(\"/opt/ml/processing/output/train/train.csv\", index=False)\n",
    "#     pd.DataFrame(df_val).to_csv(\"/opt/ml/processing/output/validation/validation.csv\", index=False)\n",
    "#     pd.DataFrame(df_test).to_csv(\"/opt/ml/processing/output/test/test.csv\", index=False)\n"
   ]
  },
  {
   "cell_type": "code",
   "execution_count": 515,
   "id": "121caf97-420e-4e6e-8efc-742cd690fc2d",
   "metadata": {
    "tags": []
   },
   "outputs": [
    {
     "name": "stdout",
     "output_type": "stream",
     "text": [
      "Overwriting opt/ml/processing/preprocessing.py\n"
     ]
    }
   ],
   "source": [
    "%%writefile opt/ml/processing/preprocessing.py\n",
    "import argparse\n",
    "import os\n",
    "import requests\n",
    "import tempfile\n",
    "\n",
    "import numpy as np\n",
    "import pandas as pd\n",
    "\n",
    "from sklearn.compose import ColumnTransformer\n",
    "from sklearn.impute import SimpleImputer\n",
    "from sklearn.pipeline import Pipeline\n",
    "from sklearn.preprocessing import StandardScaler, OrdinalEncoder\n",
    "\n",
    "# Read CSV file\n",
    "if __name__ == \"__main__\":\n",
    "\n",
    "    # Reading the input CSV file\n",
    "    df = pd.read_csv(\"/opt/ml/processing/input/traindata_medium.csv\")\n",
    "    print(df.head())\n",
    "\n",
    "    # Defining numerical and categorical features\n",
    "    numeric_features = [\n",
    "        \"case_id\", \"Hospital_code\", \"City_Code_Hospital\", \"AvailableExtraRoomsinHospital\",\n",
    "        \"BedGrade\", \"patientid\", \"City_Code_Patient\", \"VisitorswithPatient\", \"Admission_Deposit\"\n",
    "    ]\n",
    "\n",
    "    categorical_features = [\n",
    "        \"Hospital_type_code\", \"Hospital_region_code\", \"Department\", \"Ward_Type\", \n",
    "        \"Ward_Facility_Code\", \"TypeofAdmission\", \"SeverityofIllness\", \"Age\", 'Stay'\n",
    "    ]\n",
    "\n",
    "    # Pipeline for numerical features (imputation and scaling)\n",
    "    numeric_transformer = Pipeline(\n",
    "        steps=[\n",
    "            (\"imputer\", SimpleImputer(strategy=\"median\")),\n",
    "            (\"scaler\", StandardScaler())\n",
    "        ]\n",
    "    )\n",
    "\n",
    "    # Pipeline for categorical features (imputation and label encoding)\n",
    "    categorical_transformer = Pipeline(\n",
    "        steps=[\n",
    "            (\"imputer\", SimpleImputer(strategy=\"constant\", fill_value=\"missing\")),\n",
    "            (\"labelencoder\", OrdinalEncoder())  # Use OrdinalEncoder to convert categories to numerical labels\n",
    "        ]\n",
    "    )\n",
    "\n",
    "    # Combine the transformers into a single preprocessing pipeline\n",
    "    preprocess = ColumnTransformer(\n",
    "        transformers=[\n",
    "            (\"num\", numeric_transformer, numeric_features),\n",
    "            (\"cat\", categorical_transformer, categorical_features)\n",
    "        ]\n",
    "    )\n",
    "\n",
    "    # Sample a subset of the data for preprocessing (first 10,000 rows)\n",
    "    df_pre = df.iloc[:10000, :]\n",
    "\n",
    "    # Fit the preprocessing pipeline and transform the input data\n",
    "    df_pre_transformed = preprocess.fit_transform(df_pre)\n",
    "\n",
    "    # Convert the transformed data back to a DataFrame for easier manipulation (optional)\n",
    "    df_pre_transformed_df = pd.DataFrame(df_pre_transformed)\n",
    "\n",
    "    # Print the shape and first few rows of the transformed data\n",
    "    print(\"Shape of df_pre_transformed:\", df_pre_transformed_df.shape)\n",
    "    print(\"First 5 rows of the transformed data:\")\n",
    "    print(df_pre_transformed_df.head())\n",
    "\n",
    "    # Split the dataset based on random values for train, validation, and test\n",
    "    rand_split = np.random.rand(len(df_pre_transformed_df))\n",
    "    train_list = rand_split < 0.66\n",
    "    val_list = (rand_split >= 0.66) & (rand_split < 0.83)\n",
    "    test_list = rand_split >= 0.83\n",
    "\n",
    "    # Split the dataset into train, validation, and test sets\n",
    "    df_train = df_pre_transformed_df[train_list]\n",
    "    df_val = df_pre_transformed_df[val_list]\n",
    "    df_test = df_pre_transformed_df[test_list]\n",
    "\n",
    "   # Create directories for output if they don't exist\n",
    "    output_dir_train = \"/opt/ml/processing/output/train\"\n",
    "    output_dir_validation = \"/opt/ml/processing/output/validation\"\n",
    "    output_dir_test = \"/opt/ml/processing/output/test\"\n",
    "    try:\n",
    "        os.makedirs(output_dir_train, exist_ok=True)\n",
    "        os.makedirs(output_dir_validation, exist_ok=True)\n",
    "        os.makedirs(output_dir_test, exist_ok=True)\n",
    "        print(\"Directories created successfully.\")\n",
    "    except Exception as e:\n",
    "        print(f\"Failed to create directories: {e}\")\n",
    "\n",
    "    # Save the processed data to CSV files\n",
    "    try:\n",
    "        train_file_path = os.path.join(output_dir_train, \"train.csv\")\n",
    "        validation_file_path = os.path.join(output_dir_validation, \"validation.csv\")\n",
    "        test_file_path = os.path.join(output_dir_test, \"test.csv\")\n",
    "\n",
    "        print(f\"Saving train data to {train_file_path}\")\n",
    "        df_train.to_csv(train_file_path, index=False)\n",
    "        print(\"Train data saved.\")\n",
    "\n",
    "        print(f\"Saving validation data to {validation_file_path}\")\n",
    "        df_val.to_csv(validation_file_path, index=False)\n",
    "        print(\"Validation data saved.\")\n",
    "\n",
    "        print(f\"Saving test data to {test_file_path}\")\n",
    "        df_test.to_csv(test_file_path, index=False)\n",
    "        print(\"Test data saved.\")\n",
    "    except Exception as e:\n",
    "        print(f\"Failed to save files: {e}\")\n"
   ]
  },
  {
   "cell_type": "code",
   "execution_count": 516,
   "id": "040896fb-5325-4628-b9ab-db384913d229",
   "metadata": {
    "tags": []
   },
   "outputs": [],
   "source": [
    "from sagemaker.model_card import (\n",
    "    ModelCard,\n",
    "    ModelPackageModelCard,\n",
    ")"
   ]
  },
  {
   "cell_type": "code",
   "execution_count": 517,
   "id": "612cc3b7-54d2-44d3-8a92-0a7d5aaf1945",
   "metadata": {
    "tags": []
   },
   "outputs": [
    {
     "name": "stderr",
     "output_type": "stream",
     "text": [
      "INFO:sagemaker.image_uris:Defaulting to only available Python version: py3\n"
     ]
    }
   ],
   "source": [
    "from sagemaker.sklearn.processing import SKLearnProcessor\n",
    "\n",
    "framework_version = \"1.2-1\"\n",
    "\n",
    "sklearn_processor = SKLearnProcessor(\n",
    "    framework_version=framework_version,\n",
    "    instance_type=\"ml.m5.xlarge\",\n",
    "    instance_count=processing_instance_count,\n",
    "    base_job_name=\"LOSProcess\",\n",
    "    role=role,\n",
    "    sagemaker_session=pipeline_session,\n",
    ")"
   ]
  },
  {
   "cell_type": "code",
   "execution_count": 518,
   "id": "be93bced-aeaa-429b-8557-08baa10544aa",
   "metadata": {
    "tags": []
   },
   "outputs": [
    {
     "name": "stdout",
     "output_type": "stream",
     "text": [
      "<sagemaker.workflow.steps.ProcessingStep object at 0x7f9325509810>\n"
     ]
    }
   ],
   "source": [
    "from sagemaker.processing import ProcessingInput, ProcessingOutput\n",
    "from sagemaker.workflow.steps import ProcessingStep\n",
    "\n",
    "# Define the processor arguments with corrected output paths\n",
    "processor_args = sklearn_processor.run(\n",
    "    inputs=[\n",
    "        ProcessingInput(source=input_data, destination=\"/opt/ml/processing/input\"),\n",
    "    ],\n",
    "    outputs=[\n",
    "        ProcessingOutput(output_name=\"train\", source=\"/opt/ml/processing/output/train\"),  # Corrected path\n",
    "        ProcessingOutput(output_name=\"validation\", source=\"/opt/ml/processing/output/validation\"),  # Corrected path\n",
    "        ProcessingOutput(output_name=\"test\", source=\"/opt/ml/processing/output/test\"),  # Corrected path\n",
    "    ],\n",
    "    code=\"opt/ml/processing/preprocessing.py\",\n",
    ")\n",
    "\n",
    "# Create the processing step\n",
    "step_process = ProcessingStep(name=\"LOSProcess\", step_args=processor_args)\n",
    "print(step_process)"
   ]
  },
  {
   "cell_type": "code",
   "execution_count": 519,
   "id": "44d855a1-b4d0-4449-a68a-9c7bfbf3d741",
   "metadata": {
    "tags": []
   },
   "outputs": [],
   "source": [
    "from sagemaker.estimator import Estimator\n",
    "from sagemaker.inputs import TrainingInput\n",
    "\n",
    "model_path = f\"s3://{default_bucket}/HealthLOS\"\n",
    "image_uri = sagemaker.image_uris.retrieve(\n",
    "    framework=\"xgboost\",\n",
    "    region=region,\n",
    "    version=\"1.0-1\",\n",
    "    py_version=\"py3\",\n",
    "    instance_type=\"ml.m5.xlarge\",\n",
    ")\n",
    "xgb_train = Estimator(\n",
    "    image_uri=image_uri,\n",
    "    instance_type=instance_type,\n",
    "    instance_count=1,\n",
    "    output_path=model_path,\n",
    "    role=role,\n",
    "    sagemaker_session=pipeline_session,\n",
    ")\n",
    "xgb_train.set_hyperparameters(\n",
    "    objective=\"reg:linear\",\n",
    "    num_round=50,\n",
    "    max_depth=5,\n",
    "    eta=0.2,\n",
    "    gamma=4,\n",
    "    min_child_weight=6,\n",
    "    subsample=0.7,\n",
    ")\n",
    "\n",
    "train_args = xgb_train.fit(\n",
    "    inputs={\n",
    "        \"train\": TrainingInput(\n",
    "            s3_data=step_process.properties.ProcessingOutputConfig.Outputs[\"train\"].S3Output.S3Uri,\n",
    "            content_type=\"text/csv\",\n",
    "        ),\n",
    "        \"validation\": TrainingInput(\n",
    "            s3_data=step_process.properties.ProcessingOutputConfig.Outputs[\n",
    "                \"validation\"\n",
    "            ].S3Output.S3Uri,\n",
    "            content_type=\"text/csv\",\n",
    "        ),\n",
    "    }\n",
    ")"
   ]
  },
  {
   "cell_type": "code",
   "execution_count": 520,
   "id": "84eb469b-c72d-48cc-b112-11bec93e5d5d",
   "metadata": {
    "tags": []
   },
   "outputs": [],
   "source": [
    "from sagemaker.inputs import TrainingInput\n",
    "from sagemaker.workflow.steps import TrainingStep\n",
    "\n",
    "\n",
    "step_train = TrainingStep(\n",
    "    name=\"HospitalLOSTrain\",\n",
    "    step_args=train_args,\n",
    ")"
   ]
  },
  {
   "cell_type": "markdown",
   "id": "f6fffbcb-479f-4887-8357-652a6e8ce420",
   "metadata": {},
   "source": [
    "## Define a Model Evaluation Step to Evaluate the Trained Model\n",
    "\n",
    "First, develop an evaluation script that is specified in a Processing step that performs the model evaluation.\n",
    "\n",
    "After pipeline execution, you can examine the resulting `evaluation.json` for analysis.\n",
    "\n",
    "The evaluation script uses `xgboost` to do the following:\n",
    "\n",
    "* Load the model.\n",
    "* Read the test data.\n",
    "* Issue predictions against the test data.\n",
    "* Build a classification report, including accuracy and ROC curve.\n",
    "* Save the evaluation report to the evaluation directory."
   ]
  },
  {
   "cell_type": "code",
   "execution_count": 521,
   "id": "e1c9c1fa-72ab-4550-a69e-76638f5f7281",
   "metadata": {
    "tags": []
   },
   "outputs": [
    {
     "name": "stdout",
     "output_type": "stream",
     "text": [
      "Overwriting opt/ml/processing/evaluation/evaluation.py\n"
     ]
    }
   ],
   "source": [
    "# %%writefile opt/ml/processing/evaluation/evaluation.py\n",
    "\n",
    "# import json\n",
    "# import pathlib\n",
    "# import pickle\n",
    "# import tarfile\n",
    "\n",
    "# import joblib\n",
    "# import numpy as np\n",
    "# import pandas as pd\n",
    "# import xgboost\n",
    "\n",
    "# from sklearn.metrics import accuracy_score\n",
    "\n",
    "\n",
    "# if __name__ == \"__main__\":\n",
    "#     model_path = \"model/model.tar.gz\"\n",
    "#     with tarfile.open(model_path) as tar:\n",
    "#         tar.extractall(path=\".\")\n",
    "\n",
    "#     model = pickle.load(open(\"xgboost-model\", \"rb\"))\n",
    "\n",
    "#     test_path = \"test.csv\"\n",
    "#     df = pd.read_csv(test_path, header=None)\n",
    "#     y_test = df.pop(\"Stay\")\n",
    "    \n",
    "#     X_test = xgboost.DMatrix(df.values)\n",
    "\n",
    "#     predictions = model.predict(X_test)\n",
    "\n",
    "#     accuracy = accuracy_score(y_test, predictions)\n",
    "#     report_dict = {\n",
    "#         \"regression_metrics\": {\n",
    "#             \"Accuracy\": {\"value\": accuracy},\n",
    "#         },\n",
    "#     }\n",
    "\n",
    "#     output_dir = \"evaluation\"\n",
    "#     pathlib.Path(output_dir).mkdir(parents=True, exist_ok=True)\n",
    "\n",
    "#     evaluation_path = \"evaluation/evaluation.json\"\n",
    "#     with open(evaluation_path, \"w\") as f:\n",
    "#         f.write(json.dumps(report_dict))"
   ]
  },
  {
   "cell_type": "code",
   "execution_count": 538,
   "id": "4c96bc4d-98d7-4984-94b1-1de9a5175bc7",
   "metadata": {
    "tags": []
   },
   "outputs": [
    {
     "name": "stdout",
     "output_type": "stream",
     "text": [
      "Overwriting opt/ml/processing/evaluation/evaluation.py\n"
     ]
    }
   ],
   "source": [
    "%%writefile opt/ml/processing/evaluation/evaluation.py\n",
    "\n",
    "import json\n",
    "import pathlib\n",
    "import pickle\n",
    "import tarfile\n",
    "\n",
    "import numpy as np\n",
    "import pandas as pd\n",
    "import xgboost\n",
    "from sklearn.metrics import accuracy_score\n",
    "\n",
    "\n",
    "if __name__ == \"__main__\":\n",
    "    # Ensure correct model path\n",
    "    model_path = \"/opt/ml/processing/model/model.tar.gz\"\n",
    "    \n",
    "    # Extract the model\n",
    "    print(f\"Extracting model from {model_path}\")\n",
    "    with tarfile.open(model_path) as tar:\n",
    "        tar.extractall(path=\"/opt/ml/processing/model/\")\n",
    "\n",
    "    # Load the XGBoost model\n",
    "    model_file = \"/opt/ml/processing/model/xgboost-model\"\n",
    "    print(f\"Loading model from {model_file}\")\n",
    "    model = pickle.load(open(model_file, \"rb\"))\n",
    "\n",
    "    # Load test data\n",
    "    test_path = \"/opt/ml/processing/test/test.csv\"\n",
    "    print(f\"Loading test data from {test_path}\")\n",
    "    df = pd.read_csv(test_path, header=None)\n",
    "\n",
    "    # Extract labels and features\n",
    "    y_test = df.pop(0)  # Assuming the label is in the first column\n",
    "    X_test = xgboost.DMatrix(df.values)\n",
    "\n",
    "    # Run predictions\n",
    "    print(\"Running predictions\")\n",
    "    predictions = model.predict(X_test)\n",
    "\n",
    "    # Calculate accuracy\n",
    "    accuracy = accuracy_score(y_test, predictions.round())  # round predictions for classification\n",
    "    print(f\"Accuracy: {accuracy}\")\n",
    "\n",
    "    # Create evaluation report\n",
    "    report_dict = {\n",
    "        \"regression_metrics\": {\n",
    "            \"Accuracy\": {\"value\": accuracy},\n",
    "        },\n",
    "    }\n",
    "\n",
    "    # Save the evaluation report\n",
    "    output_dir = \"/opt/ml/processing/evaluation\"\n",
    "    pathlib.Path(output_dir).mkdir(parents=True, exist_ok=True)\n",
    "\n",
    "    evaluation_path = f\"{output_dir}/evaluation.json\"\n",
    "    print(f\"Saving evaluation report to {evaluation_path}\")\n",
    "    with open(evaluation_path, \"w\") as f:\n",
    "        f.write(json.dumps(report_dict))\n"
   ]
  },
  {
   "cell_type": "code",
   "execution_count": 539,
   "id": "88e1bfe4-d5a0-4162-8192-0af038beb213",
   "metadata": {
    "tags": []
   },
   "outputs": [],
   "source": [
    "from sagemaker.processing import ScriptProcessor\n",
    "\n",
    "\n",
    "script_eval = ScriptProcessor(\n",
    "    image_uri=image_uri,\n",
    "    command=[\"python3\"],\n",
    "    instance_type=\"ml.m5.xlarge\",\n",
    "    instance_count=1,\n",
    "    base_job_name=\"LOSeval\",\n",
    "    role=role,\n",
    "    sagemaker_session=pipeline_session,\n",
    ")\n",
    "\n",
    "eval_args = script_eval.run(\n",
    "    inputs=[\n",
    "        ProcessingInput(\n",
    "            source=step_train.properties.ModelArtifacts.S3ModelArtifacts,\n",
    "            destination=\"/opt/ml/processing/model\",\n",
    "        ),\n",
    "        ProcessingInput(\n",
    "            source=step_process.properties.ProcessingOutputConfig.Outputs[\"test\"].S3Output.S3Uri,\n",
    "            destination=\"/opt/ml/processing/test\",\n",
    "        ),\n",
    "    ],\n",
    "    outputs=[\n",
    "        ProcessingOutput(output_name=\"evaluation\", source=\"/opt/ml/processing/evaluation\"),\n",
    "    ],\n",
    "    code=\"opt/ml/processing/evaluation/evaluation.py\",\n",
    ")"
   ]
  },
  {
   "cell_type": "markdown",
   "id": "66f0fbfb-f597-4834-8956-9febae1de2c3",
   "metadata": {},
   "source": [
    "Use the processor's arguments returned by `.run()` to construct a `ProcessingStep`, along with the input and output channels and the code that will be executed when the pipeline invokes pipeline execution.\n",
    "\n",
    "Specifically, the `S3ModelArtifacts` from the `step_train` `properties` and the `S3Uri` of the `\"test_data\"` output channel of the `step_process` `properties` are passed as inputs. The `TrainingStep` and `ProcessingStep` `properties` attribute matches the object model of the [DescribeTrainingJob](https://docs.aws.amazon.com/sagemaker/latest/APIReference/API_DescribeTrainingJob.html) and [DescribeProcessingJob](https://docs.aws.amazon.com/sagemaker/latest/APIReference/API_DescribeProcessingJob.html) response objects, respectively."
   ]
  },
  {
   "cell_type": "code",
   "execution_count": 540,
   "id": "bc313382-6636-44eb-a773-2d6f3e8b9da1",
   "metadata": {
    "tags": []
   },
   "outputs": [],
   "source": [
    "from sagemaker.workflow.properties import PropertyFile\n",
    "\n",
    "\n",
    "evaluation_report = PropertyFile(\n",
    "    name=\"EvaluationReport\", output_name=\"evaluation\", path=\"evaluation.json\"\n",
    ")\n",
    "step_eval = ProcessingStep(\n",
    "    name=\"LOSEval\",\n",
    "    step_args=eval_args,\n",
    "    property_files=[evaluation_report],\n",
    ")"
   ]
  },
  {
   "cell_type": "markdown",
   "id": "ce4b804b-4c2e-4cf9-b6e7-bcd35932e268",
   "metadata": {},
   "source": [
    "## Define a Create Model Step to Create a Model\n",
    "\n",
    "In order to perform batch transformation using the example model, create a SageMaker model.\n",
    "\n",
    "Specifically, pass in the `S3ModelArtifacts` from the `TrainingStep`, `step_train` properties. The `TrainingStep` `properties` attribute matches the object model of the [DescribeTrainingJob](https://docs.aws.amazon.com/sagemaker/latest/APIReference/API_DescribeTrainingJob.html) response object."
   ]
  },
  {
   "cell_type": "code",
   "execution_count": 541,
   "id": "bda6184e-70a0-4426-9fb4-2d9045ef1340",
   "metadata": {
    "tags": []
   },
   "outputs": [],
   "source": [
    "from sagemaker.model import Model\n",
    "\n",
    "model = Model(\n",
    "    image_uri=image_uri,\n",
    "    model_data=step_train.properties.ModelArtifacts.S3ModelArtifacts,\n",
    "    sagemaker_session=pipeline_session,\n",
    "    role=role,\n",
    ")"
   ]
  },
  {
   "cell_type": "code",
   "execution_count": 542,
   "id": "3db581ff-c473-4b57-984f-8e6925f59083",
   "metadata": {
    "tags": []
   },
   "outputs": [],
   "source": [
    "from sagemaker.inputs import CreateModelInput\n",
    "from sagemaker.workflow.model_step import ModelStep\n",
    "\n",
    "step_create_model = ModelStep(\n",
    "    name=\"LOSCreateModel\",\n",
    "    step_args=model.create(instance_type=\"ml.m5.large\", accelerator_type=\"ml.eia1.medium\"),\n",
    ")"
   ]
  },
  {
   "cell_type": "markdown",
   "id": "e78c7b60-fa9f-4354-951f-4b15e88a704b",
   "metadata": {},
   "source": [
    "## Define a Transform Step to Perform Batch Transformation\n",
    "\n",
    "Now that a model instance is defined, create a `Transformer` instance with the appropriate model type, compute instance type, and desired output S3 URI.\n",
    "\n",
    "Specifically, pass in the `ModelName` from the `CreateModelStep`, `step_create_model` properties. The `CreateModelStep` `properties` attribute matches the object model of the [DescribeModel](https://docs.aws.amazon.com/sagemaker/latest/APIReference/API_DescribeModel.html) response object."
   ]
  },
  {
   "cell_type": "code",
   "execution_count": 543,
   "id": "3d38e2ce-4a29-4203-a965-b40f553a4884",
   "metadata": {
    "tags": []
   },
   "outputs": [],
   "source": [
    "from sagemaker.transformer import Transformer\n",
    "\n",
    "\n",
    "transformer = Transformer(\n",
    "    model_name=step_create_model.properties.ModelName,\n",
    "    instance_type=\"ml.m5.xlarge\",\n",
    "    instance_count=1,\n",
    "    output_path=f\"s3://{default_bucket}/LOSTransform\",\n",
    ")"
   ]
  },
  {
   "cell_type": "code",
   "execution_count": 544,
   "id": "4fddd1f2-13fb-403c-844b-20214fe0bd14",
   "metadata": {
    "tags": []
   },
   "outputs": [],
   "source": [
    "from sagemaker.inputs import TransformInput\n",
    "from sagemaker.workflow.steps import TransformStep\n",
    "\n",
    "\n",
    "step_transform = TransformStep(\n",
    "    name=\"LOSTransform\", transformer=transformer, inputs=TransformInput(data=batch_data)\n",
    ")"
   ]
  },
  {
   "cell_type": "markdown",
   "id": "cdccf3c5-352d-4450-972c-1d9a94f4cbcb",
   "metadata": {},
   "source": [
    "## Define a Register Model Step to Create a Model Package\n",
    "\n",
    "A model package is an abstraction of reusable model artifacts that packages all ingredients required for inference. Primarily, it consists of an inference specification that defines the inference image to use along with an optional model weights location.\n",
    "\n",
    "A model package group is a collection of model packages. A model package group can be created for a specific ML business problem, and new versions of the model packages can be added to it. Typically, customers are expected to create a ModelPackageGroup for a SageMaker pipeline so that model package versions can be added to the group for every SageMaker Pipeline run.\n",
    "\n",
    "To register a model in the Model Registry, we take the model created in the previous steps\n",
    "```\n",
    "model = Model(\n",
    "    image_uri=image_uri,\n",
    "    model_data=step_train.properties.ModelArtifacts.S3ModelArtifacts,\n",
    "    sagemaker_session=pipeline_session,\n",
    "    role=role,\n",
    ")\n",
    "```\n",
    "and call the `.register()` function on it while passing all the parameters needed for registering the model.\n",
    "\n",
    "We take the outputs of the `.register()` call and pass that to the `ModelStep` as step arguments."
   ]
  },
  {
   "cell_type": "code",
   "execution_count": 545,
   "id": "5d1de317-7f3f-41f2-925d-a18ecb3328a4",
   "metadata": {
    "tags": []
   },
   "outputs": [
    {
     "name": "stderr",
     "output_type": "stream",
     "text": [
      "WARNING:sagemaker.workflow.utilities:Popping out 'ProcessingJobName' from the pipeline definition by default since it will be overridden at pipeline execution time. Please utilize the PipelineDefinitionConfig to persist this field in the pipeline definition if desired.\n"
     ]
    }
   ],
   "source": [
    "from sagemaker.model_metrics import MetricsSource, ModelMetrics\n",
    "\n",
    "model_metrics = ModelMetrics(\n",
    "    model_statistics=MetricsSource(\n",
    "        s3_uri=\"{}/evaluation.json\".format(\n",
    "            step_eval.arguments[\"ProcessingOutputConfig\"][\"Outputs\"][0][\"S3Output\"][\"S3Uri\"]\n",
    "        ),\n",
    "        content_type=\"application/json\",\n",
    "    )\n",
    ")\n",
    "\n",
    "register_args = model.register(\n",
    "    content_types=[\"text/csv\"],\n",
    "    response_types=[\"text/csv\"],\n",
    "    inference_instances=[\"ml.t2.medium\", \"ml.m5.xlarge\"],\n",
    "    transform_instances=[\"ml.m5.xlarge\"],\n",
    "    model_package_group_name=model_package_group_name,\n",
    "    approval_status=model_approval_status,\n",
    "    model_metrics=model_metrics,\n",
    ")\n",
    "step_register = ModelStep(name=\"LOSRegisterModel\", step_args=register_args)"
   ]
  },
  {
   "cell_type": "markdown",
   "id": "0348068a-3817-4420-a4a7-8b7397c634c9",
   "metadata": {},
   "source": [
    "## Define a Fail Step to Terminate the Pipeline Execution and Mark it as Failed\n",
    "\n",
    "This section walks you through the following steps:\n",
    "\n",
    "* Define a `FailStep` with customized error message, which indicates the cause of the execution failure.\n",
    "* Enter the `FailStep` error message with a `Join` function, which appends a static text string with the dynamic `mse_threshold` parameter to build a more informative error message."
   ]
  },
  {
   "cell_type": "code",
   "execution_count": 546,
   "id": "639f7c0c-3d63-428f-9eb7-3ca087d944db",
   "metadata": {
    "tags": []
   },
   "outputs": [],
   "source": [
    "from sagemaker.workflow.fail_step import FailStep\n",
    "from sagemaker.workflow.functions import Join\n",
    "\n",
    "step_fail = FailStep(\n",
    "    name=\"LOSAccuracyFail\",\n",
    "    error_message=Join(on=\" \", values=[\"Execution failed due to Accuracy <\", Accuracy_threshold]),\n",
    ")"
   ]
  },
  {
   "cell_type": "markdown",
   "id": "814795ce-69a9-4519-805a-63c1805da067",
   "metadata": {},
   "source": [
    "## Define a Condition Step to Check Accuracy and Conditionally Create a Model and Run a Batch Transformation and Register a Model in the Model Registry, Or Terminate the Execution in Failed State\n",
    "\n",
    "In this step, the model is registered only if the accuracy of the model, as determined by the evaluation step `step_eval`, exceeded a specified value. Otherwise, the pipeline execution fails and terminates. A `ConditionStep` enables pipelines to support conditional execution in the pipeline DAG based on the conditions of the step properties.\n",
    "\n",
    "In the following section, you:\n",
    "\n",
    "* Define a `ConditionLessThanOrEqualTo` on the accuracy value found in the output of the evaluation step, `step_eval`.\n",
    "* Use the condition in the list of conditions in a `ConditionStep`.\n",
    "* Pass the `CreateModelStep` and `TransformStep` steps, and the `RegisterModel` step collection into the `if_steps` of the `ConditionStep`, which are only executed if the condition evaluates to `True`.\n",
    "* Pass the `FailStep` step into the `else_steps`of the `ConditionStep`, which is only executed if the condition evaluates to `False`."
   ]
  },
  {
   "cell_type": "code",
   "execution_count": 547,
   "id": "cf8a9340-287c-4e35-bee6-21ae34d83fe6",
   "metadata": {
    "tags": []
   },
   "outputs": [],
   "source": [
    "from sagemaker.workflow.conditions import ConditionLessThanOrEqualTo\n",
    "from sagemaker.workflow.condition_step import ConditionStep\n",
    "from sagemaker.workflow.functions import JsonGet\n",
    "\n",
    "\n",
    "cond_lte = ConditionLessThanOrEqualTo(\n",
    "    left=JsonGet(\n",
    "        step_name=step_eval.name,\n",
    "        property_file=evaluation_report,\n",
    "        json_path=\"regression_metrics.accuracy.value\",\n",
    "    ),\n",
    "    right=Accuracy_threshold,\n",
    ")\n",
    "\n",
    "step_cond = ConditionStep(\n",
    "    name=\"LOSAccuracyCond\",\n",
    "    conditions=[cond_lte],\n",
    "    if_steps=[step_register, step_create_model, step_transform],\n",
    "    else_steps=[step_fail],\n",
    ")"
   ]
  },
  {
   "cell_type": "markdown",
   "id": "f4e0608d-3bda-4faf-ba12-9cd0c91291f0",
   "metadata": {},
   "source": [
    "## Define a Pipeline of Parameters, Steps, and Conditions\n",
    "\n",
    "In this section, combine the steps into a Pipeline so it can be executed.\n",
    "\n",
    "A pipeline requires a `name`, `parameters`, and `steps`. Names must be unique within an `(account, region)` pair.\n",
    "\n",
    "Note:\n",
    "\n",
    "* All the parameters used in the definitions must be present.\n",
    "* Steps passed into the pipeline do not have to be listed in the order of execution. The SageMaker Pipeline service resolves the data dependency DAG as steps for the execution to complete.\n",
    "* Steps must be unique to across the pipeline step list and all condition step if/else lists."
   ]
  },
  {
   "cell_type": "code",
   "execution_count": 548,
   "id": "fb5eb321-d8f7-42c1-a8e3-f568f7afb1de",
   "metadata": {
    "tags": []
   },
   "outputs": [],
   "source": [
    "from sagemaker.workflow.pipeline import Pipeline\n",
    "\n",
    "\n",
    "pipeline_name = f\"LOSPipeline\"\n",
    "pipeline = Pipeline(\n",
    "    name=pipeline_name,\n",
    "    parameters=[\n",
    "        processing_instance_count,\n",
    "        instance_type,\n",
    "        model_approval_status,\n",
    "        input_data,\n",
    "        batch_data,\n",
    "        Accuracy_threshold,\n",
    "    ],\n",
    "    steps=[step_process, step_train, step_eval, step_cond],\n",
    ")"
   ]
  },
  {
   "cell_type": "markdown",
   "id": "a9a653e5-f541-47f5-892e-397f236f5c40",
   "metadata": {},
   "source": [
    "### (Optional) Examining the pipeline definition\n",
    "\n",
    "The JSON of the pipeline definition can be examined to confirm the pipeline is well-defined and the parameters and step properties resolve correctly."
   ]
  },
  {
   "cell_type": "code",
   "execution_count": 549,
   "id": "e2bd9180-141c-4d2e-8f3b-d5242f502bad",
   "metadata": {
    "tags": []
   },
   "outputs": [
    {
     "name": "stderr",
     "output_type": "stream",
     "text": [
      "WARNING:sagemaker.workflow.utilities:Popping out 'ProcessingJobName' from the pipeline definition by default since it will be overridden at pipeline execution time. Please utilize the PipelineDefinitionConfig to persist this field in the pipeline definition if desired.\n",
      "WARNING:sagemaker.workflow.utilities:Popping out 'TrainingJobName' from the pipeline definition by default since it will be overridden at pipeline execution time. Please utilize the PipelineDefinitionConfig to persist this field in the pipeline definition if desired.\n",
      "WARNING:sagemaker.workflow.utilities:Popping out 'ProcessingJobName' from the pipeline definition by default since it will be overridden at pipeline execution time. Please utilize the PipelineDefinitionConfig to persist this field in the pipeline definition if desired.\n",
      "WARNING:sagemaker.workflow._utils:Popping out 'CertifyForMarketplace' from the pipeline definition since it will be overridden in pipeline execution time.\n",
      "WARNING:sagemaker.workflow.utilities:Popping out 'ModelPackageName' from the pipeline definition by default since it will be overridden at pipeline execution time. Please utilize the PipelineDefinitionConfig to persist this field in the pipeline definition if desired.\n",
      "WARNING:sagemaker.workflow.utilities:Popping out 'ModelName' from the pipeline definition by default since it will be overridden at pipeline execution time. Please utilize the PipelineDefinitionConfig to persist this field in the pipeline definition if desired.\n",
      "WARNING:sagemaker.workflow.utilities:Popping out 'TransformJobName' from the pipeline definition by default since it will be overridden at pipeline execution time. Please utilize the PipelineDefinitionConfig to persist this field in the pipeline definition if desired.\n"
     ]
    },
    {
     "data": {
      "text/plain": [
       "{'Version': '2020-12-01',\n",
       " 'Metadata': {},\n",
       " 'Parameters': [{'Name': 'ProcessingInstanceCount',\n",
       "   'Type': 'Integer',\n",
       "   'DefaultValue': 1},\n",
       "  {'Name': 'TrainingInstanceType',\n",
       "   'Type': 'String',\n",
       "   'DefaultValue': 'ml.m5.xlarge'},\n",
       "  {'Name': 'ModelApprovalStatus',\n",
       "   'Type': 'String',\n",
       "   'DefaultValue': 'PendingManualApproval'},\n",
       "  {'Name': 'InputData',\n",
       "   'Type': 'String',\n",
       "   'DefaultValue': 's3://sagemaker-us-east-1-361019805433/HospitalLOS/traindata_medium.csv'},\n",
       "  {'Name': 'BatchData',\n",
       "   'Type': 'String',\n",
       "   'DefaultValue': 's3://sagemaker-us-east-1-361019805433/HospitalLOS/test.csv'},\n",
       "  {'Name': 'Accuracy_Error', 'Type': 'Float', 'DefaultValue': 0.6}],\n",
       " 'PipelineExperimentConfig': {'ExperimentName': {'Get': 'Execution.PipelineName'},\n",
       "  'TrialName': {'Get': 'Execution.PipelineExecutionId'}},\n",
       " 'Steps': [{'Name': 'LOSProcess',\n",
       "   'Type': 'Processing',\n",
       "   'Arguments': {'ProcessingResources': {'ClusterConfig': {'InstanceType': 'ml.m5.xlarge',\n",
       "      'InstanceCount': {'Get': 'Parameters.ProcessingInstanceCount'},\n",
       "      'VolumeSizeInGB': 30}},\n",
       "    'AppSpecification': {'ImageUri': '683313688378.dkr.ecr.us-east-1.amazonaws.com/sagemaker-scikit-learn:1.2-1-cpu-py3',\n",
       "     'ContainerEntrypoint': ['python3',\n",
       "      '/opt/ml/processing/input/code/preprocessing.py']},\n",
       "    'RoleArn': 'arn:aws:iam::361019805433:role/LabRole',\n",
       "    'ProcessingInputs': [{'InputName': 'input-1',\n",
       "      'AppManaged': False,\n",
       "      'S3Input': {'S3Uri': {'Get': 'Parameters.InputData'},\n",
       "       'LocalPath': '/opt/ml/processing/input',\n",
       "       'S3DataType': 'S3Prefix',\n",
       "       'S3InputMode': 'File',\n",
       "       'S3DataDistributionType': 'FullyReplicated',\n",
       "       'S3CompressionType': 'None'}},\n",
       "     {'InputName': 'code',\n",
       "      'AppManaged': False,\n",
       "      'S3Input': {'S3Uri': 's3://sagemaker-us-east-1-361019805433/LOSPipeline/code/c7fd3bf6784dc971f20b6b77c98c76af/preprocessing.py',\n",
       "       'LocalPath': '/opt/ml/processing/input/code',\n",
       "       'S3DataType': 'S3Prefix',\n",
       "       'S3InputMode': 'File',\n",
       "       'S3DataDistributionType': 'FullyReplicated',\n",
       "       'S3CompressionType': 'None'}}],\n",
       "    'ProcessingOutputConfig': {'Outputs': [{'OutputName': 'train',\n",
       "       'AppManaged': False,\n",
       "       'S3Output': {'S3Uri': {'Std:Join': {'On': '/',\n",
       "          'Values': ['s3:/',\n",
       "           'sagemaker-us-east-1-361019805433',\n",
       "           'LOSPipeline',\n",
       "           {'Get': 'Execution.PipelineExecutionId'},\n",
       "           'LOSProcess',\n",
       "           'output',\n",
       "           'train']}},\n",
       "        'LocalPath': '/opt/ml/processing/output/train',\n",
       "        'S3UploadMode': 'EndOfJob'}},\n",
       "      {'OutputName': 'validation',\n",
       "       'AppManaged': False,\n",
       "       'S3Output': {'S3Uri': {'Std:Join': {'On': '/',\n",
       "          'Values': ['s3:/',\n",
       "           'sagemaker-us-east-1-361019805433',\n",
       "           'LOSPipeline',\n",
       "           {'Get': 'Execution.PipelineExecutionId'},\n",
       "           'LOSProcess',\n",
       "           'output',\n",
       "           'validation']}},\n",
       "        'LocalPath': '/opt/ml/processing/output/validation',\n",
       "        'S3UploadMode': 'EndOfJob'}},\n",
       "      {'OutputName': 'test',\n",
       "       'AppManaged': False,\n",
       "       'S3Output': {'S3Uri': {'Std:Join': {'On': '/',\n",
       "          'Values': ['s3:/',\n",
       "           'sagemaker-us-east-1-361019805433',\n",
       "           'LOSPipeline',\n",
       "           {'Get': 'Execution.PipelineExecutionId'},\n",
       "           'LOSProcess',\n",
       "           'output',\n",
       "           'test']}},\n",
       "        'LocalPath': '/opt/ml/processing/output/test',\n",
       "        'S3UploadMode': 'EndOfJob'}}]}}},\n",
       "  {'Name': 'HospitalLOSTrain',\n",
       "   'Type': 'Training',\n",
       "   'Arguments': {'AlgorithmSpecification': {'TrainingInputMode': 'File',\n",
       "     'TrainingImage': '683313688378.dkr.ecr.us-east-1.amazonaws.com/sagemaker-xgboost:1.0-1-cpu-py3'},\n",
       "    'OutputDataConfig': {'S3OutputPath': 's3://sagemaker-us-east-1-361019805433/HealthLOS'},\n",
       "    'StoppingCondition': {'MaxRuntimeInSeconds': 86400},\n",
       "    'ResourceConfig': {'VolumeSizeInGB': 30,\n",
       "     'InstanceCount': 1,\n",
       "     'InstanceType': {'Get': 'Parameters.TrainingInstanceType'}},\n",
       "    'RoleArn': 'arn:aws:iam::361019805433:role/LabRole',\n",
       "    'InputDataConfig': [{'DataSource': {'S3DataSource': {'S3DataType': 'S3Prefix',\n",
       "        'S3Uri': {'Get': \"Steps.LOSProcess.ProcessingOutputConfig.Outputs['train'].S3Output.S3Uri\"},\n",
       "        'S3DataDistributionType': 'FullyReplicated'}},\n",
       "      'ContentType': 'text/csv',\n",
       "      'ChannelName': 'train'},\n",
       "     {'DataSource': {'S3DataSource': {'S3DataType': 'S3Prefix',\n",
       "        'S3Uri': {'Get': \"Steps.LOSProcess.ProcessingOutputConfig.Outputs['validation'].S3Output.S3Uri\"},\n",
       "        'S3DataDistributionType': 'FullyReplicated'}},\n",
       "      'ContentType': 'text/csv',\n",
       "      'ChannelName': 'validation'}],\n",
       "    'HyperParameters': {'objective': 'reg:linear',\n",
       "     'num_round': '50',\n",
       "     'max_depth': '5',\n",
       "     'eta': '0.2',\n",
       "     'gamma': '4',\n",
       "     'min_child_weight': '6',\n",
       "     'subsample': '0.7'},\n",
       "    'DebugHookConfig': {'S3OutputPath': 's3://sagemaker-us-east-1-361019805433/HealthLOS',\n",
       "     'CollectionConfigurations': []},\n",
       "    'ProfilerConfig': {'S3OutputPath': 's3://sagemaker-us-east-1-361019805433/HealthLOS',\n",
       "     'DisableProfiler': False}}},\n",
       "  {'Name': 'LOSEval',\n",
       "   'Type': 'Processing',\n",
       "   'Arguments': {'ProcessingResources': {'ClusterConfig': {'InstanceType': 'ml.m5.xlarge',\n",
       "      'InstanceCount': 1,\n",
       "      'VolumeSizeInGB': 30}},\n",
       "    'AppSpecification': {'ImageUri': '683313688378.dkr.ecr.us-east-1.amazonaws.com/sagemaker-xgboost:1.0-1-cpu-py3',\n",
       "     'ContainerEntrypoint': ['python3',\n",
       "      '/opt/ml/processing/input/code/evaluation.py']},\n",
       "    'RoleArn': 'arn:aws:iam::361019805433:role/LabRole',\n",
       "    'ProcessingInputs': [{'InputName': 'input-1',\n",
       "      'AppManaged': False,\n",
       "      'S3Input': {'S3Uri': {'Get': 'Steps.HospitalLOSTrain.ModelArtifacts.S3ModelArtifacts'},\n",
       "       'LocalPath': '/opt/ml/processing/model',\n",
       "       'S3DataType': 'S3Prefix',\n",
       "       'S3InputMode': 'File',\n",
       "       'S3DataDistributionType': 'FullyReplicated',\n",
       "       'S3CompressionType': 'None'}},\n",
       "     {'InputName': 'input-2',\n",
       "      'AppManaged': False,\n",
       "      'S3Input': {'S3Uri': {'Get': \"Steps.LOSProcess.ProcessingOutputConfig.Outputs['test'].S3Output.S3Uri\"},\n",
       "       'LocalPath': '/opt/ml/processing/test',\n",
       "       'S3DataType': 'S3Prefix',\n",
       "       'S3InputMode': 'File',\n",
       "       'S3DataDistributionType': 'FullyReplicated',\n",
       "       'S3CompressionType': 'None'}},\n",
       "     {'InputName': 'code',\n",
       "      'AppManaged': False,\n",
       "      'S3Input': {'S3Uri': 's3://sagemaker-us-east-1-361019805433/LOSPipeline/code/5de528b3509e5176c0385c7a7f302906/evaluation.py',\n",
       "       'LocalPath': '/opt/ml/processing/input/code',\n",
       "       'S3DataType': 'S3Prefix',\n",
       "       'S3InputMode': 'File',\n",
       "       'S3DataDistributionType': 'FullyReplicated',\n",
       "       'S3CompressionType': 'None'}}],\n",
       "    'ProcessingOutputConfig': {'Outputs': [{'OutputName': 'evaluation',\n",
       "       'AppManaged': False,\n",
       "       'S3Output': {'S3Uri': 's3://sagemaker-us-east-1-361019805433/LOSeval-2024-10-24-05-17-34-134/output/evaluation',\n",
       "        'LocalPath': '/opt/ml/processing/evaluation',\n",
       "        'S3UploadMode': 'EndOfJob'}}]}},\n",
       "   'PropertyFiles': [{'PropertyFileName': 'EvaluationReport',\n",
       "     'OutputName': 'evaluation',\n",
       "     'FilePath': 'evaluation.json'}]},\n",
       "  {'Name': 'LOSAccuracyCond',\n",
       "   'Type': 'Condition',\n",
       "   'Arguments': {'Conditions': [{'Type': 'LessThanOrEqualTo',\n",
       "      'LeftValue': {'Std:JsonGet': {'PropertyFile': {'Get': 'Steps.LOSEval.PropertyFiles.EvaluationReport'},\n",
       "        'Path': 'regression_metrics.accuracy.value'}},\n",
       "      'RightValue': {'Get': 'Parameters.Accuracy_Error'}}],\n",
       "    'IfSteps': [{'Name': 'LOSRegisterModel-RegisterModel',\n",
       "      'Type': 'RegisterModel',\n",
       "      'Arguments': {'ModelPackageGroupName': 'HospitalLOS',\n",
       "       'ModelMetrics': {'ModelQuality': {'Statistics': {'ContentType': 'application/json',\n",
       "          'S3Uri': 's3://sagemaker-us-east-1-361019805433/LOSeval-2024-10-24-05-17-34-134/output/evaluation/evaluation.json'}},\n",
       "        'Bias': {},\n",
       "        'Explainability': {}},\n",
       "       'InferenceSpecification': {'Containers': [{'Image': '683313688378.dkr.ecr.us-east-1.amazonaws.com/sagemaker-xgboost:1.0-1-cpu-py3',\n",
       "          'Environment': {},\n",
       "          'ModelDataUrl': {'Get': 'Steps.HospitalLOSTrain.ModelArtifacts.S3ModelArtifacts'}}],\n",
       "        'SupportedContentTypes': ['text/csv'],\n",
       "        'SupportedResponseMIMETypes': ['text/csv'],\n",
       "        'SupportedRealtimeInferenceInstanceTypes': ['ml.t2.medium',\n",
       "         'ml.m5.xlarge'],\n",
       "        'SupportedTransformInstanceTypes': ['ml.m5.xlarge']},\n",
       "       'ModelApprovalStatus': {'Get': 'Parameters.ModelApprovalStatus'},\n",
       "       'SkipModelValidation': 'None'}},\n",
       "     {'Name': 'LOSCreateModel-CreateModel',\n",
       "      'Type': 'Model',\n",
       "      'Arguments': {'ExecutionRoleArn': 'arn:aws:iam::361019805433:role/LabRole',\n",
       "       'PrimaryContainer': {'Image': '683313688378.dkr.ecr.us-east-1.amazonaws.com/sagemaker-xgboost:1.0-1-cpu-py3',\n",
       "        'Environment': {},\n",
       "        'ModelDataUrl': {'Get': 'Steps.HospitalLOSTrain.ModelArtifacts.S3ModelArtifacts'}}}},\n",
       "     {'Name': 'LOSTransform',\n",
       "      'Type': 'Transform',\n",
       "      'Arguments': {'ModelName': {'Get': 'Steps.LOSCreateModel-CreateModel.ModelName'},\n",
       "       'TransformInput': {'DataSource': {'S3DataSource': {'S3DataType': 'S3Prefix',\n",
       "          'S3Uri': {'Get': 'Parameters.BatchData'}}}},\n",
       "       'TransformOutput': {'S3OutputPath': 's3://sagemaker-us-east-1-361019805433/LOSTransform'},\n",
       "       'TransformResources': {'InstanceCount': 1,\n",
       "        'InstanceType': 'ml.m5.xlarge'}}}],\n",
       "    'ElseSteps': [{'Name': 'LOSAccuracyFail',\n",
       "      'Type': 'Fail',\n",
       "      'Arguments': {'ErrorMessage': {'Std:Join': {'On': ' ',\n",
       "         'Values': ['Execution failed due to Accuracy <',\n",
       "          {'Get': 'Parameters.Accuracy_Error'}]}}}}]}}]}"
      ]
     },
     "execution_count": 549,
     "metadata": {},
     "output_type": "execute_result"
    }
   ],
   "source": [
    "import json\n",
    "\n",
    "\n",
    "definition = json.loads(pipeline.definition())\n",
    "definition"
   ]
  },
  {
   "cell_type": "markdown",
   "id": "ec47fc3b-44e2-4eb5-9d62-73a8ec605149",
   "metadata": {},
   "source": [
    "## Submit the pipeline to SageMaker and start execution\n",
    "\n",
    "Submit the pipeline definition to the Pipeline service. The Pipeline service uses the role that is passed in to create all the jobs defined in the steps."
   ]
  },
  {
   "cell_type": "code",
   "execution_count": 550,
   "id": "853ee044-0cf8-4d25-b2de-a36139bb61a9",
   "metadata": {
    "tags": []
   },
   "outputs": [
    {
     "name": "stderr",
     "output_type": "stream",
     "text": [
      "WARNING:sagemaker.workflow.utilities:Popping out 'ProcessingJobName' from the pipeline definition by default since it will be overridden at pipeline execution time. Please utilize the PipelineDefinitionConfig to persist this field in the pipeline definition if desired.\n",
      "WARNING:sagemaker.workflow.utilities:Popping out 'TrainingJobName' from the pipeline definition by default since it will be overridden at pipeline execution time. Please utilize the PipelineDefinitionConfig to persist this field in the pipeline definition if desired.\n",
      "WARNING:sagemaker.workflow.utilities:Popping out 'ProcessingJobName' from the pipeline definition by default since it will be overridden at pipeline execution time. Please utilize the PipelineDefinitionConfig to persist this field in the pipeline definition if desired.\n",
      "WARNING:sagemaker.workflow.utilities:Popping out 'ModelPackageName' from the pipeline definition by default since it will be overridden at pipeline execution time. Please utilize the PipelineDefinitionConfig to persist this field in the pipeline definition if desired.\n",
      "WARNING:sagemaker.workflow.utilities:Popping out 'ModelName' from the pipeline definition by default since it will be overridden at pipeline execution time. Please utilize the PipelineDefinitionConfig to persist this field in the pipeline definition if desired.\n",
      "WARNING:sagemaker.workflow.utilities:Popping out 'TransformJobName' from the pipeline definition by default since it will be overridden at pipeline execution time. Please utilize the PipelineDefinitionConfig to persist this field in the pipeline definition if desired.\n",
      "WARNING:sagemaker.workflow.utilities:Popping out 'ProcessingJobName' from the pipeline definition by default since it will be overridden at pipeline execution time. Please utilize the PipelineDefinitionConfig to persist this field in the pipeline definition if desired.\n",
      "WARNING:sagemaker.workflow.utilities:Popping out 'TrainingJobName' from the pipeline definition by default since it will be overridden at pipeline execution time. Please utilize the PipelineDefinitionConfig to persist this field in the pipeline definition if desired.\n",
      "WARNING:sagemaker.workflow.utilities:Popping out 'ProcessingJobName' from the pipeline definition by default since it will be overridden at pipeline execution time. Please utilize the PipelineDefinitionConfig to persist this field in the pipeline definition if desired.\n",
      "WARNING:sagemaker.workflow.utilities:Popping out 'ModelPackageName' from the pipeline definition by default since it will be overridden at pipeline execution time. Please utilize the PipelineDefinitionConfig to persist this field in the pipeline definition if desired.\n",
      "WARNING:sagemaker.workflow.utilities:Popping out 'ModelName' from the pipeline definition by default since it will be overridden at pipeline execution time. Please utilize the PipelineDefinitionConfig to persist this field in the pipeline definition if desired.\n",
      "WARNING:sagemaker.workflow.utilities:Popping out 'TransformJobName' from the pipeline definition by default since it will be overridden at pipeline execution time. Please utilize the PipelineDefinitionConfig to persist this field in the pipeline definition if desired.\n"
     ]
    },
    {
     "data": {
      "text/plain": [
       "{'PipelineArn': 'arn:aws:sagemaker:us-east-1:361019805433:pipeline/LOSPipeline',\n",
       " 'ResponseMetadata': {'RequestId': '018066e4-acd8-4cb7-ba1c-42e5df2aac4d',\n",
       "  'HTTPStatusCode': 200,\n",
       "  'HTTPHeaders': {'x-amzn-requestid': '018066e4-acd8-4cb7-ba1c-42e5df2aac4d',\n",
       "   'content-type': 'application/x-amz-json-1.1',\n",
       "   'content-length': '79',\n",
       "   'date': 'Thu, 24 Oct 2024 05:17:40 GMT'},\n",
       "  'RetryAttempts': 0}}"
      ]
     },
     "execution_count": 550,
     "metadata": {},
     "output_type": "execute_result"
    }
   ],
   "source": [
    "pipeline.upsert(role_arn=role)"
   ]
  },
  {
   "cell_type": "code",
   "execution_count": 551,
   "id": "d55f9c6b-9127-472e-bf57-f4ee85250c30",
   "metadata": {
    "tags": []
   },
   "outputs": [],
   "source": [
    "execution = pipeline.start()"
   ]
  },
  {
   "cell_type": "markdown",
   "id": "dca62221-1633-43d0-96ef-9104fe193e88",
   "metadata": {},
   "source": [
    "## Pipeline Operations: Examining and Waiting for Pipeline Execution\n",
    "\n",
    "Describe the pipeline execution."
   ]
  },
  {
   "cell_type": "code",
   "execution_count": 552,
   "id": "4de949d4-b18b-4636-9ce8-860f28a66824",
   "metadata": {
    "tags": []
   },
   "outputs": [
    {
     "data": {
      "text/plain": [
       "{'PipelineArn': 'arn:aws:sagemaker:us-east-1:361019805433:pipeline/LOSPipeline',\n",
       " 'PipelineExecutionArn': 'arn:aws:sagemaker:us-east-1:361019805433:pipeline/LOSPipeline/execution/rx56yq3trimd',\n",
       " 'PipelineExecutionDisplayName': 'execution-1729747063156',\n",
       " 'PipelineExecutionStatus': 'Executing',\n",
       " 'PipelineExperimentConfig': {'ExperimentName': 'lospipeline',\n",
       "  'TrialName': 'rx56yq3trimd'},\n",
       " 'CreationTime': datetime.datetime(2024, 10, 24, 5, 17, 43, 12000, tzinfo=tzlocal()),\n",
       " 'LastModifiedTime': datetime.datetime(2024, 10, 24, 5, 17, 43, 12000, tzinfo=tzlocal()),\n",
       " 'CreatedBy': {'UserProfileArn': 'arn:aws:sagemaker:us-east-1:361019805433:user-profile/d-ttv0us1l2sdg/dshalaby',\n",
       "  'UserProfileName': 'dshalaby',\n",
       "  'DomainId': 'd-ttv0us1l2sdg',\n",
       "  'IamIdentity': {'Arn': 'arn:aws:sts::361019805433:assumed-role/LabRole/SageMaker',\n",
       "   'PrincipalId': 'AROAVIDTVB342CB4YCBW4:SageMaker'}},\n",
       " 'LastModifiedBy': {'UserProfileArn': 'arn:aws:sagemaker:us-east-1:361019805433:user-profile/d-ttv0us1l2sdg/dshalaby',\n",
       "  'UserProfileName': 'dshalaby',\n",
       "  'DomainId': 'd-ttv0us1l2sdg',\n",
       "  'IamIdentity': {'Arn': 'arn:aws:sts::361019805433:assumed-role/LabRole/SageMaker',\n",
       "   'PrincipalId': 'AROAVIDTVB342CB4YCBW4:SageMaker'}},\n",
       " 'ResponseMetadata': {'RequestId': '8c6bbc3a-dd33-418a-b880-f8e4a696e7f6',\n",
       "  'HTTPStatusCode': 200,\n",
       "  'HTTPHeaders': {'x-amzn-requestid': '8c6bbc3a-dd33-418a-b880-f8e4a696e7f6',\n",
       "   'content-type': 'application/x-amz-json-1.1',\n",
       "   'content-length': '1038',\n",
       "   'date': 'Thu, 24 Oct 2024 05:17:43 GMT'},\n",
       "  'RetryAttempts': 0}}"
      ]
     },
     "execution_count": 552,
     "metadata": {},
     "output_type": "execute_result"
    }
   ],
   "source": [
    "execution.describe()"
   ]
  },
  {
   "cell_type": "code",
   "execution_count": null,
   "id": "b31c97aa-96c0-48c8-beac-859e90f26021",
   "metadata": {
    "tags": []
   },
   "outputs": [],
   "source": [
    "execution.wait()"
   ]
  },
  {
   "cell_type": "code",
   "execution_count": 554,
   "id": "4db8375d-8962-40e2-8267-f6495c24d4f4",
   "metadata": {
    "tags": []
   },
   "outputs": [
    {
     "data": {
      "text/plain": [
       "[{'StepName': 'LOSEval',\n",
       "  'StartTime': datetime.datetime(2024, 10, 24, 5, 22, 54, 760000, tzinfo=tzlocal()),\n",
       "  'EndTime': datetime.datetime(2024, 10, 24, 5, 25, 28, 836000, tzinfo=tzlocal()),\n",
       "  'StepStatus': 'Failed',\n",
       "  'FailureReason': 'ClientError: Cannot access S3 key: sagemaker-us-east-1-361019805433/LOSeval-2024-10-24-05-17-34-134/output/evaluation/evaluation.json.',\n",
       "  'Metadata': {'ProcessingJob': {'Arn': 'arn:aws:sagemaker:us-east-1:361019805433:processing-job/pipelines-rx56yq3trimd-LOSEval-IBDKmF2HIc'}},\n",
       "  'AttemptCount': 1},\n",
       " {'StepName': 'HospitalLOSTrain',\n",
       "  'StartTime': datetime.datetime(2024, 10, 24, 5, 20, 18, 940000, tzinfo=tzlocal()),\n",
       "  'EndTime': datetime.datetime(2024, 10, 24, 5, 22, 53, 926000, tzinfo=tzlocal()),\n",
       "  'StepStatus': 'Succeeded',\n",
       "  'Metadata': {'TrainingJob': {'Arn': 'arn:aws:sagemaker:us-east-1:361019805433:training-job/pipelines-rx56yq3trimd-HospitalLOSTrain-7AcfjuWjO1'}},\n",
       "  'AttemptCount': 1},\n",
       " {'StepName': 'LOSProcess',\n",
       "  'StartTime': datetime.datetime(2024, 10, 24, 5, 17, 44, 746000, tzinfo=tzlocal()),\n",
       "  'EndTime': datetime.datetime(2024, 10, 24, 5, 20, 18, 104000, tzinfo=tzlocal()),\n",
       "  'StepStatus': 'Succeeded',\n",
       "  'Metadata': {'ProcessingJob': {'Arn': 'arn:aws:sagemaker:us-east-1:361019805433:processing-job/pipelines-rx56yq3trimd-LOSProcess-oZjduBG1mJ'}},\n",
       "  'AttemptCount': 1}]"
      ]
     },
     "execution_count": 554,
     "metadata": {},
     "output_type": "execute_result"
    }
   ],
   "source": [
    "execution.list_steps()"
   ]
  },
  {
   "cell_type": "markdown",
   "id": "a43eaed2-defa-4f50-b377-2c1b2e336375",
   "metadata": {},
   "source": [
    "### Examining the Evaluation\n",
    "\n",
    "Examine the resulting model evaluation after the pipeline completes. Download the resulting `evaluation.json` file from S3 and print the report."
   ]
  },
  {
   "cell_type": "code",
   "execution_count": 555,
   "id": "34b2b339-590d-4e06-964c-424a9ae3adaf",
   "metadata": {
    "tags": []
   },
   "outputs": [
    {
     "name": "stderr",
     "output_type": "stream",
     "text": [
      "WARNING:sagemaker.workflow.utilities:Popping out 'ProcessingJobName' from the pipeline definition by default since it will be overridden at pipeline execution time. Please utilize the PipelineDefinitionConfig to persist this field in the pipeline definition if desired.\n"
     ]
    },
    {
     "ename": "NoSuchKey",
     "evalue": "An error occurred (NoSuchKey) when calling the GetObject operation: The specified key does not exist.",
     "output_type": "error",
     "traceback": [
      "\u001b[0;31m---------------------------------------------------------------------------\u001b[0m",
      "\u001b[0;31mNoSuchKey\u001b[0m                                 Traceback (most recent call last)",
      "Cell \u001b[0;32mIn[555], line 4\u001b[0m\n\u001b[1;32m      1\u001b[0m \u001b[38;5;28;01mfrom\u001b[39;00m \u001b[38;5;21;01mpprint\u001b[39;00m \u001b[38;5;28;01mimport\u001b[39;00m pprint\n\u001b[0;32m----> 4\u001b[0m evaluation_json \u001b[38;5;241m=\u001b[39m \u001b[43msagemaker\u001b[49m\u001b[38;5;241;43m.\u001b[39;49m\u001b[43ms3\u001b[49m\u001b[38;5;241;43m.\u001b[39;49m\u001b[43mS3Downloader\u001b[49m\u001b[38;5;241;43m.\u001b[39;49m\u001b[43mread_file\u001b[49m\u001b[43m(\u001b[49m\n\u001b[1;32m      5\u001b[0m \u001b[43m    \u001b[49m\u001b[38;5;124;43m\"\u001b[39;49m\u001b[38;5;132;43;01m{}\u001b[39;49;00m\u001b[38;5;124;43m/evaluation.json\u001b[39;49m\u001b[38;5;124;43m\"\u001b[39;49m\u001b[38;5;241;43m.\u001b[39;49m\u001b[43mformat\u001b[49m\u001b[43m(\u001b[49m\n\u001b[1;32m      6\u001b[0m \u001b[43m        \u001b[49m\u001b[43mstep_eval\u001b[49m\u001b[38;5;241;43m.\u001b[39;49m\u001b[43marguments\u001b[49m\u001b[43m[\u001b[49m\u001b[38;5;124;43m\"\u001b[39;49m\u001b[38;5;124;43mProcessingOutputConfig\u001b[39;49m\u001b[38;5;124;43m\"\u001b[39;49m\u001b[43m]\u001b[49m\u001b[43m[\u001b[49m\u001b[38;5;124;43m\"\u001b[39;49m\u001b[38;5;124;43mOutputs\u001b[39;49m\u001b[38;5;124;43m\"\u001b[39;49m\u001b[43m]\u001b[49m\u001b[43m[\u001b[49m\u001b[38;5;241;43m0\u001b[39;49m\u001b[43m]\u001b[49m\u001b[43m[\u001b[49m\u001b[38;5;124;43m\"\u001b[39;49m\u001b[38;5;124;43mS3Output\u001b[39;49m\u001b[38;5;124;43m\"\u001b[39;49m\u001b[43m]\u001b[49m\u001b[43m[\u001b[49m\u001b[38;5;124;43m\"\u001b[39;49m\u001b[38;5;124;43mS3Uri\u001b[39;49m\u001b[38;5;124;43m\"\u001b[39;49m\u001b[43m]\u001b[49m\n\u001b[1;32m      7\u001b[0m \u001b[43m    \u001b[49m\u001b[43m)\u001b[49m\n\u001b[1;32m      8\u001b[0m \u001b[43m)\u001b[49m\n\u001b[1;32m      9\u001b[0m pprint(json\u001b[38;5;241m.\u001b[39mloads(evaluation_json))\n",
      "File \u001b[0;32m/opt/conda/lib/python3.10/site-packages/sagemaker/s3.py:180\u001b[0m, in \u001b[0;36mS3Downloader.read_file\u001b[0;34m(s3_uri, sagemaker_session)\u001b[0m\n\u001b[1;32m    176\u001b[0m sagemaker_session \u001b[38;5;241m=\u001b[39m sagemaker_session \u001b[38;5;129;01mor\u001b[39;00m Session()\n\u001b[1;32m    178\u001b[0m bucket, object_key \u001b[38;5;241m=\u001b[39m parse_s3_url(url\u001b[38;5;241m=\u001b[39ms3_uri)\n\u001b[0;32m--> 180\u001b[0m \u001b[38;5;28;01mreturn\u001b[39;00m \u001b[43msagemaker_session\u001b[49m\u001b[38;5;241;43m.\u001b[39;49m\u001b[43mread_s3_file\u001b[49m\u001b[43m(\u001b[49m\u001b[43mbucket\u001b[49m\u001b[38;5;241;43m=\u001b[39;49m\u001b[43mbucket\u001b[49m\u001b[43m,\u001b[49m\u001b[43m \u001b[49m\u001b[43mkey_prefix\u001b[49m\u001b[38;5;241;43m=\u001b[39;49m\u001b[43mobject_key\u001b[49m\u001b[43m)\u001b[49m\n",
      "File \u001b[0;32m/opt/conda/lib/python3.10/site-packages/sagemaker/session.py:558\u001b[0m, in \u001b[0;36mSession.read_s3_file\u001b[0;34m(self, bucket, key_prefix)\u001b[0m\n\u001b[1;32m    555\u001b[0m     s3 \u001b[38;5;241m=\u001b[39m \u001b[38;5;28mself\u001b[39m\u001b[38;5;241m.\u001b[39ms3_client\n\u001b[1;32m    557\u001b[0m \u001b[38;5;66;03m# Explicitly passing a None kms_key to boto3 throws a validation error.\u001b[39;00m\n\u001b[0;32m--> 558\u001b[0m s3_object \u001b[38;5;241m=\u001b[39m \u001b[43ms3\u001b[49m\u001b[38;5;241;43m.\u001b[39;49m\u001b[43mget_object\u001b[49m\u001b[43m(\u001b[49m\u001b[43mBucket\u001b[49m\u001b[38;5;241;43m=\u001b[39;49m\u001b[43mbucket\u001b[49m\u001b[43m,\u001b[49m\u001b[43m \u001b[49m\u001b[43mKey\u001b[49m\u001b[38;5;241;43m=\u001b[39;49m\u001b[43mkey_prefix\u001b[49m\u001b[43m)\u001b[49m\n\u001b[1;32m    560\u001b[0m \u001b[38;5;28;01mreturn\u001b[39;00m s3_object[\u001b[38;5;124m\"\u001b[39m\u001b[38;5;124mBody\u001b[39m\u001b[38;5;124m\"\u001b[39m]\u001b[38;5;241m.\u001b[39mread()\u001b[38;5;241m.\u001b[39mdecode(\u001b[38;5;124m\"\u001b[39m\u001b[38;5;124mutf-8\u001b[39m\u001b[38;5;124m\"\u001b[39m)\n",
      "File \u001b[0;32m/opt/conda/lib/python3.10/site-packages/botocore/client.py:569\u001b[0m, in \u001b[0;36mClientCreator._create_api_method.<locals>._api_call\u001b[0;34m(self, *args, **kwargs)\u001b[0m\n\u001b[1;32m    565\u001b[0m     \u001b[38;5;28;01mraise\u001b[39;00m \u001b[38;5;167;01mTypeError\u001b[39;00m(\n\u001b[1;32m    566\u001b[0m         \u001b[38;5;124mf\u001b[39m\u001b[38;5;124m\"\u001b[39m\u001b[38;5;132;01m{\u001b[39;00mpy_operation_name\u001b[38;5;132;01m}\u001b[39;00m\u001b[38;5;124m() only accepts keyword arguments.\u001b[39m\u001b[38;5;124m\"\u001b[39m\n\u001b[1;32m    567\u001b[0m     )\n\u001b[1;32m    568\u001b[0m \u001b[38;5;66;03m# The \"self\" in this scope is referring to the BaseClient.\u001b[39;00m\n\u001b[0;32m--> 569\u001b[0m \u001b[38;5;28;01mreturn\u001b[39;00m \u001b[38;5;28;43mself\u001b[39;49m\u001b[38;5;241;43m.\u001b[39;49m\u001b[43m_make_api_call\u001b[49m\u001b[43m(\u001b[49m\u001b[43moperation_name\u001b[49m\u001b[43m,\u001b[49m\u001b[43m \u001b[49m\u001b[43mkwargs\u001b[49m\u001b[43m)\u001b[49m\n",
      "File \u001b[0;32m/opt/conda/lib/python3.10/site-packages/botocore/client.py:1023\u001b[0m, in \u001b[0;36mBaseClient._make_api_call\u001b[0;34m(self, operation_name, api_params)\u001b[0m\n\u001b[1;32m   1019\u001b[0m     error_code \u001b[38;5;241m=\u001b[39m error_info\u001b[38;5;241m.\u001b[39mget(\u001b[38;5;124m\"\u001b[39m\u001b[38;5;124mQueryErrorCode\u001b[39m\u001b[38;5;124m\"\u001b[39m) \u001b[38;5;129;01mor\u001b[39;00m error_info\u001b[38;5;241m.\u001b[39mget(\n\u001b[1;32m   1020\u001b[0m         \u001b[38;5;124m\"\u001b[39m\u001b[38;5;124mCode\u001b[39m\u001b[38;5;124m\"\u001b[39m\n\u001b[1;32m   1021\u001b[0m     )\n\u001b[1;32m   1022\u001b[0m     error_class \u001b[38;5;241m=\u001b[39m \u001b[38;5;28mself\u001b[39m\u001b[38;5;241m.\u001b[39mexceptions\u001b[38;5;241m.\u001b[39mfrom_code(error_code)\n\u001b[0;32m-> 1023\u001b[0m     \u001b[38;5;28;01mraise\u001b[39;00m error_class(parsed_response, operation_name)\n\u001b[1;32m   1024\u001b[0m \u001b[38;5;28;01melse\u001b[39;00m:\n\u001b[1;32m   1025\u001b[0m     \u001b[38;5;28;01mreturn\u001b[39;00m parsed_response\n",
      "\u001b[0;31mNoSuchKey\u001b[0m: An error occurred (NoSuchKey) when calling the GetObject operation: The specified key does not exist."
     ]
    }
   ],
   "source": [
    "from pprint import pprint\n",
    "\n",
    "\n",
    "evaluation_json = sagemaker.s3.S3Downloader.read_file(\n",
    "    \"{}/evaluation.json\".format(\n",
    "        step_eval.arguments[\"ProcessingOutputConfig\"][\"Outputs\"][0][\"S3Output\"][\"S3Uri\"]\n",
    "    )\n",
    ")\n",
    "pprint(json.loads(evaluation_json))"
   ]
  },
  {
   "cell_type": "code",
   "execution_count": 60,
   "id": "365e3c37-a2ed-4ec0-b142-021678b1ea16",
   "metadata": {
    "tags": []
   },
   "outputs": [
    {
     "name": "stderr",
     "output_type": "stream",
     "text": [
      "WARNING:sagemaker.workflow.utilities:Popping out 'ProcessingJobName' from the pipeline definition by default since it will be overridden at pipeline execution time. Please utilize the PipelineDefinitionConfig to persist this field in the pipeline definition if desired.\n"
     ]
    },
    {
     "name": "stdout",
     "output_type": "stream",
     "text": [
      "s3://sagemaker-us-east-1-361019805433/script-LOS-eval-2024-10-20-22-20-20-192/output/evaluation\n"
     ]
    }
   ],
   "source": [
    "s3_uri = step_eval.arguments[\"ProcessingOutputConfig\"][\"Outputs\"][0][\"S3Output\"][\"S3Uri\"]\n",
    "print(s3_uri)\n"
   ]
  },
  {
   "cell_type": "code",
   "execution_count": 61,
   "id": "88e3856b-4c5b-4b0a-b481-e74d6214541a",
   "metadata": {
    "tags": []
   },
   "outputs": [
    {
     "name": "stderr",
     "output_type": "stream",
     "text": [
      "WARNING:sagemaker.workflow.utilities:Popping out 'ProcessingJobName' from the pipeline definition by default since it will be overridden at pipeline execution time. Please utilize the PipelineDefinitionConfig to persist this field in the pipeline definition if desired.\n"
     ]
    },
    {
     "name": "stdout",
     "output_type": "stream",
     "text": [
      "s3://sagemaker-us-east-1-361019805433/script-LOS-eval-2024-10-20-22-20-20-192/output/evaluation/evaluation.json\n"
     ]
    }
   ],
   "source": [
    "s3_uri = \"{}/evaluation.json\".format(step_eval.arguments[\"ProcessingOutputConfig\"][\"Outputs\"][0][\"S3Output\"][\"S3Uri\"])\n",
    "print(s3_uri)\n"
   ]
  },
  {
   "cell_type": "code",
   "execution_count": null,
   "id": "6dc11889-df43-455c-be62-bd2eb6f76c15",
   "metadata": {},
   "outputs": [],
   "source": []
  }
 ],
 "metadata": {
  "availableInstances": [
   {
    "_defaultOrder": 0,
    "_isFastLaunch": true,
    "category": "General purpose",
    "gpuNum": 0,
    "hideHardwareSpecs": false,
    "memoryGiB": 4,
    "name": "ml.t3.medium",
    "vcpuNum": 2
   },
   {
    "_defaultOrder": 1,
    "_isFastLaunch": false,
    "category": "General purpose",
    "gpuNum": 0,
    "hideHardwareSpecs": false,
    "memoryGiB": 8,
    "name": "ml.t3.large",
    "vcpuNum": 2
   },
   {
    "_defaultOrder": 2,
    "_isFastLaunch": false,
    "category": "General purpose",
    "gpuNum": 0,
    "hideHardwareSpecs": false,
    "memoryGiB": 16,
    "name": "ml.t3.xlarge",
    "vcpuNum": 4
   },
   {
    "_defaultOrder": 3,
    "_isFastLaunch": false,
    "category": "General purpose",
    "gpuNum": 0,
    "hideHardwareSpecs": false,
    "memoryGiB": 32,
    "name": "ml.t3.2xlarge",
    "vcpuNum": 8
   },
   {
    "_defaultOrder": 4,
    "_isFastLaunch": true,
    "category": "General purpose",
    "gpuNum": 0,
    "hideHardwareSpecs": false,
    "memoryGiB": 8,
    "name": "ml.m5.large",
    "vcpuNum": 2
   },
   {
    "_defaultOrder": 5,
    "_isFastLaunch": false,
    "category": "General purpose",
    "gpuNum": 0,
    "hideHardwareSpecs": false,
    "memoryGiB": 16,
    "name": "ml.m5.xlarge",
    "vcpuNum": 4
   },
   {
    "_defaultOrder": 6,
    "_isFastLaunch": false,
    "category": "General purpose",
    "gpuNum": 0,
    "hideHardwareSpecs": false,
    "memoryGiB": 32,
    "name": "ml.m5.2xlarge",
    "vcpuNum": 8
   },
   {
    "_defaultOrder": 7,
    "_isFastLaunch": false,
    "category": "General purpose",
    "gpuNum": 0,
    "hideHardwareSpecs": false,
    "memoryGiB": 64,
    "name": "ml.m5.4xlarge",
    "vcpuNum": 16
   },
   {
    "_defaultOrder": 8,
    "_isFastLaunch": false,
    "category": "General purpose",
    "gpuNum": 0,
    "hideHardwareSpecs": false,
    "memoryGiB": 128,
    "name": "ml.m5.8xlarge",
    "vcpuNum": 32
   },
   {
    "_defaultOrder": 9,
    "_isFastLaunch": false,
    "category": "General purpose",
    "gpuNum": 0,
    "hideHardwareSpecs": false,
    "memoryGiB": 192,
    "name": "ml.m5.12xlarge",
    "vcpuNum": 48
   },
   {
    "_defaultOrder": 10,
    "_isFastLaunch": false,
    "category": "General purpose",
    "gpuNum": 0,
    "hideHardwareSpecs": false,
    "memoryGiB": 256,
    "name": "ml.m5.16xlarge",
    "vcpuNum": 64
   },
   {
    "_defaultOrder": 11,
    "_isFastLaunch": false,
    "category": "General purpose",
    "gpuNum": 0,
    "hideHardwareSpecs": false,
    "memoryGiB": 384,
    "name": "ml.m5.24xlarge",
    "vcpuNum": 96
   },
   {
    "_defaultOrder": 12,
    "_isFastLaunch": false,
    "category": "General purpose",
    "gpuNum": 0,
    "hideHardwareSpecs": false,
    "memoryGiB": 8,
    "name": "ml.m5d.large",
    "vcpuNum": 2
   },
   {
    "_defaultOrder": 13,
    "_isFastLaunch": false,
    "category": "General purpose",
    "gpuNum": 0,
    "hideHardwareSpecs": false,
    "memoryGiB": 16,
    "name": "ml.m5d.xlarge",
    "vcpuNum": 4
   },
   {
    "_defaultOrder": 14,
    "_isFastLaunch": false,
    "category": "General purpose",
    "gpuNum": 0,
    "hideHardwareSpecs": false,
    "memoryGiB": 32,
    "name": "ml.m5d.2xlarge",
    "vcpuNum": 8
   },
   {
    "_defaultOrder": 15,
    "_isFastLaunch": false,
    "category": "General purpose",
    "gpuNum": 0,
    "hideHardwareSpecs": false,
    "memoryGiB": 64,
    "name": "ml.m5d.4xlarge",
    "vcpuNum": 16
   },
   {
    "_defaultOrder": 16,
    "_isFastLaunch": false,
    "category": "General purpose",
    "gpuNum": 0,
    "hideHardwareSpecs": false,
    "memoryGiB": 128,
    "name": "ml.m5d.8xlarge",
    "vcpuNum": 32
   },
   {
    "_defaultOrder": 17,
    "_isFastLaunch": false,
    "category": "General purpose",
    "gpuNum": 0,
    "hideHardwareSpecs": false,
    "memoryGiB": 192,
    "name": "ml.m5d.12xlarge",
    "vcpuNum": 48
   },
   {
    "_defaultOrder": 18,
    "_isFastLaunch": false,
    "category": "General purpose",
    "gpuNum": 0,
    "hideHardwareSpecs": false,
    "memoryGiB": 256,
    "name": "ml.m5d.16xlarge",
    "vcpuNum": 64
   },
   {
    "_defaultOrder": 19,
    "_isFastLaunch": false,
    "category": "General purpose",
    "gpuNum": 0,
    "hideHardwareSpecs": false,
    "memoryGiB": 384,
    "name": "ml.m5d.24xlarge",
    "vcpuNum": 96
   },
   {
    "_defaultOrder": 20,
    "_isFastLaunch": false,
    "category": "General purpose",
    "gpuNum": 0,
    "hideHardwareSpecs": true,
    "memoryGiB": 0,
    "name": "ml.geospatial.interactive",
    "supportedImageNames": [
     "sagemaker-geospatial-v1-0"
    ],
    "vcpuNum": 0
   },
   {
    "_defaultOrder": 21,
    "_isFastLaunch": true,
    "category": "Compute optimized",
    "gpuNum": 0,
    "hideHardwareSpecs": false,
    "memoryGiB": 4,
    "name": "ml.c5.large",
    "vcpuNum": 2
   },
   {
    "_defaultOrder": 22,
    "_isFastLaunch": false,
    "category": "Compute optimized",
    "gpuNum": 0,
    "hideHardwareSpecs": false,
    "memoryGiB": 8,
    "name": "ml.c5.xlarge",
    "vcpuNum": 4
   },
   {
    "_defaultOrder": 23,
    "_isFastLaunch": false,
    "category": "Compute optimized",
    "gpuNum": 0,
    "hideHardwareSpecs": false,
    "memoryGiB": 16,
    "name": "ml.c5.2xlarge",
    "vcpuNum": 8
   },
   {
    "_defaultOrder": 24,
    "_isFastLaunch": false,
    "category": "Compute optimized",
    "gpuNum": 0,
    "hideHardwareSpecs": false,
    "memoryGiB": 32,
    "name": "ml.c5.4xlarge",
    "vcpuNum": 16
   },
   {
    "_defaultOrder": 25,
    "_isFastLaunch": false,
    "category": "Compute optimized",
    "gpuNum": 0,
    "hideHardwareSpecs": false,
    "memoryGiB": 72,
    "name": "ml.c5.9xlarge",
    "vcpuNum": 36
   },
   {
    "_defaultOrder": 26,
    "_isFastLaunch": false,
    "category": "Compute optimized",
    "gpuNum": 0,
    "hideHardwareSpecs": false,
    "memoryGiB": 96,
    "name": "ml.c5.12xlarge",
    "vcpuNum": 48
   },
   {
    "_defaultOrder": 27,
    "_isFastLaunch": false,
    "category": "Compute optimized",
    "gpuNum": 0,
    "hideHardwareSpecs": false,
    "memoryGiB": 144,
    "name": "ml.c5.18xlarge",
    "vcpuNum": 72
   },
   {
    "_defaultOrder": 28,
    "_isFastLaunch": false,
    "category": "Compute optimized",
    "gpuNum": 0,
    "hideHardwareSpecs": false,
    "memoryGiB": 192,
    "name": "ml.c5.24xlarge",
    "vcpuNum": 96
   },
   {
    "_defaultOrder": 29,
    "_isFastLaunch": true,
    "category": "Accelerated computing",
    "gpuNum": 1,
    "hideHardwareSpecs": false,
    "memoryGiB": 16,
    "name": "ml.g4dn.xlarge",
    "vcpuNum": 4
   },
   {
    "_defaultOrder": 30,
    "_isFastLaunch": false,
    "category": "Accelerated computing",
    "gpuNum": 1,
    "hideHardwareSpecs": false,
    "memoryGiB": 32,
    "name": "ml.g4dn.2xlarge",
    "vcpuNum": 8
   },
   {
    "_defaultOrder": 31,
    "_isFastLaunch": false,
    "category": "Accelerated computing",
    "gpuNum": 1,
    "hideHardwareSpecs": false,
    "memoryGiB": 64,
    "name": "ml.g4dn.4xlarge",
    "vcpuNum": 16
   },
   {
    "_defaultOrder": 32,
    "_isFastLaunch": false,
    "category": "Accelerated computing",
    "gpuNum": 1,
    "hideHardwareSpecs": false,
    "memoryGiB": 128,
    "name": "ml.g4dn.8xlarge",
    "vcpuNum": 32
   },
   {
    "_defaultOrder": 33,
    "_isFastLaunch": false,
    "category": "Accelerated computing",
    "gpuNum": 4,
    "hideHardwareSpecs": false,
    "memoryGiB": 192,
    "name": "ml.g4dn.12xlarge",
    "vcpuNum": 48
   },
   {
    "_defaultOrder": 34,
    "_isFastLaunch": false,
    "category": "Accelerated computing",
    "gpuNum": 1,
    "hideHardwareSpecs": false,
    "memoryGiB": 256,
    "name": "ml.g4dn.16xlarge",
    "vcpuNum": 64
   },
   {
    "_defaultOrder": 35,
    "_isFastLaunch": false,
    "category": "Accelerated computing",
    "gpuNum": 1,
    "hideHardwareSpecs": false,
    "memoryGiB": 61,
    "name": "ml.p3.2xlarge",
    "vcpuNum": 8
   },
   {
    "_defaultOrder": 36,
    "_isFastLaunch": false,
    "category": "Accelerated computing",
    "gpuNum": 4,
    "hideHardwareSpecs": false,
    "memoryGiB": 244,
    "name": "ml.p3.8xlarge",
    "vcpuNum": 32
   },
   {
    "_defaultOrder": 37,
    "_isFastLaunch": false,
    "category": "Accelerated computing",
    "gpuNum": 8,
    "hideHardwareSpecs": false,
    "memoryGiB": 488,
    "name": "ml.p3.16xlarge",
    "vcpuNum": 64
   },
   {
    "_defaultOrder": 38,
    "_isFastLaunch": false,
    "category": "Accelerated computing",
    "gpuNum": 8,
    "hideHardwareSpecs": false,
    "memoryGiB": 768,
    "name": "ml.p3dn.24xlarge",
    "vcpuNum": 96
   },
   {
    "_defaultOrder": 39,
    "_isFastLaunch": false,
    "category": "Memory Optimized",
    "gpuNum": 0,
    "hideHardwareSpecs": false,
    "memoryGiB": 16,
    "name": "ml.r5.large",
    "vcpuNum": 2
   },
   {
    "_defaultOrder": 40,
    "_isFastLaunch": false,
    "category": "Memory Optimized",
    "gpuNum": 0,
    "hideHardwareSpecs": false,
    "memoryGiB": 32,
    "name": "ml.r5.xlarge",
    "vcpuNum": 4
   },
   {
    "_defaultOrder": 41,
    "_isFastLaunch": false,
    "category": "Memory Optimized",
    "gpuNum": 0,
    "hideHardwareSpecs": false,
    "memoryGiB": 64,
    "name": "ml.r5.2xlarge",
    "vcpuNum": 8
   },
   {
    "_defaultOrder": 42,
    "_isFastLaunch": false,
    "category": "Memory Optimized",
    "gpuNum": 0,
    "hideHardwareSpecs": false,
    "memoryGiB": 128,
    "name": "ml.r5.4xlarge",
    "vcpuNum": 16
   },
   {
    "_defaultOrder": 43,
    "_isFastLaunch": false,
    "category": "Memory Optimized",
    "gpuNum": 0,
    "hideHardwareSpecs": false,
    "memoryGiB": 256,
    "name": "ml.r5.8xlarge",
    "vcpuNum": 32
   },
   {
    "_defaultOrder": 44,
    "_isFastLaunch": false,
    "category": "Memory Optimized",
    "gpuNum": 0,
    "hideHardwareSpecs": false,
    "memoryGiB": 384,
    "name": "ml.r5.12xlarge",
    "vcpuNum": 48
   },
   {
    "_defaultOrder": 45,
    "_isFastLaunch": false,
    "category": "Memory Optimized",
    "gpuNum": 0,
    "hideHardwareSpecs": false,
    "memoryGiB": 512,
    "name": "ml.r5.16xlarge",
    "vcpuNum": 64
   },
   {
    "_defaultOrder": 46,
    "_isFastLaunch": false,
    "category": "Memory Optimized",
    "gpuNum": 0,
    "hideHardwareSpecs": false,
    "memoryGiB": 768,
    "name": "ml.r5.24xlarge",
    "vcpuNum": 96
   },
   {
    "_defaultOrder": 47,
    "_isFastLaunch": false,
    "category": "Accelerated computing",
    "gpuNum": 1,
    "hideHardwareSpecs": false,
    "memoryGiB": 16,
    "name": "ml.g5.xlarge",
    "vcpuNum": 4
   },
   {
    "_defaultOrder": 48,
    "_isFastLaunch": false,
    "category": "Accelerated computing",
    "gpuNum": 1,
    "hideHardwareSpecs": false,
    "memoryGiB": 32,
    "name": "ml.g5.2xlarge",
    "vcpuNum": 8
   },
   {
    "_defaultOrder": 49,
    "_isFastLaunch": false,
    "category": "Accelerated computing",
    "gpuNum": 1,
    "hideHardwareSpecs": false,
    "memoryGiB": 64,
    "name": "ml.g5.4xlarge",
    "vcpuNum": 16
   },
   {
    "_defaultOrder": 50,
    "_isFastLaunch": false,
    "category": "Accelerated computing",
    "gpuNum": 1,
    "hideHardwareSpecs": false,
    "memoryGiB": 128,
    "name": "ml.g5.8xlarge",
    "vcpuNum": 32
   },
   {
    "_defaultOrder": 51,
    "_isFastLaunch": false,
    "category": "Accelerated computing",
    "gpuNum": 1,
    "hideHardwareSpecs": false,
    "memoryGiB": 256,
    "name": "ml.g5.16xlarge",
    "vcpuNum": 64
   },
   {
    "_defaultOrder": 52,
    "_isFastLaunch": false,
    "category": "Accelerated computing",
    "gpuNum": 4,
    "hideHardwareSpecs": false,
    "memoryGiB": 192,
    "name": "ml.g5.12xlarge",
    "vcpuNum": 48
   },
   {
    "_defaultOrder": 53,
    "_isFastLaunch": false,
    "category": "Accelerated computing",
    "gpuNum": 4,
    "hideHardwareSpecs": false,
    "memoryGiB": 384,
    "name": "ml.g5.24xlarge",
    "vcpuNum": 96
   },
   {
    "_defaultOrder": 54,
    "_isFastLaunch": false,
    "category": "Accelerated computing",
    "gpuNum": 8,
    "hideHardwareSpecs": false,
    "memoryGiB": 768,
    "name": "ml.g5.48xlarge",
    "vcpuNum": 192
   },
   {
    "_defaultOrder": 55,
    "_isFastLaunch": false,
    "category": "Accelerated computing",
    "gpuNum": 8,
    "hideHardwareSpecs": false,
    "memoryGiB": 1152,
    "name": "ml.p4d.24xlarge",
    "vcpuNum": 96
   },
   {
    "_defaultOrder": 56,
    "_isFastLaunch": false,
    "category": "Accelerated computing",
    "gpuNum": 8,
    "hideHardwareSpecs": false,
    "memoryGiB": 1152,
    "name": "ml.p4de.24xlarge",
    "vcpuNum": 96
   },
   {
    "_defaultOrder": 57,
    "_isFastLaunch": false,
    "category": "Accelerated computing",
    "gpuNum": 0,
    "hideHardwareSpecs": false,
    "memoryGiB": 32,
    "name": "ml.trn1.2xlarge",
    "vcpuNum": 8
   },
   {
    "_defaultOrder": 58,
    "_isFastLaunch": false,
    "category": "Accelerated computing",
    "gpuNum": 0,
    "hideHardwareSpecs": false,
    "memoryGiB": 512,
    "name": "ml.trn1.32xlarge",
    "vcpuNum": 128
   },
   {
    "_defaultOrder": 59,
    "_isFastLaunch": false,
    "category": "Accelerated computing",
    "gpuNum": 0,
    "hideHardwareSpecs": false,
    "memoryGiB": 512,
    "name": "ml.trn1n.32xlarge",
    "vcpuNum": 128
   }
  ],
  "instance_type": "ml.t3.medium",
  "kernelspec": {
   "display_name": "Python 3 (Data Science 3.0)",
   "language": "python",
   "name": "python3__SAGEMAKER_INTERNAL__arn:aws:sagemaker:us-east-1:081325390199:image/sagemaker-data-science-310-v1"
  },
  "language_info": {
   "codemirror_mode": {
    "name": "ipython",
    "version": 3
   },
   "file_extension": ".py",
   "mimetype": "text/x-python",
   "name": "python",
   "nbconvert_exporter": "python",
   "pygments_lexer": "ipython3",
   "version": "3.10.6"
  }
 },
 "nbformat": 4,
 "nbformat_minor": 5
}

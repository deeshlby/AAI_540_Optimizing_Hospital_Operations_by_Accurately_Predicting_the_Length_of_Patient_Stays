{
 "cells": [
  {
   "cell_type": "code",
   "execution_count": 4,
   "id": "30dd78ca-14a0-45d1-b3ea-fad07d6c5e73",
   "metadata": {
    "tags": []
   },
   "outputs": [],
   "source": [
    "#import zipfile\n",
    "#import os\n",
    "\n",
    "# Define the zip file path and extraction directory\n",
    "#zip_file_path = 'HelthAnalytics_data_zip.zip'\n",
    "#extract_to = './extracted_data/'  # You can set this to your desired extraction path\n",
    "\n",
    "# Create the extraction directory if it doesn't exist\n",
    "#os.makedirs(extract_to, exist_ok=True)\n",
    "\n",
    "# Unzip the file\n",
    "#with zipfile.ZipFile(zip_file_path, 'r') as zip_ref:\n",
    "#    zip_ref.extractall(extract_to)\n",
    "\n",
    "#print(f'File extracted to {extract_to}')\n"
   ]
  },
  {
   "cell_type": "markdown",
   "id": "7e160fea-b4a0-47fd-8ccc-1feeee4b0112",
   "metadata": {},
   "source": [
    "# Create s3 bucket"
   ]
  },
  {
   "cell_type": "code",
   "execution_count": 89,
   "id": "ed8c23e9-b047-403f-95dd-f90094ca33dd",
   "metadata": {
    "tags": []
   },
   "outputs": [],
   "source": [
    "import boto3\n",
    "import sagemaker\n",
    "\n",
    "session = boto3.session.Session()\n",
    "region = session.region_name\n",
    "sagemaker_session = sagemaker.Session()\n",
    "bucket = sagemaker_session.default_bucket()\n",
    "\n",
    "s3 = boto3.Session().client(service_name=\"s3\", region_name=region)"
   ]
  },
  {
   "cell_type": "code",
   "execution_count": 90,
   "id": "d88bf417-8a38-4d8f-9ba8-ec70337d3414",
   "metadata": {
    "tags": []
   },
   "outputs": [],
   "source": [
    "setup_s3_bucket_passed = False"
   ]
  },
  {
   "cell_type": "markdown",
   "id": "b0c62ad9-15ba-4a4d-b3f7-5294ffb3e6b1",
   "metadata": {},
   "source": [
    "# Verify S3_BUCKET Bucket Creation"
   ]
  },
  {
   "cell_type": "code",
   "execution_count": 91,
   "id": "9846a10d-193e-4d4e-be47-83674df27a0e",
   "metadata": {
    "tags": []
   },
   "outputs": [
    {
     "name": "stdout",
     "output_type": "stream",
     "text": [
      "{'ResponseMetadata': {'RequestId': '8SZ6P1W3GBXH3391', 'HostId': 'O2wmbBg/LeP45G/hDbKpS/d8WRi9gCmHToHcdMDpzUqAlGVSLxtc/4wtPvh2VbEPF0SwUqhnMT8=', 'HTTPStatusCode': 200, 'HTTPHeaders': {'x-amz-id-2': 'O2wmbBg/LeP45G/hDbKpS/d8WRi9gCmHToHcdMDpzUqAlGVSLxtc/4wtPvh2VbEPF0SwUqhnMT8=', 'x-amz-request-id': '8SZ6P1W3GBXH3391', 'date': 'Thu, 26 Sep 2024 03:35:34 GMT', 'x-amz-bucket-region': 'us-east-1', 'x-amz-access-point-alias': 'false', 'content-type': 'application/xml', 'server': 'AmazonS3'}, 'RetryAttempts': 0}, 'BucketRegion': 'us-east-1', 'AccessPointAlias': False}\n"
     ]
    }
   ],
   "source": [
    "from botocore.client import ClientError\n",
    "\n",
    "response = None\n",
    "\n",
    "try:\n",
    "    response = s3.head_bucket(Bucket=bucket)\n",
    "    print(response)\n",
    "    setup_s3_bucket_passed = True\n",
    "except ClientError as e:\n",
    "    print(\"[ERROR] Cannot find bucket {} in {} due to {}.\".format(bucket, response, e))"
   ]
  },
  {
   "cell_type": "code",
   "execution_count": 92,
   "id": "bb18eb03-38f3-47df-bc08-ca3991ed82e0",
   "metadata": {
    "tags": []
   },
   "outputs": [
    {
     "name": "stdout",
     "output_type": "stream",
     "text": [
      "Stored 'setup_s3_bucket_passed' (bool)\n"
     ]
    }
   ],
   "source": [
    "%store setup_s3_bucket_passed"
   ]
  },
  {
   "cell_type": "code",
   "execution_count": 93,
   "id": "8d298ad9-8958-47e0-937f-eec8dbd29ebd",
   "metadata": {
    "tags": []
   },
   "outputs": [],
   "source": [
    "%store -r setup_dependencies_passed"
   ]
  },
  {
   "cell_type": "code",
   "execution_count": 94,
   "id": "33d9734d-0c1e-4ab4-b519-5fdf2741fe24",
   "metadata": {
    "tags": []
   },
   "outputs": [
    {
     "name": "stdout",
     "output_type": "stream",
     "text": [
      "Stored variables and their in-db values:\n",
      "ingest_create_athena_db_passed                    -> True\n",
      "ingest_create_athena_table_csv_passed             -> True\n",
      "s3_final_csv                                      -> 's3://sagemaker-us-east-1-284926681852/final_proje\n",
      "s3_private_path_csv                               -> 's3://sagemaker-us-east-1-284926681852/homework_2_\n",
      "s3_private_path_tsv                               -> 's3://sagemaker-us-east-1-284926681852/amazon-revi\n",
      "setup_dependencies_passed                         -> True\n",
      "setup_s3_bucket_passed                            -> True\n"
     ]
    }
   ],
   "source": [
    "%store"
   ]
  },
  {
   "cell_type": "code",
   "execution_count": 95,
   "id": "61e0e274-6c0b-4d51-93d6-c29fb2dad387",
   "metadata": {
    "tags": []
   },
   "outputs": [],
   "source": [
    "try:\n",
    "    setup_dependencies_passed\n",
    "except NameError:\n",
    "    print(\"+++++++++++++++++++++++++++++++\")\n",
    "    print(\"[ERROR] YOU HAVE TO RUN ALL NOTEBOOKS IN THE SETUP FOLDER FIRST. You are missing Setup Dependencies.\")\n",
    "    print(\"+++++++++++++++++++++++++++++++\")"
   ]
  },
  {
   "cell_type": "code",
   "execution_count": 96,
   "id": "0d3e8e42-cd50-4a61-a22d-327d90245fa5",
   "metadata": {
    "tags": []
   },
   "outputs": [
    {
     "name": "stdout",
     "output_type": "stream",
     "text": [
      "s3://sagemaker-us-east-1-284926681852/final_project_cvs\n"
     ]
    }
   ],
   "source": [
    "s3_final_csv = \"s3://{}/final_project_cvs\".format(bucket)\n",
    "\n",
    "print(s3_final_csv)"
   ]
  },
  {
   "cell_type": "code",
   "execution_count": 97,
   "id": "127bf925-1ad6-4087-aa36-dc33ffb75a63",
   "metadata": {
    "tags": []
   },
   "outputs": [
    {
     "name": "stdout",
     "output_type": "stream",
     "text": [
      "Stored 's3_final_csv' (str)\n"
     ]
    }
   ],
   "source": [
    "%store s3_final_csv"
   ]
  },
  {
   "cell_type": "code",
   "execution_count": 98,
   "id": "537e8200-f0d6-4290-9314-427dc723bde5",
   "metadata": {
    "tags": []
   },
   "outputs": [
    {
     "name": "stdout",
     "output_type": "stream",
     "text": [
      "s3://sagemaker-us-east-1-284926681852/final_project_cvs\n"
     ]
    }
   ],
   "source": [
    "print(s3_final_csv)"
   ]
  },
  {
   "cell_type": "code",
   "execution_count": 14,
   "id": "ec37853b-5583-439b-9565-d2341ad6a37a",
   "metadata": {
    "tags": []
   },
   "outputs": [
    {
     "name": "stdout",
     "output_type": "stream",
     "text": [
      "\n",
      "The user-provided path /home/sagemaker-user/aai_540/extracted_data/healthcare/train_data.csv does not exist.\n"
     ]
    }
   ],
   "source": [
    "!aws s3 cp \"/home/sagemaker-user/aai_540/extracted_data/healthcare/train_data.csv\" $s3_final_csv/\n",
    "\n",
    "# This command did not work inside Python. So I manually used AWS CLI to ingest the data. The command used is:  \n",
    "\n",
    "# aws s3 cp /home/sagemaker-user/aai_540/extracted_data/healthcare/train_data.csv s3://sagemaker-us-east-1-284926681852/final_project_cvs/train_data.csv"
   ]
  },
  {
   "cell_type": "code",
   "execution_count": 99,
   "id": "d28cf30e-f022-4ebe-a610-27718240d571",
   "metadata": {
    "tags": []
   },
   "outputs": [
    {
     "name": "stdout",
     "output_type": "stream",
     "text": [
      "2024-09-26 03:19:09   26915575 train_data.csv\n"
     ]
    }
   ],
   "source": [
    "!aws s3 ls $s3_final_csv/"
   ]
  },
  {
   "cell_type": "code",
   "execution_count": 100,
   "id": "1d2d2c35-1e3a-4bf1-8012-cd64f6465824",
   "metadata": {
    "tags": []
   },
   "outputs": [
    {
     "name": "stdout",
     "output_type": "stream",
     "text": [
      "Stored variables and their in-db values:\n",
      "ingest_create_athena_db_passed                    -> True\n",
      "ingest_create_athena_table_csv_passed             -> True\n",
      "s3_final_csv                                      -> 's3://sagemaker-us-east-1-284926681852/final_proje\n",
      "s3_private_path_csv                               -> 's3://sagemaker-us-east-1-284926681852/homework_2_\n",
      "s3_private_path_tsv                               -> 's3://sagemaker-us-east-1-284926681852/amazon-revi\n",
      "setup_dependencies_passed                         -> True\n",
      "setup_s3_bucket_passed                            -> True\n"
     ]
    }
   ],
   "source": [
    "%store"
   ]
  },
  {
   "cell_type": "markdown",
   "id": "ea110be5-b719-449b-93a3-422a67441b53",
   "metadata": {},
   "source": [
    "# Import Athena"
   ]
  },
  {
   "cell_type": "code",
   "execution_count": 101,
   "id": "da02933a-c70d-481d-93f0-7cf48c5b84b7",
   "metadata": {
    "tags": []
   },
   "outputs": [],
   "source": [
    "from pyathena import connect"
   ]
  },
  {
   "cell_type": "markdown",
   "id": "02b424ca-22a6-468b-981f-48124d0ad0bc",
   "metadata": {
    "tags": []
   },
   "source": [
    "# Create Athena Database"
   ]
  },
  {
   "cell_type": "code",
   "execution_count": 102,
   "id": "454b29dc-8b86-4513-b310-5460ae938e0f",
   "metadata": {
    "tags": []
   },
   "outputs": [],
   "source": [
    "database_name = \"dsoaws_finalproject\"\n",
    "table_name_csv = \"traindata_csv\""
   ]
  },
  {
   "cell_type": "code",
   "execution_count": 103,
   "id": "11fdb8b8-ef0f-4a1b-9c96-a7664a3873d4",
   "metadata": {
    "tags": []
   },
   "outputs": [
    {
     "name": "stdout",
     "output_type": "stream",
     "text": [
      "traindata_csv\n"
     ]
    }
   ],
   "source": [
    "for table in wr.catalog.get_tables(database=database_name):\n",
    "    print(table[\"Name\"])"
   ]
  },
  {
   "cell_type": "code",
   "execution_count": 104,
   "id": "a744927a-07d6-4417-8eab-ae94afabd3fe",
   "metadata": {
    "tags": []
   },
   "outputs": [],
   "source": [
    "# Set S3 staging directory -- this is a temporary directory used for Athena queries\n",
    "s3_staging_dir = \"s3://{0}/athena/staging\".format(bucket)"
   ]
  },
  {
   "cell_type": "code",
   "execution_count": 105,
   "id": "293f128d-a086-49d2-aef8-7496c9b5a25b",
   "metadata": {
    "tags": []
   },
   "outputs": [],
   "source": [
    "conn = connect(region_name=region, s3_staging_dir=s3_staging_dir)"
   ]
  },
  {
   "cell_type": "code",
   "execution_count": 106,
   "id": "f62480f0-d573-4722-9207-7c67ec7e68cf",
   "metadata": {
    "tags": []
   },
   "outputs": [
    {
     "data": {
      "text/plain": [
       "'17acd23d-94b5-4f62-bc9e-00cf08d7aff9'"
      ]
     },
     "execution_count": 106,
     "metadata": {},
     "output_type": "execute_result"
    }
   ],
   "source": [
    "create_statement = \"\"\"\n",
    "CREATE EXTERNAL TABLE IF NOT EXISTS {}.{}(\n",
    "    case_id                               INT,\n",
    "    Hospital_code                         INT,\n",
    "    Hospital_type_code                    STRING,\n",
    "    City_Code_Hospital                    INT,\n",
    "    Hospital_region_code                  STRING,\n",
    "    AvailableExtraRoomsinHospital         INT,\n",
    "    Department                            STRING,\n",
    "    Ward_Type                             STRING,\n",
    "    Ward_Facility_Code                    STRING,\n",
    "    Bed_Grade                             DOUBLE,\n",
    "    patientid                             INT,\n",
    "    City_Code_Patient                     DOUBLE,\n",
    "    TypeofAdmission                       STRING,\n",
    "    SeverityofIllness                     STRING,\n",
    "    VisitorswithPatient                   INT,\n",
    "    Age                                   STRING,\n",
    "    Admission_Deposit                     DOUBLE,\n",
    "    Stay                                  STRING\n",
    ") \n",
    "ROW FORMAT DELIMITED \n",
    "FIELDS TERMINATED BY ',' \n",
    "LINES TERMINATED BY '\\\\n' \n",
    "LOCATION '{}' \n",
    "TBLPROPERTIES ('skip.header.line.count'='1')\n",
    "\"\"\".format(database_name, table_name_csv, s3_final_csv)\n",
    "\n",
    "# Start query execution (Assuming 'wr' refers to awswrangler)\n",
    "wr.athena.start_query_execution(sql=create_statement, database=database_name)\n"
   ]
  },
  {
   "cell_type": "code",
   "execution_count": 107,
   "id": "969dc738-9f08-47c3-bddd-3fc3f65f8ee3",
   "metadata": {
    "tags": []
   },
   "outputs": [
    {
     "name": "stdout",
     "output_type": "stream",
     "text": [
      "traindata_csv\n"
     ]
    }
   ],
   "source": [
    "for table in wr.catalog.get_tables(database=database_name):\n",
    "    print(table[\"Name\"])"
   ]
  },
  {
   "cell_type": "code",
   "execution_count": 116,
   "id": "d002e682-0214-4f29-afd2-a48da83204d1",
   "metadata": {
    "tags": []
   },
   "outputs": [],
   "source": [
    "#df2 = wr.athena.read_sql_query(sql=\"SELECT * FROM {} LIMIT 100000\".format(table_name_csv), database=database_name)"
   ]
  },
  {
   "cell_type": "code",
   "execution_count": 110,
   "id": "997b9469-0a93-4b7e-816e-7c521aa23edb",
   "metadata": {
    "tags": []
   },
   "outputs": [
    {
     "name": "stdout",
     "output_type": "stream",
     "text": [
      "CREATE DATABASE IF NOT EXISTS dsoaws_finalproject\n"
     ]
    }
   ],
   "source": [
    "statement = \"CREATE DATABASE IF NOT EXISTS {}\".format(database_name)\n",
    "print(statement)"
   ]
  },
  {
   "cell_type": "code",
   "execution_count": 111,
   "id": "8000f1da-fdce-4dc4-b525-cfa59f14e847",
   "metadata": {
    "tags": []
   },
   "outputs": [
    {
     "name": "stderr",
     "output_type": "stream",
     "text": [
      "/tmp/ipykernel_7887/3803073958.py:3: UserWarning: pandas only supports SQLAlchemy connectable (engine/connection) or database string URI or sqlite3 DBAPI2 connection. Other DBAPI2 objects are not tested. Please consider using SQLAlchemy.\n",
      "  pd.read_sql(statement, conn)\n"
     ]
    },
    {
     "data": {
      "text/html": [
       "<div>\n",
       "<style scoped>\n",
       "    .dataframe tbody tr th:only-of-type {\n",
       "        vertical-align: middle;\n",
       "    }\n",
       "\n",
       "    .dataframe tbody tr th {\n",
       "        vertical-align: top;\n",
       "    }\n",
       "\n",
       "    .dataframe thead th {\n",
       "        text-align: right;\n",
       "    }\n",
       "</style>\n",
       "<table border=\"1\" class=\"dataframe\">\n",
       "  <thead>\n",
       "    <tr style=\"text-align: right;\">\n",
       "      <th></th>\n",
       "    </tr>\n",
       "  </thead>\n",
       "  <tbody>\n",
       "  </tbody>\n",
       "</table>\n",
       "</div>"
      ],
      "text/plain": [
       "Empty DataFrame\n",
       "Columns: []\n",
       "Index: []"
      ]
     },
     "execution_count": 111,
     "metadata": {},
     "output_type": "execute_result"
    }
   ],
   "source": [
    "import pandas as pd\n",
    "\n",
    "pd.read_sql(statement, conn)"
   ]
  },
  {
   "cell_type": "code",
   "execution_count": 112,
   "id": "d4329fee-a1c6-497e-805c-6e9d6739a04b",
   "metadata": {
    "tags": []
   },
   "outputs": [
    {
     "name": "stderr",
     "output_type": "stream",
     "text": [
      "/tmp/ipykernel_7887/3999478089.py:3: UserWarning: pandas only supports SQLAlchemy connectable (engine/connection) or database string URI or sqlite3 DBAPI2 connection. Other DBAPI2 objects are not tested. Please consider using SQLAlchemy.\n",
      "  df_show = pd.read_sql(statement, conn)\n"
     ]
    },
    {
     "data": {
      "text/html": [
       "<div>\n",
       "<style scoped>\n",
       "    .dataframe tbody tr th:only-of-type {\n",
       "        vertical-align: middle;\n",
       "    }\n",
       "\n",
       "    .dataframe tbody tr th {\n",
       "        vertical-align: top;\n",
       "    }\n",
       "\n",
       "    .dataframe thead th {\n",
       "        text-align: right;\n",
       "    }\n",
       "</style>\n",
       "<table border=\"1\" class=\"dataframe\">\n",
       "  <thead>\n",
       "    <tr style=\"text-align: right;\">\n",
       "      <th></th>\n",
       "      <th>database_name</th>\n",
       "    </tr>\n",
       "  </thead>\n",
       "  <tbody>\n",
       "    <tr>\n",
       "      <th>0</th>\n",
       "      <td>default</td>\n",
       "    </tr>\n",
       "    <tr>\n",
       "      <th>1</th>\n",
       "      <td>dsoaws</td>\n",
       "    </tr>\n",
       "    <tr>\n",
       "      <th>2</th>\n",
       "      <td>dsoaws_finalproject</td>\n",
       "    </tr>\n",
       "    <tr>\n",
       "      <th>3</th>\n",
       "      <td>sagemaker_featurestore</td>\n",
       "    </tr>\n",
       "  </tbody>\n",
       "</table>\n",
       "</div>"
      ],
      "text/plain": [
       "            database_name\n",
       "0                 default\n",
       "1                  dsoaws\n",
       "2     dsoaws_finalproject\n",
       "3  sagemaker_featurestore"
      ]
     },
     "execution_count": 112,
     "metadata": {},
     "output_type": "execute_result"
    }
   ],
   "source": [
    "statement = \"SHOW DATABASES\"\n",
    "\n",
    "df_show = pd.read_sql(statement, conn)\n",
    "df_show.head(5)"
   ]
  },
  {
   "cell_type": "code",
   "execution_count": 113,
   "id": "ca310523-b835-41ab-ac59-cdca06d0a4e6",
   "metadata": {
    "tags": []
   },
   "outputs": [],
   "source": [
    "if database_name in df_show.values:\n",
    "    ingest_create_athena_db_passed = True"
   ]
  },
  {
   "cell_type": "code",
   "execution_count": 114,
   "id": "c6c62792-f395-44c7-b087-9357e33b768a",
   "metadata": {
    "tags": []
   },
   "outputs": [
    {
     "name": "stdout",
     "output_type": "stream",
     "text": [
      "Stored 'ingest_create_athena_db_passed' (bool)\n"
     ]
    }
   ],
   "source": [
    "%store ingest_create_athena_db_passed"
   ]
  },
  {
   "cell_type": "markdown",
   "id": "4788f80e-0ce5-4b2b-9820-20c6efb5b2d0",
   "metadata": {},
   "source": [
    "# EDA and Feature Engineering"
   ]
  },
  {
   "cell_type": "code",
   "execution_count": 3,
   "id": "1a83a379-9775-4d90-9ad3-897fc3f7c909",
   "metadata": {
    "tags": []
   },
   "outputs": [],
   "source": [
    "import pandas as pd\n",
    "df_traindata=pd.read_csv('extracted_data/healthcare/train_data.csv')"
   ]
  },
  {
   "cell_type": "code",
   "execution_count": 4,
   "id": "05699dae-ba8e-4a24-801b-e5b1dbf27843",
   "metadata": {
    "tags": []
   },
   "outputs": [
    {
     "data": {
      "text/html": [
       "<div>\n",
       "<style scoped>\n",
       "    .dataframe tbody tr th:only-of-type {\n",
       "        vertical-align: middle;\n",
       "    }\n",
       "\n",
       "    .dataframe tbody tr th {\n",
       "        vertical-align: top;\n",
       "    }\n",
       "\n",
       "    .dataframe thead th {\n",
       "        text-align: right;\n",
       "    }\n",
       "</style>\n",
       "<table border=\"1\" class=\"dataframe\">\n",
       "  <thead>\n",
       "    <tr style=\"text-align: right;\">\n",
       "      <th></th>\n",
       "      <th>case_id</th>\n",
       "      <th>Hospital_code</th>\n",
       "      <th>Hospital_type_code</th>\n",
       "      <th>City_Code_Hospital</th>\n",
       "      <th>Hospital_region_code</th>\n",
       "      <th>AvailableExtraRoomsinHospital</th>\n",
       "      <th>Department</th>\n",
       "      <th>Ward_Type</th>\n",
       "      <th>Ward_Facility_Code</th>\n",
       "      <th>BedGrade</th>\n",
       "      <th>patientid</th>\n",
       "      <th>City_Code_Patient</th>\n",
       "      <th>TypeofAdmission</th>\n",
       "      <th>SeverityofIllness</th>\n",
       "      <th>VisitorswithPatient</th>\n",
       "      <th>Age</th>\n",
       "      <th>Admission_Deposit</th>\n",
       "      <th>Stay</th>\n",
       "    </tr>\n",
       "  </thead>\n",
       "  <tbody>\n",
       "    <tr>\n",
       "      <th>0</th>\n",
       "      <td>1</td>\n",
       "      <td>8</td>\n",
       "      <td>c</td>\n",
       "      <td>3</td>\n",
       "      <td>Z</td>\n",
       "      <td>3</td>\n",
       "      <td>radiotherapy</td>\n",
       "      <td>R</td>\n",
       "      <td>F</td>\n",
       "      <td>2.0</td>\n",
       "      <td>31397</td>\n",
       "      <td>7.0</td>\n",
       "      <td>Emergency</td>\n",
       "      <td>Extreme</td>\n",
       "      <td>2</td>\n",
       "      <td>51-60</td>\n",
       "      <td>4911.0</td>\n",
       "      <td>0-10</td>\n",
       "    </tr>\n",
       "    <tr>\n",
       "      <th>1</th>\n",
       "      <td>2</td>\n",
       "      <td>2</td>\n",
       "      <td>c</td>\n",
       "      <td>5</td>\n",
       "      <td>Z</td>\n",
       "      <td>2</td>\n",
       "      <td>radiotherapy</td>\n",
       "      <td>S</td>\n",
       "      <td>F</td>\n",
       "      <td>2.0</td>\n",
       "      <td>31397</td>\n",
       "      <td>7.0</td>\n",
       "      <td>Trauma</td>\n",
       "      <td>Extreme</td>\n",
       "      <td>2</td>\n",
       "      <td>51-60</td>\n",
       "      <td>5954.0</td>\n",
       "      <td>41-50</td>\n",
       "    </tr>\n",
       "    <tr>\n",
       "      <th>2</th>\n",
       "      <td>3</td>\n",
       "      <td>10</td>\n",
       "      <td>e</td>\n",
       "      <td>1</td>\n",
       "      <td>X</td>\n",
       "      <td>2</td>\n",
       "      <td>anesthesia</td>\n",
       "      <td>S</td>\n",
       "      <td>E</td>\n",
       "      <td>2.0</td>\n",
       "      <td>31397</td>\n",
       "      <td>7.0</td>\n",
       "      <td>Trauma</td>\n",
       "      <td>Extreme</td>\n",
       "      <td>2</td>\n",
       "      <td>51-60</td>\n",
       "      <td>4745.0</td>\n",
       "      <td>31-40</td>\n",
       "    </tr>\n",
       "    <tr>\n",
       "      <th>3</th>\n",
       "      <td>4</td>\n",
       "      <td>26</td>\n",
       "      <td>b</td>\n",
       "      <td>2</td>\n",
       "      <td>Y</td>\n",
       "      <td>2</td>\n",
       "      <td>radiotherapy</td>\n",
       "      <td>R</td>\n",
       "      <td>D</td>\n",
       "      <td>2.0</td>\n",
       "      <td>31397</td>\n",
       "      <td>7.0</td>\n",
       "      <td>Trauma</td>\n",
       "      <td>Extreme</td>\n",
       "      <td>2</td>\n",
       "      <td>51-60</td>\n",
       "      <td>7272.0</td>\n",
       "      <td>41-50</td>\n",
       "    </tr>\n",
       "    <tr>\n",
       "      <th>4</th>\n",
       "      <td>5</td>\n",
       "      <td>26</td>\n",
       "      <td>b</td>\n",
       "      <td>2</td>\n",
       "      <td>Y</td>\n",
       "      <td>2</td>\n",
       "      <td>radiotherapy</td>\n",
       "      <td>S</td>\n",
       "      <td>D</td>\n",
       "      <td>2.0</td>\n",
       "      <td>31397</td>\n",
       "      <td>7.0</td>\n",
       "      <td>Trauma</td>\n",
       "      <td>Extreme</td>\n",
       "      <td>2</td>\n",
       "      <td>51-60</td>\n",
       "      <td>5558.0</td>\n",
       "      <td>41-50</td>\n",
       "    </tr>\n",
       "  </tbody>\n",
       "</table>\n",
       "</div>"
      ],
      "text/plain": [
       "   case_id  Hospital_code Hospital_type_code  City_Code_Hospital  \\\n",
       "0        1              8                  c                   3   \n",
       "1        2              2                  c                   5   \n",
       "2        3             10                  e                   1   \n",
       "3        4             26                  b                   2   \n",
       "4        5             26                  b                   2   \n",
       "\n",
       "  Hospital_region_code  AvailableExtraRoomsinHospital    Department Ward_Type  \\\n",
       "0                    Z                              3  radiotherapy         R   \n",
       "1                    Z                              2  radiotherapy         S   \n",
       "2                    X                              2    anesthesia         S   \n",
       "3                    Y                              2  radiotherapy         R   \n",
       "4                    Y                              2  radiotherapy         S   \n",
       "\n",
       "  Ward_Facility_Code  BedGrade  patientid  City_Code_Patient TypeofAdmission  \\\n",
       "0                  F       2.0      31397                7.0       Emergency   \n",
       "1                  F       2.0      31397                7.0          Trauma   \n",
       "2                  E       2.0      31397                7.0          Trauma   \n",
       "3                  D       2.0      31397                7.0          Trauma   \n",
       "4                  D       2.0      31397                7.0          Trauma   \n",
       "\n",
       "  SeverityofIllness  VisitorswithPatient    Age  Admission_Deposit   Stay  \n",
       "0           Extreme                    2  51-60             4911.0   0-10  \n",
       "1           Extreme                    2  51-60             5954.0  41-50  \n",
       "2           Extreme                    2  51-60             4745.0  31-40  \n",
       "3           Extreme                    2  51-60             7272.0  41-50  \n",
       "4           Extreme                    2  51-60             5558.0  41-50  "
      ]
     },
     "execution_count": 4,
     "metadata": {},
     "output_type": "execute_result"
    }
   ],
   "source": [
    "df_traindata.head()"
   ]
  },
  {
   "cell_type": "code",
   "execution_count": 5,
   "id": "17c32925-8c5d-4c35-9ab9-f5a56a137b70",
   "metadata": {
    "tags": []
   },
   "outputs": [
    {
     "name": "stdout",
     "output_type": "stream",
     "text": [
      "<class 'pandas.core.frame.DataFrame'>\n",
      "RangeIndex: 318438 entries, 0 to 318437\n",
      "Data columns (total 18 columns):\n",
      " #   Column                         Non-Null Count   Dtype  \n",
      "---  ------                         --------------   -----  \n",
      " 0   case_id                        318438 non-null  int64  \n",
      " 1   Hospital_code                  318438 non-null  int64  \n",
      " 2   Hospital_type_code             318438 non-null  object \n",
      " 3   City_Code_Hospital             318438 non-null  int64  \n",
      " 4   Hospital_region_code           318438 non-null  object \n",
      " 5   AvailableExtraRoomsinHospital  318438 non-null  int64  \n",
      " 6   Department                     318438 non-null  object \n",
      " 7   Ward_Type                      318438 non-null  object \n",
      " 8   Ward_Facility_Code             318438 non-null  object \n",
      " 9   BedGrade                       318325 non-null  float64\n",
      " 10  patientid                      318438 non-null  int64  \n",
      " 11  City_Code_Patient              313906 non-null  float64\n",
      " 12  TypeofAdmission                318438 non-null  object \n",
      " 13  SeverityofIllness              318438 non-null  object \n",
      " 14  VisitorswithPatient            318438 non-null  int64  \n",
      " 15  Age                            318438 non-null  object \n",
      " 16  Admission_Deposit              318438 non-null  float64\n",
      " 17  Stay                           318438 non-null  object \n",
      "dtypes: float64(3), int64(6), object(9)\n",
      "memory usage: 43.7+ MB\n"
     ]
    }
   ],
   "source": [
    "df_traindata.info()\n"
   ]
  },
  {
   "cell_type": "code",
   "execution_count": 6,
   "id": "4b0a3da8-9a7c-48a8-9ec6-f69ac9ada773",
   "metadata": {
    "tags": []
   },
   "outputs": [
    {
     "data": {
      "text/html": [
       "<div>\n",
       "<style scoped>\n",
       "    .dataframe tbody tr th:only-of-type {\n",
       "        vertical-align: middle;\n",
       "    }\n",
       "\n",
       "    .dataframe tbody tr th {\n",
       "        vertical-align: top;\n",
       "    }\n",
       "\n",
       "    .dataframe thead th {\n",
       "        text-align: right;\n",
       "    }\n",
       "</style>\n",
       "<table border=\"1\" class=\"dataframe\">\n",
       "  <thead>\n",
       "    <tr style=\"text-align: right;\">\n",
       "      <th></th>\n",
       "      <th>case_id</th>\n",
       "      <th>Hospital_code</th>\n",
       "      <th>City_Code_Hospital</th>\n",
       "      <th>AvailableExtraRoomsinHospital</th>\n",
       "      <th>BedGrade</th>\n",
       "      <th>patientid</th>\n",
       "      <th>City_Code_Patient</th>\n",
       "      <th>VisitorswithPatient</th>\n",
       "      <th>Admission_Deposit</th>\n",
       "    </tr>\n",
       "  </thead>\n",
       "  <tbody>\n",
       "    <tr>\n",
       "      <th>count</th>\n",
       "      <td>318438.000000</td>\n",
       "      <td>318438.000000</td>\n",
       "      <td>318438.000000</td>\n",
       "      <td>318438.000000</td>\n",
       "      <td>318325.000000</td>\n",
       "      <td>318438.000000</td>\n",
       "      <td>313906.000000</td>\n",
       "      <td>318438.000000</td>\n",
       "      <td>318438.000000</td>\n",
       "    </tr>\n",
       "    <tr>\n",
       "      <th>mean</th>\n",
       "      <td>159219.500000</td>\n",
       "      <td>18.318841</td>\n",
       "      <td>4.771717</td>\n",
       "      <td>3.197627</td>\n",
       "      <td>2.625807</td>\n",
       "      <td>65747.579472</td>\n",
       "      <td>7.251859</td>\n",
       "      <td>3.284099</td>\n",
       "      <td>4880.749392</td>\n",
       "    </tr>\n",
       "    <tr>\n",
       "      <th>std</th>\n",
       "      <td>91925.276848</td>\n",
       "      <td>8.633755</td>\n",
       "      <td>3.102535</td>\n",
       "      <td>1.168171</td>\n",
       "      <td>0.873146</td>\n",
       "      <td>37979.936440</td>\n",
       "      <td>4.745266</td>\n",
       "      <td>1.764061</td>\n",
       "      <td>1086.776254</td>\n",
       "    </tr>\n",
       "    <tr>\n",
       "      <th>min</th>\n",
       "      <td>1.000000</td>\n",
       "      <td>1.000000</td>\n",
       "      <td>1.000000</td>\n",
       "      <td>0.000000</td>\n",
       "      <td>1.000000</td>\n",
       "      <td>1.000000</td>\n",
       "      <td>1.000000</td>\n",
       "      <td>0.000000</td>\n",
       "      <td>1800.000000</td>\n",
       "    </tr>\n",
       "    <tr>\n",
       "      <th>25%</th>\n",
       "      <td>79610.250000</td>\n",
       "      <td>11.000000</td>\n",
       "      <td>2.000000</td>\n",
       "      <td>2.000000</td>\n",
       "      <td>2.000000</td>\n",
       "      <td>32847.000000</td>\n",
       "      <td>4.000000</td>\n",
       "      <td>2.000000</td>\n",
       "      <td>4186.000000</td>\n",
       "    </tr>\n",
       "    <tr>\n",
       "      <th>50%</th>\n",
       "      <td>159219.500000</td>\n",
       "      <td>19.000000</td>\n",
       "      <td>5.000000</td>\n",
       "      <td>3.000000</td>\n",
       "      <td>3.000000</td>\n",
       "      <td>65724.500000</td>\n",
       "      <td>8.000000</td>\n",
       "      <td>3.000000</td>\n",
       "      <td>4741.000000</td>\n",
       "    </tr>\n",
       "    <tr>\n",
       "      <th>75%</th>\n",
       "      <td>238828.750000</td>\n",
       "      <td>26.000000</td>\n",
       "      <td>7.000000</td>\n",
       "      <td>4.000000</td>\n",
       "      <td>3.000000</td>\n",
       "      <td>98470.000000</td>\n",
       "      <td>8.000000</td>\n",
       "      <td>4.000000</td>\n",
       "      <td>5409.000000</td>\n",
       "    </tr>\n",
       "    <tr>\n",
       "      <th>max</th>\n",
       "      <td>318438.000000</td>\n",
       "      <td>32.000000</td>\n",
       "      <td>13.000000</td>\n",
       "      <td>24.000000</td>\n",
       "      <td>4.000000</td>\n",
       "      <td>131624.000000</td>\n",
       "      <td>38.000000</td>\n",
       "      <td>32.000000</td>\n",
       "      <td>11008.000000</td>\n",
       "    </tr>\n",
       "  </tbody>\n",
       "</table>\n",
       "</div>"
      ],
      "text/plain": [
       "             case_id  Hospital_code  City_Code_Hospital  \\\n",
       "count  318438.000000  318438.000000       318438.000000   \n",
       "mean   159219.500000      18.318841            4.771717   \n",
       "std     91925.276848       8.633755            3.102535   \n",
       "min         1.000000       1.000000            1.000000   \n",
       "25%     79610.250000      11.000000            2.000000   \n",
       "50%    159219.500000      19.000000            5.000000   \n",
       "75%    238828.750000      26.000000            7.000000   \n",
       "max    318438.000000      32.000000           13.000000   \n",
       "\n",
       "       AvailableExtraRoomsinHospital       BedGrade      patientid  \\\n",
       "count                  318438.000000  318325.000000  318438.000000   \n",
       "mean                        3.197627       2.625807   65747.579472   \n",
       "std                         1.168171       0.873146   37979.936440   \n",
       "min                         0.000000       1.000000       1.000000   \n",
       "25%                         2.000000       2.000000   32847.000000   \n",
       "50%                         3.000000       3.000000   65724.500000   \n",
       "75%                         4.000000       3.000000   98470.000000   \n",
       "max                        24.000000       4.000000  131624.000000   \n",
       "\n",
       "       City_Code_Patient  VisitorswithPatient  Admission_Deposit  \n",
       "count      313906.000000        318438.000000      318438.000000  \n",
       "mean            7.251859             3.284099        4880.749392  \n",
       "std             4.745266             1.764061        1086.776254  \n",
       "min             1.000000             0.000000        1800.000000  \n",
       "25%             4.000000             2.000000        4186.000000  \n",
       "50%             8.000000             3.000000        4741.000000  \n",
       "75%             8.000000             4.000000        5409.000000  \n",
       "max            38.000000            32.000000       11008.000000  "
      ]
     },
     "execution_count": 6,
     "metadata": {},
     "output_type": "execute_result"
    }
   ],
   "source": [
    "df_traindata.describe()"
   ]
  },
  {
   "cell_type": "code",
   "execution_count": 7,
   "id": "b349fdeb-9fd2-452a-b998-130d0f71899e",
   "metadata": {
    "tags": []
   },
   "outputs": [
    {
     "data": {
      "text/plain": [
       "case_id                             0\n",
       "Hospital_code                       0\n",
       "Hospital_type_code                  0\n",
       "City_Code_Hospital                  0\n",
       "Hospital_region_code                0\n",
       "AvailableExtraRoomsinHospital       0\n",
       "Department                          0\n",
       "Ward_Type                           0\n",
       "Ward_Facility_Code                  0\n",
       "BedGrade                          113\n",
       "patientid                           0\n",
       "City_Code_Patient                4532\n",
       "TypeofAdmission                     0\n",
       "SeverityofIllness                   0\n",
       "VisitorswithPatient                 0\n",
       "Age                                 0\n",
       "Admission_Deposit                   0\n",
       "Stay                                0\n",
       "dtype: int64"
      ]
     },
     "execution_count": 7,
     "metadata": {},
     "output_type": "execute_result"
    }
   ],
   "source": [
    "df_traindata.isnull().sum()\n"
   ]
  },
  {
   "cell_type": "code",
   "execution_count": 8,
   "id": "54848ce1-7367-46e7-b5cc-874b98cc35f2",
   "metadata": {
    "tags": []
   },
   "outputs": [
    {
     "name": "stderr",
     "output_type": "stream",
     "text": [
      "/tmp/ipykernel_298/3827161226.py:2: FutureWarning: A value is trying to be set on a copy of a DataFrame or Series through chained assignment using an inplace method.\n",
      "The behavior will change in pandas 3.0. This inplace method will never work because the intermediate object on which we are setting values always behaves as a copy.\n",
      "\n",
      "For example, when doing 'df[col].method(value, inplace=True)', try using 'df.method({col: value}, inplace=True)' or df[col] = df[col].method(value) instead, to perform the operation inplace on the original object.\n",
      "\n",
      "\n",
      "  df_traindata['BedGrade'].fillna(df_traindata['BedGrade'].median(), inplace=True)\n"
     ]
    }
   ],
   "source": [
    "#imputation using median\n",
    "df_traindata['BedGrade'].fillna(df_traindata['BedGrade'].median(), inplace=True)\n"
   ]
  },
  {
   "cell_type": "code",
   "execution_count": 9,
   "id": "a3e7be03-18c7-4ebe-8bcd-efdf6e31e2b1",
   "metadata": {
    "tags": []
   },
   "outputs": [],
   "source": [
    "df_traindata['City_Code_Patient'] = df_traindata.groupby('Hospital_region_code')['City_Code_Patient'].transform(lambda x: x.fillna(x.mode()[0]))\n"
   ]
  },
  {
   "cell_type": "code",
   "execution_count": 10,
   "id": "94e461e3-8643-45b8-afbc-69294d5179d2",
   "metadata": {
    "tags": []
   },
   "outputs": [
    {
     "data": {
      "text/plain": [
       "case_id                          0\n",
       "Hospital_code                    0\n",
       "Hospital_type_code               0\n",
       "City_Code_Hospital               0\n",
       "Hospital_region_code             0\n",
       "AvailableExtraRoomsinHospital    0\n",
       "Department                       0\n",
       "Ward_Type                        0\n",
       "Ward_Facility_Code               0\n",
       "BedGrade                         0\n",
       "patientid                        0\n",
       "City_Code_Patient                0\n",
       "TypeofAdmission                  0\n",
       "SeverityofIllness                0\n",
       "VisitorswithPatient              0\n",
       "Age                              0\n",
       "Admission_Deposit                0\n",
       "Stay                             0\n",
       "dtype: int64"
      ]
     },
     "execution_count": 10,
     "metadata": {},
     "output_type": "execute_result"
    }
   ],
   "source": [
    "df_traindata.isnull().sum()"
   ]
  },
  {
   "cell_type": "code",
   "execution_count": 11,
   "id": "fa02c368-be4a-4446-b7c5-3aebe220a0f3",
   "metadata": {
    "tags": []
   },
   "outputs": [
    {
     "data": {
      "text/plain": [
       "0     5\n",
       "1     5\n",
       "2     5\n",
       "3     5\n",
       "4     5\n",
       "5     5\n",
       "6     5\n",
       "7     5\n",
       "8     5\n",
       "9     5\n",
       "10    5\n",
       "11    5\n",
       "12    5\n",
       "13    5\n",
       "14    7\n",
       "15    7\n",
       "16    7\n",
       "17    7\n",
       "18    7\n",
       "19    7\n",
       "Name: Age, dtype: int64"
      ]
     },
     "execution_count": 11,
     "metadata": {},
     "output_type": "execute_result"
    }
   ],
   "source": [
    "# Change cateorical data to numerical\n",
    "#Convert the Age column into numerical or ordinal categories for better analysis.\n",
    "df_traindata['Age'] = df_traindata['Age'].map({'0-10': 0, '11-20': 1, '21-30': 2, '31-40': 3, '41-50': 4, '51-60': 5, '61-70': 6, '71-80': 7, '81-90': 8, '91-100': 9})\n",
    "df_traindata['Age'].head(20)"
   ]
  },
  {
   "cell_type": "code",
   "execution_count": 12,
   "id": "6a50b2c0-adae-4a0d-8372-fa51775e0d1e",
   "metadata": {
    "tags": []
   },
   "outputs": [
    {
     "name": "stdout",
     "output_type": "stream",
     "text": [
      "   case_id  Hospital_code  Hospital_type_code  City_Code_Hospital  \\\n",
      "0        1              8                   2                   3   \n",
      "1        2              2                   2                   5   \n",
      "2        3             10                   4                   1   \n",
      "3        4             26                   1                   2   \n",
      "4        5             26                   1                   2   \n",
      "\n",
      "   Hospital_region_code  AvailableExtraRoomsinHospital  Department  Ward_Type  \\\n",
      "0                     2                              3           3          2   \n",
      "1                     2                              2           3          3   \n",
      "2                     0                              2           1          3   \n",
      "3                     1                              2           3          2   \n",
      "4                     1                              2           3          3   \n",
      "\n",
      "   Ward_Facility_Code  BedGrade  patientid  City_Code_Patient  \\\n",
      "0                   5       2.0      31397                7.0   \n",
      "1                   5       2.0      31397                7.0   \n",
      "2                   4       2.0      31397                7.0   \n",
      "3                   3       2.0      31397                7.0   \n",
      "4                   3       2.0      31397                7.0   \n",
      "\n",
      "   TypeofAdmission  SeverityofIllness  VisitorswithPatient  Age  \\\n",
      "0                0                  0                    2    5   \n",
      "1                1                  0                    2    5   \n",
      "2                1                  0                    2    5   \n",
      "3                1                  0                    2    5   \n",
      "4                1                  0                    2    5   \n",
      "\n",
      "   Admission_Deposit  Stay  \n",
      "0             4911.0     0  \n",
      "1             5954.0     4  \n",
      "2             4745.0     3  \n",
      "3             7272.0     4  \n",
      "4             5558.0     4  \n",
      "Transformed columns: ['Hospital_type_code', 'Hospital_region_code', 'Department', 'Ward_Type', 'Ward_Facility_Code', 'TypeofAdmission', 'SeverityofIllness', 'Stay']\n"
     ]
    }
   ],
   "source": [
    "from sklearn.preprocessing import LabelEncoder\n",
    "\n",
    "# Create a copy of the dataframe to apply transformations\n",
    "df_transformed = df_traindata.copy()\n",
    "\n",
    "# Identify the columns with dtype 'object'\n",
    "categorical_columns = df_transformed.select_dtypes(include=['object']).columns\n",
    "\n",
    "# Initialize the LabelEncoder\n",
    "label_encoder = LabelEncoder()\n",
    "\n",
    "# Iterate over each categorical column and apply LabelEncoder\n",
    "for col in categorical_columns:\n",
    "    df_transformed[col] = label_encoder.fit_transform(df_transformed[col])\n",
    "\n",
    "# Display the first few rows to verify the transformation\n",
    "print(df_transformed.head())\n",
    "\n",
    "# Optionally, show which columns were transformed\n",
    "print(f\"Transformed columns: {categorical_columns.tolist()}\")\n"
   ]
  },
  {
   "cell_type": "code",
   "execution_count": 13,
   "id": "4605f297-0cc3-4123-9419-4170b325b55c",
   "metadata": {
    "tags": []
   },
   "outputs": [
    {
     "data": {
      "image/png": "[encoded data removed]",
      "text/plain": [
       "<Figure size 1200x800 with 2 Axes>"
      ]
     },
     "metadata": {},
     "output_type": "display_data"
    }
   ],
   "source": [
    "import seaborn as sns\n",
    "import matplotlib.pyplot as plt\n",
    "\n",
    "# Drop non-numeric columns from the DataFrame\n",
    "df_transformed = df_transformed.select_dtypes(include=['number'])\n",
    "\n",
    "# Generate the correlation matrix (this will only include numeric columns)\n",
    "corr_matrix = df_transformed.corr()\n",
    "\n",
    "# Create a heatmap with the correlation matrix\n",
    "plt.figure(figsize=(12, 8))  # Optional: set the figure size\n",
    "sns.heatmap(corr_matrix, annot=True, cmap=\"coolwarm\", linewidths=0.5)\n",
    "\n",
    "# Display the plot\n",
    "plt.show()\n"
   ]
  },
  {
   "cell_type": "code",
   "execution_count": 14,
   "id": "2689f416-4b88-44c8-9db0-807bbe889fae",
   "metadata": {
    "tags": []
   },
   "outputs": [
    {
     "name": "stdout",
     "output_type": "stream",
     "text": [
      "   case_id  Hospital_code  Hospital_type_code  City_Code_Hospital  \\\n",
      "0        1              8                   2                   3   \n",
      "1        2              2                   2                   5   \n",
      "2        3             10                   4                   1   \n",
      "3        4             26                   1                   2   \n",
      "4        5             26                   1                   2   \n",
      "\n",
      "   Hospital_region_code  AvailableExtraRoomsinHospital  Department  Ward_Type  \\\n",
      "0                     2                              3           3          2   \n",
      "1                     2                              2           3          3   \n",
      "2                     0                              2           1          3   \n",
      "3                     1                              2           3          2   \n",
      "4                     1                              2           3          3   \n",
      "\n",
      "   Ward_Facility_Code  BedGrade  patientid  City_Code_Patient  \\\n",
      "0                   5       2.0      31397                7.0   \n",
      "1                   5       2.0      31397                7.0   \n",
      "2                   4       2.0      31397                7.0   \n",
      "3                   3       2.0      31397                7.0   \n",
      "4                   3       2.0      31397                7.0   \n",
      "\n",
      "   TypeofAdmission  SeverityofIllness  VisitorswithPatient  Age  \\\n",
      "0                0                  0                    2    5   \n",
      "1                1                  0                    2    5   \n",
      "2                1                  0                    2    5   \n",
      "3                1                  0                    2    5   \n",
      "4                1                  0                    2    5   \n",
      "\n",
      "   Admission_Deposit  Stay  \n",
      "0             4911.0     0  \n",
      "1             5954.0     4  \n",
      "2             4745.0     3  \n",
      "3             7272.0     4  \n",
      "4             5558.0     4  \n"
     ]
    }
   ],
   "source": [
    "# Extract the first 206,000 rows for training\n",
    "df_train_split = df_transformed.iloc[:10000, :]\n",
    "\n",
    "# Display the first few rows of the extracted data to verify\n",
    "print(df_train_split.head())\n"
   ]
  },
  {
   "cell_type": "code",
   "execution_count": 15,
   "id": "e8ca2ac0-26d9-47b4-8573-257f77f60043",
   "metadata": {
    "tags": []
   },
   "outputs": [],
   "source": [
    "import numpy as np\n",
    "# data split in three sets, training, validation and batch inference\n",
    "rand_split = np.random.rand(len(df_train_split))\n",
    "train_list = rand_split < 0.66\n",
    "val_list = (rand_split >= 0.66) & (rand_split < 0.83)\n",
    "test_list = rand_split >= 0.83\n"
   ]
  },
  {
   "cell_type": "code",
   "execution_count": 20,
   "id": "4bc692a4-76a7-4884-ac92-1a5a75b7ffe4",
   "metadata": {
    "tags": []
   },
   "outputs": [
    {
     "name": "stdout",
     "output_type": "stream",
     "text": [
      "[0.01708661 0.52678874 0.33479548 0.39729864 0.22501747 0.2362358\n",
      " 0.10983399 0.28057952 0.89334547 0.3896659 ]\n",
      "[ True  True  True  True  True  True  True  True False  True]\n",
      "[False False False False False False False False False False]\n",
      "[False False False False False False False False  True False]\n"
     ]
    }
   ],
   "source": [
    "#rand_split = np.random.rand(10)\n",
    "#train_list = rand_split < 0.66\n",
    "#val_list = (rand_split >= 0.66) & (rand_split < 0.83)\n",
    "#test_list = rand_split >= 0.83\n",
    "#print(rand_split)\n",
    "#print(train_list)\n",
    "#print(val_list)\n",
    "#print(test_list)"
   ]
  },
  {
   "cell_type": "markdown",
   "id": "df656acb-4d3d-491c-96d7-5f45edc102bc",
   "metadata": {},
   "source": [
    "# Basline SVM Model"
   ]
  },
  {
   "cell_type": "code",
   "execution_count": 16,
   "id": "18633707-a0d9-4720-9a2d-09b4452a1aad",
   "metadata": {
    "tags": []
   },
   "outputs": [
    {
     "name": "stdout",
     "output_type": "stream",
     "text": [
      "Validation Accuracy: 38.47%\n",
      "Test Accuracy: 38.43%\n"
     ]
    }
   ],
   "source": [
    "from sklearn.svm import SVC\n",
    "from sklearn.metrics import accuracy_score\n",
    "from sklearn.preprocessing import StandardScaler\n",
    "\n",
    "# Since 'Stay' is the target variable (y) and the rest are features (X)\n",
    "X = df_train_split.drop(columns=['Stay'])  # Drop the target column\n",
    "y = df_train_split['Stay']  # Target column\n",
    "\n",
    "# Split the dataset based on your train, validation, and test lists\n",
    "X_train = X[train_list]\n",
    "y_train = y[train_list]\n",
    "\n",
    "X_val = X[val_list]\n",
    "y_val = y[val_list]\n",
    "\n",
    "X_test = X[test_list]\n",
    "y_test = y[test_list]\n",
    "\n",
    "# Standardize the data (SVM works better with scaled data)\n",
    "scaler = StandardScaler()\n",
    "\n",
    "X_train_scaled = scaler.fit_transform(X_train)\n",
    "X_val_scaled = scaler.transform(X_val)\n",
    "X_test_scaled = scaler.transform(X_test)\n",
    "\n",
    "# Initialize the SVM classifier\n",
    "svm_model = SVC(kernel='linear')  # You can also experiment with other kernels like 'rbf' or 'poly'\n",
    "\n",
    "# Train the SVM model on the training set\n",
    "svm_model.fit(X_train_scaled, y_train)\n",
    "\n",
    "# Validate the model on the validation set\n",
    "y_val_pred = svm_model.predict(X_val_scaled)\n",
    "val_accuracy = accuracy_score(y_val, y_val_pred)\n",
    "print(f\"Validation Accuracy: {val_accuracy * 100:.2f}%\")\n",
    "\n",
    "# Test the model on the test set\n",
    "y_test_pred = svm_model.predict(X_test_scaled)\n",
    "test_accuracy = accuracy_score(y_test, y_test_pred)\n",
    "print(f\"Test Accuracy: {test_accuracy * 100:.2f}%\")\n"
   ]
  },
  {
   "cell_type": "markdown",
   "id": "17e42b64-5f79-468d-94d5-e5d2fe0587b4",
   "metadata": {},
   "source": [
    "# Feature Store"
   ]
  },
  {
   "cell_type": "code",
   "execution_count": 148,
   "id": "d33b8fab-8656-400b-93ba-469930ffe6bf",
   "metadata": {
    "tags": []
   },
   "outputs": [
    {
     "name": "stdout",
     "output_type": "stream",
     "text": [
      "sagemaker-us-east-1-284926681852\n"
     ]
    }
   ],
   "source": [
    "# You can modify the following to use a bucket of your choosing\n",
    "default_s3_bucket_name = feature_store_session.default_bucket()\n",
    "prefix = \"sagemaker-featurestore-demo\"\n",
    "\n",
    "print(default_s3_bucket_name)"
   ]
  },
  {
   "cell_type": "code",
   "execution_count": 17,
   "id": "d4a52f6b-eec7-4f6a-8d03-b401ee08fd57",
   "metadata": {
    "tags": []
   },
   "outputs": [
    {
     "name": "stdout",
     "output_type": "stream",
     "text": [
      "sagemaker.config INFO - Not applying SDK defaults from location: /etc/xdg/sagemaker/config.yaml\n",
      "sagemaker.config INFO - Not applying SDK defaults from location: /root/.config/sagemaker/config.yaml\n"
     ]
    },
    {
     "ename": "NameError",
     "evalue": "name 'boto3' is not defined",
     "output_type": "error",
     "traceback": [
      "\u001b[0;31m---------------------------------------------------------------------------\u001b[0m",
      "\u001b[0;31mNameError\u001b[0m                                 Traceback (most recent call last)",
      "Cell \u001b[0;32mIn[17], line 3\u001b[0m\n\u001b[1;32m      1\u001b[0m \u001b[38;5;28;01mfrom\u001b[39;00m \u001b[38;5;21;01msagemaker\u001b[39;00m\u001b[38;5;21;01m.\u001b[39;00m\u001b[38;5;21;01msession\u001b[39;00m \u001b[38;5;28;01mimport\u001b[39;00m Session\n\u001b[0;32m----> 3\u001b[0m region \u001b[38;5;241m=\u001b[39m \u001b[43mboto3\u001b[49m\u001b[38;5;241m.\u001b[39mSession()\u001b[38;5;241m.\u001b[39mregion_name\n\u001b[1;32m      5\u001b[0m boto_session \u001b[38;5;241m=\u001b[39m boto3\u001b[38;5;241m.\u001b[39mSession(region_name\u001b[38;5;241m=\u001b[39mregion)\n\u001b[1;32m      7\u001b[0m sagemaker_client \u001b[38;5;241m=\u001b[39m boto_session\u001b[38;5;241m.\u001b[39mclient(service_name\u001b[38;5;241m=\u001b[39m\u001b[38;5;124m\"\u001b[39m\u001b[38;5;124msagemaker\u001b[39m\u001b[38;5;124m\"\u001b[39m, region_name\u001b[38;5;241m=\u001b[39mregion)\n",
      "\u001b[0;31mNameError\u001b[0m: name 'boto3' is not defined"
     ]
    }
   ],
   "source": [
    "from sagemaker.session import Session\n",
    "\n",
    "region = boto3.Session().region_name\n",
    "\n",
    "boto_session = boto3.Session(region_name=region)\n",
    "\n",
    "sagemaker_client = boto_session.client(service_name=\"sagemaker\", region_name=region)\n",
    "featurestore_runtime = boto_session.client(\n",
    "    service_name=\"sagemaker-featurestore-runtime\", region_name=region\n",
    ")\n",
    "\n",
    "feature_store_session = Session(\n",
    "    boto_session=boto_session,\n",
    "    sagemaker_client=sagemaker_client,\n",
    "    sagemaker_featurestore_runtime_client=featurestore_runtime,\n",
    ")"
   ]
  },
  {
   "cell_type": "code",
   "execution_count": 149,
   "id": "10eaac6c-cb00-4aca-bc61-2e6f51f2c3f1",
   "metadata": {
    "tags": []
   },
   "outputs": [
    {
     "name": "stdout",
     "output_type": "stream",
     "text": [
      "arn:aws:iam::284926681852:role/LabRole\n"
     ]
    }
   ],
   "source": [
    "from sagemaker import get_execution_role\n",
    "\n",
    "# You can modify the following to use a role of your choosing. See the documentation for how to create this.\n",
    "role = get_execution_role()\n",
    "print(role)"
   ]
  },
  {
   "cell_type": "code",
   "execution_count": 150,
   "id": "7e7b8467-f2ee-4d7c-8039-b4cbf938044e",
   "metadata": {
    "tags": []
   },
   "outputs": [],
   "source": [
    "from time import gmtime, strftime, sleep\n",
    "\n",
    "Hospital_Stay_feature_group_name = \"hospital_store_feature_group\" + strftime(\"%d-%H-%M-%S\", gmtime())"
   ]
  },
  {
   "cell_type": "code",
   "execution_count": 154,
   "id": "7afdd7e2-13b0-4957-a52d-d9bf2b62cfa6",
   "metadata": {
    "tags": []
   },
   "outputs": [],
   "source": [
    "from sagemaker.feature_store.feature_group import FeatureGroup\n",
    "\n",
    "hosptialStay_feature_group = FeatureGroup(\n",
    "    name=Hospital_Stay_feature_group_name, sagemaker_session=feature_store_session\n",
    ")\n"
   ]
  },
  {
   "cell_type": "code",
   "execution_count": 159,
   "id": "bab28ee7-ae39-43dc-a0a5-2ec757ae7956",
   "metadata": {
    "tags": []
   },
   "outputs": [
    {
     "data": {
      "text/plain": [
       "[FeatureDefinition(feature_name='case_id', feature_type=<FeatureTypeEnum.INTEGRAL: 'Integral'>, collection_type=None),\n",
       " FeatureDefinition(feature_name='Hospital_code', feature_type=<FeatureTypeEnum.INTEGRAL: 'Integral'>, collection_type=None),\n",
       " FeatureDefinition(feature_name='Hospital_type_code', feature_type=<FeatureTypeEnum.INTEGRAL: 'Integral'>, collection_type=None),\n",
       " FeatureDefinition(feature_name='City_Code_Hospital', feature_type=<FeatureTypeEnum.INTEGRAL: 'Integral'>, collection_type=None),\n",
       " FeatureDefinition(feature_name='Hospital_region_code', feature_type=<FeatureTypeEnum.INTEGRAL: 'Integral'>, collection_type=None),\n",
       " FeatureDefinition(feature_name='AvailableExtraRoomsinHospital', feature_type=<FeatureTypeEnum.INTEGRAL: 'Integral'>, collection_type=None),\n",
       " FeatureDefinition(feature_name='Department', feature_type=<FeatureTypeEnum.INTEGRAL: 'Integral'>, collection_type=None),\n",
       " FeatureDefinition(feature_name='Ward_Type', feature_type=<FeatureTypeEnum.INTEGRAL: 'Integral'>, collection_type=None),\n",
       " FeatureDefinition(feature_name='Ward_Facility_Code', feature_type=<FeatureTypeEnum.INTEGRAL: 'Integral'>, collection_type=None),\n",
       " FeatureDefinition(feature_name='BedGrade', feature_type=<FeatureTypeEnum.FRACTIONAL: 'Fractional'>, collection_type=None),\n",
       " FeatureDefinition(feature_name='patientid', feature_type=<FeatureTypeEnum.INTEGRAL: 'Integral'>, collection_type=None),\n",
       " FeatureDefinition(feature_name='City_Code_Patient', feature_type=<FeatureTypeEnum.FRACTIONAL: 'Fractional'>, collection_type=None),\n",
       " FeatureDefinition(feature_name='TypeofAdmission', feature_type=<FeatureTypeEnum.INTEGRAL: 'Integral'>, collection_type=None),\n",
       " FeatureDefinition(feature_name='SeverityofIllness', feature_type=<FeatureTypeEnum.INTEGRAL: 'Integral'>, collection_type=None),\n",
       " FeatureDefinition(feature_name='VisitorswithPatient', feature_type=<FeatureTypeEnum.INTEGRAL: 'Integral'>, collection_type=None),\n",
       " FeatureDefinition(feature_name='Age', feature_type=<FeatureTypeEnum.INTEGRAL: 'Integral'>, collection_type=None),\n",
       " FeatureDefinition(feature_name='Admission_Deposit', feature_type=<FeatureTypeEnum.FRACTIONAL: 'Fractional'>, collection_type=None),\n",
       " FeatureDefinition(feature_name='Stay', feature_type=<FeatureTypeEnum.INTEGRAL: 'Integral'>, collection_type=None),\n",
       " FeatureDefinition(feature_name='EventTime', feature_type=<FeatureTypeEnum.FRACTIONAL: 'Fractional'>, collection_type=None)]"
      ]
     },
     "execution_count": 159,
     "metadata": {},
     "output_type": "execute_result"
    }
   ],
   "source": [
    "import time\n",
    "\n",
    "current_time_sec = int(round(time.time()))\n",
    "\n",
    "\n",
    "# record identifier and event time feature names\n",
    "record_identifier_feature_name = \"case_id\"\n",
    "event_time_feature_name = \"EventTime\"\n",
    "\n",
    "# append EventTime feature\n",
    "df_transformed[event_time_feature_name] = pd.Series(\n",
    "    [current_time_sec] * len(df_transformed), dtype=\"float64\"\n",
    ")\n",
    "\n",
    "\n",
    "\n",
    "# load feature definitions to the feature group. SageMaker FeatureStore Python SDK will auto-detect the data schema based on input data.\n",
    "hosptialStay_feature_group.load_feature_definitions(data_frame=df_transformed)\n",
    "# output is suppressed\n"
   ]
  },
  {
   "cell_type": "code",
   "execution_count": 160,
   "id": "cbba6d2a-e464-4158-9864-9e0e728c3101",
   "metadata": {
    "tags": []
   },
   "outputs": [
    {
     "name": "stdout",
     "output_type": "stream",
     "text": [
      "Waiting for Feature Group Creation\n",
      "Waiting for Feature Group Creation\n",
      "Waiting for Feature Group Creation\n",
      "Waiting for Feature Group Creation\n",
      "Waiting for Feature Group Creation\n",
      "Waiting for Feature Group Creation\n",
      "Waiting for Feature Group Creation\n",
      "FeatureGroup hospital_store_feature_group26-04-23-30 successfully created.\n"
     ]
    }
   ],
   "source": [
    "def wait_for_feature_group_creation_complete(feature_group):\n",
    "    status = feature_group.describe().get(\"FeatureGroupStatus\")\n",
    "    while status == \"Creating\":\n",
    "        print(\"Waiting for Feature Group Creation\")\n",
    "        time.sleep(5)\n",
    "        status = feature_group.describe().get(\"FeatureGroupStatus\")\n",
    "    if status != \"Created\":\n",
    "        raise RuntimeError(f\"Failed to create feature group {feature_group.name}\")\n",
    "    print(f\"FeatureGroup {feature_group.name} successfully created.\")\n",
    "\n",
    "\n",
    "hosptialStay_feature_group.create(\n",
    "    s3_uri=f\"s3://{default_s3_bucket_name}/{prefix}\",\n",
    "    record_identifier_name=record_identifier_feature_name,\n",
    "    event_time_feature_name=event_time_feature_name,\n",
    "    role_arn=role,\n",
    "    enable_online_store=True,\n",
    ")\n",
    "\n",
    "\n",
    "\n",
    "wait_for_feature_group_creation_complete(feature_group=hosptialStay_feature_group)\n"
   ]
  },
  {
   "cell_type": "code",
   "execution_count": 161,
   "id": "17f93bb5-ea62-4182-a6a7-c68cf183f5e8",
   "metadata": {
    "tags": []
   },
   "outputs": [
    {
     "data": {
      "text/plain": [
       "{'FeatureGroupArn': 'arn:aws:sagemaker:us-east-1:284926681852:feature-group/hospital_store_feature_group26-04-23-30',\n",
       " 'FeatureGroupName': 'hospital_store_feature_group26-04-23-30',\n",
       " 'RecordIdentifierFeatureName': 'case_id',\n",
       " 'EventTimeFeatureName': 'EventTime',\n",
       " 'FeatureDefinitions': [{'FeatureName': 'case_id', 'FeatureType': 'Integral'},\n",
       "  {'FeatureName': 'Hospital_code', 'FeatureType': 'Integral'},\n",
       "  {'FeatureName': 'Hospital_type_code', 'FeatureType': 'Integral'},\n",
       "  {'FeatureName': 'City_Code_Hospital', 'FeatureType': 'Integral'},\n",
       "  {'FeatureName': 'Hospital_region_code', 'FeatureType': 'Integral'},\n",
       "  {'FeatureName': 'AvailableExtraRoomsinHospital', 'FeatureType': 'Integral'},\n",
       "  {'FeatureName': 'Department', 'FeatureType': 'Integral'},\n",
       "  {'FeatureName': 'Ward_Type', 'FeatureType': 'Integral'},\n",
       "  {'FeatureName': 'Ward_Facility_Code', 'FeatureType': 'Integral'},\n",
       "  {'FeatureName': 'BedGrade', 'FeatureType': 'Fractional'},\n",
       "  {'FeatureName': 'patientid', 'FeatureType': 'Integral'},\n",
       "  {'FeatureName': 'City_Code_Patient', 'FeatureType': 'Fractional'},\n",
       "  {'FeatureName': 'TypeofAdmission', 'FeatureType': 'Integral'},\n",
       "  {'FeatureName': 'SeverityofIllness', 'FeatureType': 'Integral'},\n",
       "  {'FeatureName': 'VisitorswithPatient', 'FeatureType': 'Integral'},\n",
       "  {'FeatureName': 'Age', 'FeatureType': 'Integral'},\n",
       "  {'FeatureName': 'Admission_Deposit', 'FeatureType': 'Fractional'},\n",
       "  {'FeatureName': 'Stay', 'FeatureType': 'Integral'},\n",
       "  {'FeatureName': 'EventTime', 'FeatureType': 'Fractional'}],\n",
       " 'CreationTime': datetime.datetime(2024, 9, 26, 4, 32, 41, 859000, tzinfo=tzlocal()),\n",
       " 'OnlineStoreConfig': {'EnableOnlineStore': True},\n",
       " 'OfflineStoreConfig': {'S3StorageConfig': {'S3Uri': 's3://sagemaker-us-east-1-284926681852/sagemaker-featurestore-demo',\n",
       "   'ResolvedOutputS3Uri': 's3://sagemaker-us-east-1-284926681852/sagemaker-featurestore-demo/284926681852/sagemaker/us-east-1/offline-store/hospital_store_feature_group26-04-23-30-1727325161/data'},\n",
       "  'DisableGlueTableCreation': False,\n",
       "  'DataCatalogConfig': {'TableName': 'hospital_store_feature_group26_04_23_30_1727325161',\n",
       "   'Catalog': 'AwsDataCatalog',\n",
       "   'Database': 'sagemaker_featurestore'}},\n",
       " 'ThroughputConfig': {'ThroughputMode': 'OnDemand'},\n",
       " 'RoleArn': 'arn:aws:iam::284926681852:role/LabRole',\n",
       " 'FeatureGroupStatus': 'Created',\n",
       " 'OnlineStoreTotalSizeBytes': 0,\n",
       " 'ResponseMetadata': {'RequestId': '8b61bd50-ecb7-4973-a50e-522b050ef75c',\n",
       "  'HTTPStatusCode': 200,\n",
       "  'HTTPHeaders': {'x-amzn-requestid': '8b61bd50-ecb7-4973-a50e-522b050ef75c',\n",
       "   'content-type': 'application/x-amz-json-1.1',\n",
       "   'content-length': '2549',\n",
       "   'date': 'Thu, 26 Sep 2024 04:33:50 GMT'},\n",
       "  'RetryAttempts': 0}}"
      ]
     },
     "execution_count": 161,
     "metadata": {},
     "output_type": "execute_result"
    }
   ],
   "source": [
    "hosptialStay_feature_group.describe()"
   ]
  },
  {
   "cell_type": "code",
   "execution_count": 162,
   "id": "510a215e-a34d-45a5-9ad0-3eecfd0935f3",
   "metadata": {
    "tags": []
   },
   "outputs": [
    {
     "data": {
      "text/plain": [
       "{'FeatureGroupSummaries': [{'FeatureGroupName': 'the_neighborhood_feature_group23-20-49-23',\n",
       "   'FeatureGroupArn': 'arn:aws:sagemaker:us-east-1:284926681852:feature-group/the_neighborhood_feature_group23-20-49-23',\n",
       "   'CreationTime': datetime.datetime(2024, 9, 23, 20, 49, 29, 91000, tzinfo=tzlocal()),\n",
       "   'FeatureGroupStatus': 'Created',\n",
       "   'OfflineStoreStatus': {'Status': 'Active'}},\n",
       "  {'FeatureGroupName': 'the_neighborhood_feature_group23-20-18-03',\n",
       "   'FeatureGroupArn': 'arn:aws:sagemaker:us-east-1:284926681852:feature-group/the_neighborhood_feature_group23-20-18-03',\n",
       "   'CreationTime': datetime.datetime(2024, 9, 23, 20, 18, 19, 990000, tzinfo=tzlocal()),\n",
       "   'FeatureGroupStatus': 'Created',\n",
       "   'OfflineStoreStatus': {'Status': 'Active'}},\n",
       "  {'FeatureGroupName': 'the_neighborhood_feature_group23-05-10-49',\n",
       "   'FeatureGroupArn': 'arn:aws:sagemaker:us-east-1:284926681852:feature-group/the_neighborhood_feature_group23-05-10-49',\n",
       "   'CreationTime': datetime.datetime(2024, 9, 23, 5, 10, 58, 166000, tzinfo=tzlocal()),\n",
       "   'FeatureGroupStatus': 'Created',\n",
       "   'OfflineStoreStatus': {'Status': 'Active'}},\n",
       "  {'FeatureGroupName': 'the_neighborhood_feature_group23-04-17-53',\n",
       "   'FeatureGroupArn': 'arn:aws:sagemaker:us-east-1:284926681852:feature-group/the_neighborhood_feature_group23-04-17-53',\n",
       "   'CreationTime': datetime.datetime(2024, 9, 23, 4, 18, 51, 254000, tzinfo=tzlocal()),\n",
       "   'FeatureGroupStatus': 'Created'},\n",
       "  {'FeatureGroupName': 'the_neighborhood_feature_group23-03-58-10',\n",
       "   'FeatureGroupArn': 'arn:aws:sagemaker:us-east-1:284926681852:feature-group/the_neighborhood_feature_group23-03-58-10',\n",
       "   'CreationTime': datetime.datetime(2024, 9, 23, 3, 58, 15, 749000, tzinfo=tzlocal()),\n",
       "   'FeatureGroupStatus': 'Created',\n",
       "   'OfflineStoreStatus': {'Status': 'Active'}},\n",
       "  {'FeatureGroupName': 'the_neighborhood_feature_group22-01-26-18',\n",
       "   'FeatureGroupArn': 'arn:aws:sagemaker:us-east-1:284926681852:feature-group/the_neighborhood_feature_group22-01-26-18',\n",
       "   'CreationTime': datetime.datetime(2024, 9, 22, 1, 26, 30, 966000, tzinfo=tzlocal()),\n",
       "   'FeatureGroupStatus': 'Created',\n",
       "   'OfflineStoreStatus': {'Status': 'Active'}},\n",
       "  {'FeatureGroupName': 'the_neighborhood_feature_group21-02-52-54',\n",
       "   'FeatureGroupArn': 'arn:aws:sagemaker:us-east-1:284926681852:feature-group/the_neighborhood_feature_group21-02-52-54',\n",
       "   'CreationTime': datetime.datetime(2024, 9, 21, 2, 53, 10, 276000, tzinfo=tzlocal()),\n",
       "   'FeatureGroupStatus': 'Created',\n",
       "   'OfflineStoreStatus': {'Status': 'Active'}},\n",
       "  {'FeatureGroupName': 'hospital_store_feature_group26-04-23-30',\n",
       "   'FeatureGroupArn': 'arn:aws:sagemaker:us-east-1:284926681852:feature-group/hospital_store_feature_group26-04-23-30',\n",
       "   'CreationTime': datetime.datetime(2024, 9, 26, 4, 32, 41, 859000, tzinfo=tzlocal()),\n",
       "   'FeatureGroupStatus': 'Created'}],\n",
       " 'ResponseMetadata': {'RequestId': 'feecd3fb-46fa-4f84-b7bf-89e60cd3e188',\n",
       "  'HTTPStatusCode': 200,\n",
       "  'HTTPHeaders': {'x-amzn-requestid': 'feecd3fb-46fa-4f84-b7bf-89e60cd3e188',\n",
       "   'content-type': 'application/x-amz-json-1.1',\n",
       "   'content-length': '2228',\n",
       "   'date': 'Thu, 26 Sep 2024 04:34:12 GMT'},\n",
       "  'RetryAttempts': 0}}"
      ]
     },
     "execution_count": 162,
     "metadata": {},
     "output_type": "execute_result"
    }
   ],
   "source": [
    "sagemaker_client.list_feature_groups()  # use boto client to list FeatureGroups"
   ]
  },
  {
   "cell_type": "code",
   "execution_count": null,
   "id": "23865edb-b7c4-4eb7-81c1-c158d1235e01",
   "metadata": {},
   "outputs": [],
   "source": []
  },
  {
   "cell_type": "code",
   "execution_count": null,
   "id": "2980d1ec-d192-421d-8e8c-e86ca94507cc",
   "metadata": {},
   "outputs": [],
   "source": []
  },
  {
   "cell_type": "code",
   "execution_count": null,
   "id": "03297146-d277-4caa-a644-b327b938dbeb",
   "metadata": {},
   "outputs": [],
   "source": []
  },
  {
   "cell_type": "code",
   "execution_count": 37,
   "id": "cf362302-88a0-4526-bbdd-813093c9088a",
   "metadata": {
    "tags": []
   },
   "outputs": [
    {
     "data": {
      "text/html": [
       "\n",
       "<p><b>Shutting down your kernel for this notebook to release resources.</b></p>\n",
       "<button class=\"sm-command-button\" data-commandlinker-command=\"kernelmenu:shutdown\" style=\"display:none;\">Shutdown Kernel</button>\n",
       "        \n",
       "<script>\n",
       "try {\n",
       "    els = document.getElementsByClassName(\"sm-command-button\");\n",
       "    els[0].click();\n",
       "}\n",
       "catch(err) {\n",
       "    // NoOp\n",
       "}    \n",
       "</script>\n"
      ],
      "text/plain": [
       "<IPython.core.display.HTML object>"
      ]
     },
     "metadata": {},
     "output_type": "display_data"
    }
   ],
   "source": [
    "%%html\n",
    "\n",
    "<p><b>Shutting down your kernel for this notebook to release resources.</b></p>\n",
    "<button class=\"sm-command-button\" data-commandlinker-command=\"kernelmenu:shutdown\" style=\"display:none;\">Shutdown Kernel</button>\n",
    "        \n",
    "<script>\n",
    "try {\n",
    "    els = document.getElementsByClassName(\"sm-command-button\");\n",
    "    els[0].click();\n",
    "}\n",
    "catch(err) {\n",
    "    // NoOp\n",
    "}    \n",
    "</script>"
   ]
  },
  {
   "cell_type": "markdown",
   "id": "24b39330-80b3-4cf8-b8f2-34f642d83e47",
   "metadata": {},
   "source": [
    "# Release resources"
   ]
  },
  {
   "cell_type": "code",
   "execution_count": 18,
   "id": "be1e7d96-04a7-455b-8bab-b2de29a49522",
   "metadata": {
    "tags": []
   },
   "outputs": [
    {
     "data": {
      "text/html": [
       "\n",
       "<p><b>Shutting down your kernel for this notebook to release resources.</b></p>\n",
       "<button class=\"sm-command-button\" data-commandlinker-command=\"kernelmenu:shutdown\" style=\"display:none;\">Shutdown Kernel</button>\n",
       "        \n",
       "<script>\n",
       "try {\n",
       "    els = document.getElementsByClassName(\"sm-command-button\");\n",
       "    els[0].click();\n",
       "}\n",
       "catch(err) {\n",
       "    // NoOp\n",
       "}    \n",
       "</script>\n"
      ],
      "text/plain": [
       "<IPython.core.display.HTML object>"
      ]
     },
     "metadata": {},
     "output_type": "display_data"
    }
   ],
   "source": [
    "%%html\n",
    "\n",
    "<p><b>Shutting down your kernel for this notebook to release resources.</b></p>\n",
    "<button class=\"sm-command-button\" data-commandlinker-command=\"kernelmenu:shutdown\" style=\"display:none;\">Shutdown Kernel</button>\n",
    "        \n",
    "<script>\n",
    "try {\n",
    "    els = document.getElementsByClassName(\"sm-command-button\");\n",
    "    els[0].click();\n",
    "}\n",
    "catch(err) {\n",
    "    // NoOp\n",
    "}    \n",
    "</script>"
   ]
  },
  {
   "cell_type": "code",
   "execution_count": null,
   "id": "2fd956d3-6572-458a-a505-d8ab5b2e2316",
   "metadata": {},
   "outputs": [],
   "source": []
  },
  {
   "cell_type": "code",
   "execution_count": null,
   "id": "20fd713c-dba7-4f5b-a309-e2c4742ff90c",
   "metadata": {},
   "outputs": [],
   "source": []
  }
 ],
 "metadata": {
  "availableInstances": [
   {
    "_defaultOrder": 0,
    "_isFastLaunch": true,
    "category": "General purpose",
    "gpuNum": 0,
    "hideHardwareSpecs": false,
    "memoryGiB": 4,
    "name": "ml.t3.medium",
    "vcpuNum": 2
   },
   {
    "_defaultOrder": 1,
    "_isFastLaunch": false,
    "category": "General purpose",
    "gpuNum": 0,
    "hideHardwareSpecs": false,
    "memoryGiB": 8,
    "name": "ml.t3.large",
    "vcpuNum": 2
   },
   {
    "_defaultOrder": 2,
    "_isFastLaunch": false,
    "category": "General purpose",
    "gpuNum": 0,
    "hideHardwareSpecs": false,
    "memoryGiB": 16,
    "name": "ml.t3.xlarge",
    "vcpuNum": 4
   },
   {
    "_defaultOrder": 3,
    "_isFastLaunch": false,
    "category": "General purpose",
    "gpuNum": 0,
    "hideHardwareSpecs": false,
    "memoryGiB": 32,
    "name": "ml.t3.2xlarge",
    "vcpuNum": 8
   },
   {
    "_defaultOrder": 4,
    "_isFastLaunch": true,
    "category": "General purpose",
    "gpuNum": 0,
    "hideHardwareSpecs": false,
    "memoryGiB": 8,
    "name": "ml.m5.large",
    "vcpuNum": 2
   },
   {
    "_defaultOrder": 5,
    "_isFastLaunch": false,
    "category": "General purpose",
    "gpuNum": 0,
    "hideHardwareSpecs": false,
    "memoryGiB": 16,
    "name": "ml.m5.xlarge",
    "vcpuNum": 4
   },
   {
    "_defaultOrder": 6,
    "_isFastLaunch": false,
    "category": "General purpose",
    "gpuNum": 0,
    "hideHardwareSpecs": false,
    "memoryGiB": 32,
    "name": "ml.m5.2xlarge",
    "vcpuNum": 8
   },
   {
    "_defaultOrder": 7,
    "_isFastLaunch": false,
    "category": "General purpose",
    "gpuNum": 0,
    "hideHardwareSpecs": false,
    "memoryGiB": 64,
    "name": "ml.m5.4xlarge",
    "vcpuNum": 16
   },
   {
    "_defaultOrder": 8,
    "_isFastLaunch": false,
    "category": "General purpose",
    "gpuNum": 0,
    "hideHardwareSpecs": false,
    "memoryGiB": 128,
    "name": "ml.m5.8xlarge",
    "vcpuNum": 32
   },
   {
    "_defaultOrder": 9,
    "_isFastLaunch": false,
    "category": "General purpose",
    "gpuNum": 0,
    "hideHardwareSpecs": false,
    "memoryGiB": 192,
    "name": "ml.m5.12xlarge",
    "vcpuNum": 48
   },
   {
    "_defaultOrder": 10,
    "_isFastLaunch": false,
    "category": "General purpose",
    "gpuNum": 0,
    "hideHardwareSpecs": false,
    "memoryGiB": 256,
    "name": "ml.m5.16xlarge",
    "vcpuNum": 64
   },
   {
    "_defaultOrder": 11,
    "_isFastLaunch": false,
    "category": "General purpose",
    "gpuNum": 0,
    "hideHardwareSpecs": false,
    "memoryGiB": 384,
    "name": "ml.m5.24xlarge",
    "vcpuNum": 96
   },
   {
    "_defaultOrder": 12,
    "_isFastLaunch": false,
    "category": "General purpose",
    "gpuNum": 0,
    "hideHardwareSpecs": false,
    "memoryGiB": 8,
    "name": "ml.m5d.large",
    "vcpuNum": 2
   },
   {
    "_defaultOrder": 13,
    "_isFastLaunch": false,
    "category": "General purpose",
    "gpuNum": 0,
    "hideHardwareSpecs": false,
    "memoryGiB": 16,
    "name": "ml.m5d.xlarge",
    "vcpuNum": 4
   },
   {
    "_defaultOrder": 14,
    "_isFastLaunch": false,
    "category": "General purpose",
    "gpuNum": 0,
    "hideHardwareSpecs": false,
    "memoryGiB": 32,
    "name": "ml.m5d.2xlarge",
    "vcpuNum": 8
   },
   {
    "_defaultOrder": 15,
    "_isFastLaunch": false,
    "category": "General purpose",
    "gpuNum": 0,
    "hideHardwareSpecs": false,
    "memoryGiB": 64,
    "name": "ml.m5d.4xlarge",
    "vcpuNum": 16
   },
   {
    "_defaultOrder": 16,
    "_isFastLaunch": false,
    "category": "General purpose",
    "gpuNum": 0,
    "hideHardwareSpecs": false,
    "memoryGiB": 128,
    "name": "ml.m5d.8xlarge",
    "vcpuNum": 32
   },
   {
    "_defaultOrder": 17,
    "_isFastLaunch": false,
    "category": "General purpose",
    "gpuNum": 0,
    "hideHardwareSpecs": false,
    "memoryGiB": 192,
    "name": "ml.m5d.12xlarge",
    "vcpuNum": 48
   },
   {
    "_defaultOrder": 18,
    "_isFastLaunch": false,
    "category": "General purpose",
    "gpuNum": 0,
    "hideHardwareSpecs": false,
    "memoryGiB": 256,
    "name": "ml.m5d.16xlarge",
    "vcpuNum": 64
   },
   {
    "_defaultOrder": 19,
    "_isFastLaunch": false,
    "category": "General purpose",
    "gpuNum": 0,
    "hideHardwareSpecs": false,
    "memoryGiB": 384,
    "name": "ml.m5d.24xlarge",
    "vcpuNum": 96
   },
   {
    "_defaultOrder": 20,
    "_isFastLaunch": false,
    "category": "General purpose",
    "gpuNum": 0,
    "hideHardwareSpecs": true,
    "memoryGiB": 0,
    "name": "ml.geospatial.interactive",
    "supportedImageNames": [
     "sagemaker-geospatial-v1-0"
    ],
    "vcpuNum": 0
   },
   {
    "_defaultOrder": 21,
    "_isFastLaunch": true,
    "category": "Compute optimized",
    "gpuNum": 0,
    "hideHardwareSpecs": false,
    "memoryGiB": 4,
    "name": "ml.c5.large",
    "vcpuNum": 2
   },
   {
    "_defaultOrder": 22,
    "_isFastLaunch": false,
    "category": "Compute optimized",
    "gpuNum": 0,
    "hideHardwareSpecs": false,
    "memoryGiB": 8,
    "name": "ml.c5.xlarge",
    "vcpuNum": 4
   },
   {
    "_defaultOrder": 23,
    "_isFastLaunch": false,
    "category": "Compute optimized",
    "gpuNum": 0,
    "hideHardwareSpecs": false,
    "memoryGiB": 16,
    "name": "ml.c5.2xlarge",
    "vcpuNum": 8
   },
   {
    "_defaultOrder": 24,
    "_isFastLaunch": false,
    "category": "Compute optimized",
    "gpuNum": 0,
    "hideHardwareSpecs": false,
    "memoryGiB": 32,
    "name": "ml.c5.4xlarge",
    "vcpuNum": 16
   },
   {
    "_defaultOrder": 25,
    "_isFastLaunch": false,
    "category": "Compute optimized",
    "gpuNum": 0,
    "hideHardwareSpecs": false,
    "memoryGiB": 72,
    "name": "ml.c5.9xlarge",
    "vcpuNum": 36
   },
   {
    "_defaultOrder": 26,
    "_isFastLaunch": false,
    "category": "Compute optimized",
    "gpuNum": 0,
    "hideHardwareSpecs": false,
    "memoryGiB": 96,
    "name": "ml.c5.12xlarge",
    "vcpuNum": 48
   },
   {
    "_defaultOrder": 27,
    "_isFastLaunch": false,
    "category": "Compute optimized",
    "gpuNum": 0,
    "hideHardwareSpecs": false,
    "memoryGiB": 144,
    "name": "ml.c5.18xlarge",
    "vcpuNum": 72
   },
   {
    "_defaultOrder": 28,
    "_isFastLaunch": false,
    "category": "Compute optimized",
    "gpuNum": 0,
    "hideHardwareSpecs": false,
    "memoryGiB": 192,
    "name": "ml.c5.24xlarge",
    "vcpuNum": 96
   },
   {
    "_defaultOrder": 29,
    "_isFastLaunch": true,
    "category": "Accelerated computing",
    "gpuNum": 1,
    "hideHardwareSpecs": false,
    "memoryGiB": 16,
    "name": "ml.g4dn.xlarge",
    "vcpuNum": 4
   },
   {
    "_defaultOrder": 30,
    "_isFastLaunch": false,
    "category": "Accelerated computing",
    "gpuNum": 1,
    "hideHardwareSpecs": false,
    "memoryGiB": 32,
    "name": "ml.g4dn.2xlarge",
    "vcpuNum": 8
   },
   {
    "_defaultOrder": 31,
    "_isFastLaunch": false,
    "category": "Accelerated computing",
    "gpuNum": 1,
    "hideHardwareSpecs": false,
    "memoryGiB": 64,
    "name": "ml.g4dn.4xlarge",
    "vcpuNum": 16
   },
   {
    "_defaultOrder": 32,
    "_isFastLaunch": false,
    "category": "Accelerated computing",
    "gpuNum": 1,
    "hideHardwareSpecs": false,
    "memoryGiB": 128,
    "name": "ml.g4dn.8xlarge",
    "vcpuNum": 32
   },
   {
    "_defaultOrder": 33,
    "_isFastLaunch": false,
    "category": "Accelerated computing",
    "gpuNum": 4,
    "hideHardwareSpecs": false,
    "memoryGiB": 192,
    "name": "ml.g4dn.12xlarge",
    "vcpuNum": 48
   },
   {
    "_defaultOrder": 34,
    "_isFastLaunch": false,
    "category": "Accelerated computing",
    "gpuNum": 1,
    "hideHardwareSpecs": false,
    "memoryGiB": 256,
    "name": "ml.g4dn.16xlarge",
    "vcpuNum": 64
   },
   {
    "_defaultOrder": 35,
    "_isFastLaunch": false,
    "category": "Accelerated computing",
    "gpuNum": 1,
    "hideHardwareSpecs": false,
    "memoryGiB": 61,
    "name": "ml.p3.2xlarge",
    "vcpuNum": 8
   },
   {
    "_defaultOrder": 36,
    "_isFastLaunch": false,
    "category": "Accelerated computing",
    "gpuNum": 4,
    "hideHardwareSpecs": false,
    "memoryGiB": 244,
    "name": "ml.p3.8xlarge",
    "vcpuNum": 32
   },
   {
    "_defaultOrder": 37,
    "_isFastLaunch": false,
    "category": "Accelerated computing",
    "gpuNum": 8,
    "hideHardwareSpecs": false,
    "memoryGiB": 488,
    "name": "ml.p3.16xlarge",
    "vcpuNum": 64
   },
   {
    "_defaultOrder": 38,
    "_isFastLaunch": false,
    "category": "Accelerated computing",
    "gpuNum": 8,
    "hideHardwareSpecs": false,
    "memoryGiB": 768,
    "name": "ml.p3dn.24xlarge",
    "vcpuNum": 96
   },
   {
    "_defaultOrder": 39,
    "_isFastLaunch": false,
    "category": "Memory Optimized",
    "gpuNum": 0,
    "hideHardwareSpecs": false,
    "memoryGiB": 16,
    "name": "ml.r5.large",
    "vcpuNum": 2
   },
   {
    "_defaultOrder": 40,
    "_isFastLaunch": false,
    "category": "Memory Optimized",
    "gpuNum": 0,
    "hideHardwareSpecs": false,
    "memoryGiB": 32,
    "name": "ml.r5.xlarge",
    "vcpuNum": 4
   },
   {
    "_defaultOrder": 41,
    "_isFastLaunch": false,
    "category": "Memory Optimized",
    "gpuNum": 0,
    "hideHardwareSpecs": false,
    "memoryGiB": 64,
    "name": "ml.r5.2xlarge",
    "vcpuNum": 8
   },
   {
    "_defaultOrder": 42,
    "_isFastLaunch": false,
    "category": "Memory Optimized",
    "gpuNum": 0,
    "hideHardwareSpecs": false,
    "memoryGiB": 128,
    "name": "ml.r5.4xlarge",
    "vcpuNum": 16
   },
   {
    "_defaultOrder": 43,
    "_isFastLaunch": false,
    "category": "Memory Optimized",
    "gpuNum": 0,
    "hideHardwareSpecs": false,
    "memoryGiB": 256,
    "name": "ml.r5.8xlarge",
    "vcpuNum": 32
   },
   {
    "_defaultOrder": 44,
    "_isFastLaunch": false,
    "category": "Memory Optimized",
    "gpuNum": 0,
    "hideHardwareSpecs": false,
    "memoryGiB": 384,
    "name": "ml.r5.12xlarge",
    "vcpuNum": 48
   },
   {
    "_defaultOrder": 45,
    "_isFastLaunch": false,
    "category": "Memory Optimized",
    "gpuNum": 0,
    "hideHardwareSpecs": false,
    "memoryGiB": 512,
    "name": "ml.r5.16xlarge",
    "vcpuNum": 64
   },
   {
    "_defaultOrder": 46,
    "_isFastLaunch": false,
    "category": "Memory Optimized",
    "gpuNum": 0,
    "hideHardwareSpecs": false,
    "memoryGiB": 768,
    "name": "ml.r5.24xlarge",
    "vcpuNum": 96
   },
   {
    "_defaultOrder": 47,
    "_isFastLaunch": false,
    "category": "Accelerated computing",
    "gpuNum": 1,
    "hideHardwareSpecs": false,
    "memoryGiB": 16,
    "name": "ml.g5.xlarge",
    "vcpuNum": 4
   },
   {
    "_defaultOrder": 48,
    "_isFastLaunch": false,
    "category": "Accelerated computing",
    "gpuNum": 1,
    "hideHardwareSpecs": false,
    "memoryGiB": 32,
    "name": "ml.g5.2xlarge",
    "vcpuNum": 8
   },
   {
    "_defaultOrder": 49,
    "_isFastLaunch": false,
    "category": "Accelerated computing",
    "gpuNum": 1,
    "hideHardwareSpecs": false,
    "memoryGiB": 64,
    "name": "ml.g5.4xlarge",
    "vcpuNum": 16
   },
   {
    "_defaultOrder": 50,
    "_isFastLaunch": false,
    "category": "Accelerated computing",
    "gpuNum": 1,
    "hideHardwareSpecs": false,
    "memoryGiB": 128,
    "name": "ml.g5.8xlarge",
    "vcpuNum": 32
   },
   {
    "_defaultOrder": 51,
    "_isFastLaunch": false,
    "category": "Accelerated computing",
    "gpuNum": 1,
    "hideHardwareSpecs": false,
    "memoryGiB": 256,
    "name": "ml.g5.16xlarge",
    "vcpuNum": 64
   },
   {
    "_defaultOrder": 52,
    "_isFastLaunch": false,
    "category": "Accelerated computing",
    "gpuNum": 4,
    "hideHardwareSpecs": false,
    "memoryGiB": 192,
    "name": "ml.g5.12xlarge",
    "vcpuNum": 48
   },
   {
    "_defaultOrder": 53,
    "_isFastLaunch": false,
    "category": "Accelerated computing",
    "gpuNum": 4,
    "hideHardwareSpecs": false,
    "memoryGiB": 384,
    "name": "ml.g5.24xlarge",
    "vcpuNum": 96
   },
   {
    "_defaultOrder": 54,
    "_isFastLaunch": false,
    "category": "Accelerated computing",
    "gpuNum": 8,
    "hideHardwareSpecs": false,
    "memoryGiB": 768,
    "name": "ml.g5.48xlarge",
    "vcpuNum": 192
   },
   {
    "_defaultOrder": 55,
    "_isFastLaunch": false,
    "category": "Accelerated computing",
    "gpuNum": 8,
    "hideHardwareSpecs": false,
    "memoryGiB": 1152,
    "name": "ml.p4d.24xlarge",
    "vcpuNum": 96
   },
   {
    "_defaultOrder": 56,
    "_isFastLaunch": false,
    "category": "Accelerated computing",
    "gpuNum": 8,
    "hideHardwareSpecs": false,
    "memoryGiB": 1152,
    "name": "ml.p4de.24xlarge",
    "vcpuNum": 96
   },
   {
    "_defaultOrder": 57,
    "_isFastLaunch": false,
    "category": "Accelerated computing",
    "gpuNum": 0,
    "hideHardwareSpecs": false,
    "memoryGiB": 32,
    "name": "ml.trn1.2xlarge",
    "vcpuNum": 8
   },
   {
    "_defaultOrder": 58,
    "_isFastLaunch": false,
    "category": "Accelerated computing",
    "gpuNum": 0,
    "hideHardwareSpecs": false,
    "memoryGiB": 512,
    "name": "ml.trn1.32xlarge",
    "vcpuNum": 128
   },
   {
    "_defaultOrder": 59,
    "_isFastLaunch": false,
    "category": "Accelerated computing",
    "gpuNum": 0,
    "hideHardwareSpecs": false,
    "memoryGiB": 512,
    "name": "ml.trn1n.32xlarge",
    "vcpuNum": 128
   }
  ],
  "kernelspec": {
   "display_name": "Python 3 (Data Science 3.0)",
   "language": "python",
   "name": "python3__SAGEMAKER_INTERNAL__arn:aws:sagemaker:us-east-1:081325390199:image/sagemaker-data-science-310-v1"
  },
  "language_info": {
   "codemirror_mode": {
    "name": "ipython",
    "version": 3
   },
   "file_extension": ".py",
   "mimetype": "text/x-python",
   "name": "python",
   "nbconvert_exporter": "python",
   "pygments_lexer": "ipython3",
   "version": "3.10.6"
  }
 },
 "nbformat": 4,
 "nbformat_minor": 5
}

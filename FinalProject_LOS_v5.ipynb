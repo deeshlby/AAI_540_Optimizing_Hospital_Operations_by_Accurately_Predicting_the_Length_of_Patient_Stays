{
 "cells": [
  {
   "cell_type": "markdown",
   "metadata": {},
   "source": [
    "# Using SageMaker pipelines for MLOps workflows\n",
    "\n",
    "This notebook contains end-to-end code to construct and execute a secure MLOps pipeline in your data science environment. It contains all necessary all code in one place. You can use and modify this code for your experiments and tests.\n",
    "  \n"
   ]
  },
  {
   "cell_type": "code",
   "execution_count": 58,
   "metadata": {},
   "outputs": [],
   "source": [
    "if False:\n",
    "    !pip install --disable-pip-version-check -q sagemaker==2.47.1"
   ]
  },
  {
   "cell_type": "code",
   "execution_count": null,
   "metadata": {},
   "outputs": [],
   "source": [
    "!python --version"
   ]
  },
  {
   "cell_type": "code",
   "execution_count": 60,
   "metadata": {},
   "outputs": [],
   "source": [
    "if False:\n",
    "    !pip install -U sagemaker"
   ]
  },
  {
   "cell_type": "code",
   "execution_count": 190,
   "metadata": {},
   "outputs": [
    {
     "name": "stdout",
     "output_type": "stream",
     "text": [
      "SageMaker version: 2.232.2\n"
     ]
    }
   ],
   "source": [
    "import boto3\n",
    "import sagemaker\n",
    "import sagemaker.session\n",
    "import json\n",
    "\n",
    "print(f\"SageMaker version: {sagemaker.__version__}\")"
   ]
  },
  {
   "cell_type": "code",
   "execution_count": 191,
   "metadata": {},
   "outputs": [],
   "source": [
    "sm = boto3.client(\"sagemaker\")\n",
    "ssm = boto3.client(\"ssm\")\n",
    "\n",
    "def get_environment(project_name, ssm_params):\n",
    "    r = sm.describe_domain(\n",
    "            DomainId=sm.describe_project(\n",
    "                ProjectName=project_name\n",
    "                )[\"CreatedBy\"][\"DomainId\"]\n",
    "        )\n",
    "    del r[\"ResponseMetadata\"]\n",
    "    del r[\"CreationTime\"]\n",
    "    del r[\"LastModifiedTime\"]\n",
    "    r = {**r, **r[\"DefaultUserSettings\"]}\n",
    "    del r[\"DefaultUserSettings\"]\n",
    "\n",
    "    i = {\n",
    "        **r,\n",
    "        **{t[\"Key\"]:t[\"Value\"] \n",
    "            for t in sm.list_tags(ResourceArn=r[\"DomainArn\"])[\"Tags\"] \n",
    "            if t[\"Key\"] in [\"EnvironmentName\", \"EnvironmentType\"]}\n",
    "    }\n",
    "\n",
    "    for p in ssm_params:\n",
    "        try:\n",
    "            i[p[\"VariableName\"]] = ssm.get_parameter(Name=f\"{i['EnvironmentName']}-{i['EnvironmentType']}-{p['ParameterName']}\")[\"Parameter\"][\"Value\"]\n",
    "        except:\n",
    "            i[p[\"VariableName\"]] = \"\"\n",
    "\n",
    "    return i\n"
   ]
  },
  {
   "cell_type": "markdown",
   "metadata": {},
   "source": [
    "<div class=\"alert alert-info\"> 💡 <strong> Get environment variables </strong>\n",
    "\n",
    "Set the <b>`project_name`</b> to the name of the current SageMaker project.\n",
    "Various environment data is loaded and shown:\n",
    "</div>"
   ]
  },
  {
   "cell_type": "code",
   "execution_count": 192,
   "metadata": {},
   "outputs": [
    {
     "name": "stdout",
     "output_type": "stream",
     "text": [
      "Input data path: s3://sagemaker-us-east-1-361019805433/your-data-path/traindata_medium.csv\n"
     ]
    }
   ],
   "source": [
    "import boto3\n",
    "import sagemaker\n",
    "from sagemaker.session import Session\n",
    "\n",
    "# Initialize SageMaker session\n",
    "sagemaker_session = sagemaker.Session()\n",
    "\n",
    "# Use your default S3 bucket for storing data\n",
    "default_bucket = sagemaker_session.default_bucket()\n",
    "\n",
    "# Set the data paths\n",
    "input_data_uri = f\"s3://{default_bucket}/your-data-path/traindata_medium.csv\"\n",
    "print(f\"Input data path: {input_data_uri}\")\n",
    "\n",
    "# You can now use input_data_uri for your pipelines or other resources\n"
   ]
  },
  {
   "cell_type": "code",
   "execution_count": 193,
   "metadata": {},
   "outputs": [
    {
     "name": "stdout",
     "output_type": "stream",
     "text": [
      "SageMaker version: 2.232.2\n",
      "Region: us-east-1\n",
      "Model Package Group Name: HospitalLOS\n",
      "Pipeline Name: HospitalLOS-Pipeline\n"
     ]
    }
   ],
   "source": [
    "import boto3\n",
    "import sagemaker\n",
    "from sagemaker.session import Session\n",
    "\n",
    "# Initialize SageMaker session\n",
    "sagemaker_session = sagemaker.Session()\n",
    "\n",
    "# Get the current region\n",
    "region = boto3.Session().region_name\n",
    "\n",
    "# Retrieve execution role (update this to the appropriate role if needed)\n",
    "pipeline_role = sagemaker.get_execution_role()  # Use the current SageMaker execution role\n",
    "processing_role = pipeline_role  # Assuming the same role for processing and training\n",
    "training_role = pipeline_role\n",
    "\n",
    "# Use default S3 bucket for storing data and models\n",
    "data_bucket = sagemaker_session.default_bucket()\n",
    "model_bucket = data_bucket  # Using the same bucket for models unless specified otherwise\n",
    "\n",
    "# If you're using KMS encryption (remove or update these if you're not using KMS)\n",
    "ebs_kms_id = None  # Set this if using KMS for EBS volume encryption\n",
    "s3_kms_id = None   # Set this if using KMS for S3 encryption\n",
    "\n",
    "print(f\"SageMaker version: {sagemaker.__version__}\")\n",
    "print(f\"Region: {region}\")\n",
    "\n",
    "# Customize project and pipeline names as per your needs\n",
    "project_name = \"HospitalLOS\"\n",
    "model_package_group_name = f\"{project_name}\"\n",
    "pipeline_name = f\"{project_name}-Pipeline\"\n",
    "\n",
    "print(f\"Model Package Group Name: {model_package_group_name}\")\n",
    "print(f\"Pipeline Name: {pipeline_name}\")\n"
   ]
  },
  {
   "cell_type": "code",
   "execution_count": 194,
   "metadata": {},
   "outputs": [],
   "source": [
    "import os\n",
    "\n",
    "from sagemaker.estimator import Estimator\n",
    "from sagemaker.inputs import TrainingInput\n",
    "from sagemaker.model_metrics import (\n",
    "    MetricsSource,\n",
    "    ModelMetrics,\n",
    ")\n",
    "from sagemaker.processing import (\n",
    "    ProcessingInput,\n",
    "    ProcessingOutput,\n",
    "    ScriptProcessor,\n",
    ")\n",
    "from sagemaker.sklearn.processing import SKLearnProcessor\n",
    "from sagemaker.workflow.conditions import ConditionLessThanOrEqualTo\n",
    "from sagemaker.workflow.functions import JsonGet\n",
    "from sagemaker.workflow.condition_step import (\n",
    "    ConditionStep\n",
    ")\n",
    "from sagemaker.workflow.parameters import (\n",
    "    ParameterInteger,\n",
    "    ParameterString,\n",
    ")\n",
    "from sagemaker.workflow.pipeline import Pipeline\n",
    "from sagemaker.workflow.properties import PropertyFile\n",
    "from sagemaker.workflow.steps import (\n",
    "    ProcessingStep,\n",
    "    TrainingStep,\n",
    ")\n",
    "from sagemaker.workflow.step_collections import RegisterModel\n",
    "from sagemaker.network import NetworkConfig\n",
    "\n",
    "BASE_DIR=\"./pipelines/Hlos/\""
   ]
  },
  {
   "cell_type": "markdown",
   "metadata": {},
   "source": [
    "# Upload the data to S3"
   ]
  },
  {
   "cell_type": "code",
   "execution_count": 195,
   "metadata": {},
   "outputs": [
    {
     "name": "stdout",
     "output_type": "stream",
     "text": [
      "Data uploaded to s3://sagemaker-us-east-1-361019805433/HospitalLOS/traindata_medium.csv/traindata_medium.csv\n"
     ]
    }
   ],
   "source": [
    "from sagemaker.s3 import S3Uploader\n",
    "\n",
    "# Define the S3 base URI for the dataset\n",
    "dataset_s3_uri = f\"s3://{sagemaker_session.default_bucket()}/HospitalLOS/traindata_medium.csv\"\n",
    "\n",
    "# Upload the CSV to the defined URI\n",
    "input_data_uri = S3Uploader.upload(\n",
    "    local_path=\"traindata_medium.csv\",  # Local path to your CSV\n",
    "    desired_s3_uri=dataset_s3_uri\n",
    ")\n",
    "print(f\"Data uploaded to {input_data_uri}\")\n"
   ]
  },
  {
   "cell_type": "code",
   "execution_count": 196,
   "metadata": {},
   "outputs": [],
   "source": [
    "# You can proceed without specifying NetworkConfig if you don't have security group or subnet IDs\n",
    "\n",
    "# Define instance parameters for processing and training\n",
    "processing_instance_count = ParameterInteger(name=\"ProcessingInstanceCount\", default_value=1)\n",
    "processing_instance_type = ParameterString(\n",
    "    name=\"ProcessingInstanceType\", default_value=\"ml.m5.xlarge\"\n",
    ")\n",
    "training_instance_type = ParameterString(\n",
    "    name=\"TrainingInstanceType\", default_value=\"ml.m5.xlarge\"\n",
    ")\n",
    "model_approval_status = ParameterString(\n",
    "    name=\"ModelApprovalStatus\", default_value=\"PendingManualApproval\"\n",
    ")\n",
    "input_data = ParameterString(\n",
    "    name=\"InputDataUrl\",\n",
    "    default_value=dataset_s3_uri,\n",
    ")\n",
    "\n",
    "# Continue with the rest of the pipeline setup without network configuration\n"
   ]
  },
  {
   "cell_type": "code",
   "execution_count": 197,
   "metadata": {},
   "outputs": [],
   "source": [
    "# network_config = NetworkConfig(\n",
    "#         enable_network_isolation=False, \n",
    "#         security_group_ids=env_data[\"SecurityGroups\"],\n",
    "#         subnets=env_data[\"SubnetIds\"],\n",
    "#         encrypt_inter_container_traffic=True)"
   ]
  },
  {
   "cell_type": "code",
   "execution_count": 198,
   "metadata": {},
   "outputs": [
    {
     "name": "stderr",
     "output_type": "stream",
     "text": [
      "WARNING:sagemaker.workflow.utilities:The input argument instance_type of function (sagemaker.image_uris.retrieve) is a pipeline variable (<class 'sagemaker.workflow.parameters.ParameterString'>), which is interpreted in pipeline execution time only. As the function needs to evaluate the argument value in SDK compile time, the default_value of this Parameter object will be used to override it. Please make sure the default_value is valid.\n",
      "INFO:sagemaker.image_uris:Defaulting to only available Python version: py3\n"
     ]
    }
   ],
   "source": [
    "base_job_prefix=\"Hlos\"\n",
    "\n",
    "# processing step for feature engineering\n",
    "sklearn_processor = SKLearnProcessor(\n",
    "    framework_version=\"0.23-1\",\n",
    "    instance_type=processing_instance_type,\n",
    "    instance_count=processing_instance_count,\n",
    "    base_job_name=f\"{base_job_prefix}/sklearn-HLOS-preprocess\",\n",
    "    sagemaker_session=sagemaker_session,\n",
    "    role=processing_role,\n",
    "  #  network_config=network_config,\n",
    "    volume_kms_key=ebs_kms_id,\n",
    "    output_kms_key=s3_kms_id\n",
    ")"
   ]
  },
  {
   "cell_type": "code",
   "execution_count": 199,
   "metadata": {},
   "outputs": [],
   "source": [
    " step_process = ProcessingStep(\n",
    "        name=\"PreprocessHLOSData\",\n",
    "        processor=sklearn_processor,\n",
    "        outputs=[\n",
    "            ProcessingOutput(output_name=\"train\", source=\"/opt/ml/processing/train\"),\n",
    "            ProcessingOutput(output_name=\"validation\", source=\"/opt/ml/processing/validation\"),\n",
    "            ProcessingOutput(output_name=\"test\", source=\"/opt/ml/processing/test\"),\n",
    "        ],\n",
    "        code=os.path.join(BASE_DIR, \"preprocess.py\"),\n",
    "        job_arguments=[\"--input-data\", input_data],\n",
    "    )"
   ]
  },
  {
   "cell_type": "code",
   "execution_count": 200,
   "metadata": {},
   "outputs": [
    {
     "name": "stderr",
     "output_type": "stream",
     "text": [
      "WARNING:sagemaker.workflow.utilities:The input argument instance_type of function (sagemaker.image_uris.retrieve) is a pipeline variable (<class 'sagemaker.workflow.parameters.ParameterString'>), which is interpreted in pipeline execution time only. As the function needs to evaluate the argument value in SDK compile time, the default_value of this Parameter object will be used to override it. Please make sure the default_value is valid.\n"
     ]
    }
   ],
   "source": [
    "# Training step for generating model artifacts\n",
    "model_path = f\"s3://{model_bucket}/{base_job_prefix}/HlosTrain\"\n",
    "image_uri = sagemaker.image_uris.retrieve(\n",
    "    framework=\"xgboost\",\n",
    "    region=region,\n",
    "    version=\"1.0-1\",\n",
    "    py_version=\"py3\",\n",
    "    instance_type=training_instance_type,\n",
    ")\n",
    "\n",
    "# Set up the XGBoost Estimator with the updated classification parameters\n",
    "xgb_train = Estimator(\n",
    "    image_uri=image_uri,\n",
    "    instance_type=training_instance_type,\n",
    "    instance_count=1,\n",
    "    output_path=model_path,\n",
    "    base_job_name=f\"{base_job_prefix}/Hlos-train\",\n",
    "    sagemaker_session=sagemaker_session,\n",
    "    role=training_role,\n",
    "    #subnets=network_config.subnets,\n",
    "    #security_group_ids=network_config.security_group_ids,\n",
    "    #encrypt_inter_container_traffic=True,\n",
    "    #enable_network_isolation=False,\n",
    "    volume_kms_key=ebs_kms_id,\n",
    "    output_kms_key=s3_kms_id\n",
    ")\n",
    "\n",
    "# Set hyperparameters for multi-class classification\n",
    "xgb_train.set_hyperparameters(\n",
    "    objective=\"multi:softmax\",  # Change to \"multi:softprob\" for class probabilities\n",
    "    num_class=12,  # Update with the actual number of unique classes in 'Stay'\n",
    "    num_round=50,\n",
    "    max_depth=5,\n",
    "    eta=0.2,\n",
    "    gamma=4,\n",
    "    min_child_weight=6,\n",
    "    subsample=0.7,\n",
    "    silent=0,\n",
    ")\n"
   ]
  },
  {
   "cell_type": "code",
   "execution_count": 201,
   "metadata": {},
   "outputs": [],
   "source": [
    "step_train = TrainingStep(\n",
    "    name=\"TrainHlosModel\",\n",
    "    estimator=xgb_train,\n",
    "    inputs={\n",
    "        \"train\": TrainingInput(\n",
    "            s3_data=step_process.properties.ProcessingOutputConfig.Outputs[\n",
    "                \"train\"\n",
    "            ].S3Output.S3Uri,\n",
    "            content_type=\"text/csv\",\n",
    "        ),\n",
    "        \"validation\": TrainingInput(\n",
    "            s3_data=step_process.properties.ProcessingOutputConfig.Outputs[\n",
    "                \"validation\"\n",
    "            ].S3Output.S3Uri,\n",
    "            content_type=\"text/csv\",\n",
    "        ),\n",
    "    },\n",
    ")"
   ]
  },
  {
   "cell_type": "code",
   "execution_count": 202,
   "metadata": {},
   "outputs": [],
   "source": [
    "# processing step for evaluation\n",
    "script_eval = ScriptProcessor(\n",
    "    image_uri=image_uri,\n",
    "    command=[\"python3\"],\n",
    "    instance_type=processing_instance_type,\n",
    "    instance_count=1,\n",
    "    base_job_name=f\"{base_job_prefix}/script-Hlos-eval\",\n",
    "    sagemaker_session=sagemaker_session,\n",
    "    role=processing_role,\n",
    "    #network_config=network_config,\n",
    "    volume_kms_key=ebs_kms_id,\n",
    "    output_kms_key=s3_kms_id\n",
    ")"
   ]
  },
  {
   "cell_type": "code",
   "execution_count": 203,
   "metadata": {},
   "outputs": [],
   "source": [
    "evaluation_report = PropertyFile(\n",
    "        name=\"HlosEvaluationReport\",\n",
    "        output_name=\"evaluation\",\n",
    "        path=\"evaluation.json\",\n",
    "    )"
   ]
  },
  {
   "cell_type": "code",
   "execution_count": 204,
   "metadata": {},
   "outputs": [],
   "source": [
    "step_eval = ProcessingStep(\n",
    "        name=\"EvaluateHlosModel\",\n",
    "        processor=script_eval,\n",
    "        inputs=[\n",
    "            ProcessingInput(\n",
    "                source=step_train.properties.ModelArtifacts.S3ModelArtifacts,\n",
    "                destination=\"/opt/ml/processing/model\",\n",
    "            ),\n",
    "            ProcessingInput(\n",
    "                source=step_process.properties.ProcessingOutputConfig.Outputs[\n",
    "                    \"test\"\n",
    "                ].S3Output.S3Uri,\n",
    "                destination=\"/opt/ml/processing/test\",\n",
    "            ),\n",
    "        ],\n",
    "        outputs=[\n",
    "            ProcessingOutput(output_name=\"evaluation\", source=\"/opt/ml/processing/evaluation\"),\n",
    "        ],\n",
    "        code=os.path.join(BASE_DIR, \"evaluate.py\"),\n",
    "        property_files=[evaluation_report],\n",
    "    )"
   ]
  },
  {
   "cell_type": "code",
   "execution_count": 205,
   "metadata": {},
   "outputs": [
    {
     "name": "stderr",
     "output_type": "stream",
     "text": [
      "WARNING:sagemaker.workflow.utilities:Popping out 'ProcessingJobName' from the pipeline definition by default since it will be overridden at pipeline execution time. Please utilize the PipelineDefinitionConfig to persist this field in the pipeline definition if desired.\n"
     ]
    }
   ],
   "source": [
    "# register model step that will be conditionally executed\n",
    "model_metrics = ModelMetrics(\n",
    "    model_statistics=MetricsSource(\n",
    "        s3_uri=\"{}/evaluation.json\".format(\n",
    "            step_eval.arguments[\"ProcessingOutputConfig\"][\"Outputs\"][0][\"S3Output\"][\"S3Uri\"]\n",
    "        ),\n",
    "        content_type=\"application/json\"\n",
    "    )\n",
    ")"
   ]
  },
  {
   "cell_type": "code",
   "execution_count": 206,
   "metadata": {},
   "outputs": [],
   "source": [
    "# vpc_config = {\n",
    "#     \"Subnets\":network_config.subnets,\n",
    "#     \"SecurityGroupIds\":network_config.security_group_ids\n",
    "# }"
   ]
  },
  {
   "cell_type": "code",
   "execution_count": 207,
   "metadata": {},
   "outputs": [],
   "source": [
    "\"\"\"\n",
    "There is a bug in RegisterModel implementation\n",
    "The RegisterModel step is implemented in the SDK as two steps, a _RepackModelStep and a _RegisterModelStep. \n",
    "The _RepackModelStep runs a SKLearn training step in order to repack the model.tar.gz to include any custom inference code in the archive. \n",
    "The _RegisterModelStep then registers the repacked model.\n",
    "\n",
    "The problem is that the _RepackModelStep does not propagate VPC configuration from the Estimator object:\n",
    "https://github.com/aws/sagemaker-python-sdk/blob/cdb633b3ab02398c3b77f5ecd2c03cdf41049c78/src/sagemaker/workflow/_utils.py#L88\n",
    "\n",
    "This cause the AccessDenied exception because repacker cannot access S3 bucket (all access which is not via VPC endpoint is blocked by the bucket policy)\n",
    "\n",
    "The issue is opened against SageMaker module: https://github.com/aws/sagemaker-python-sdk/issues/2302\n",
    "\"\"\"\n",
    "\n",
    "step_register = RegisterModel(\n",
    "    name=\"RegisterHlosModel\",\n",
    "    estimator=xgb_train,\n",
    "    model_data=step_train.properties.ModelArtifacts.S3ModelArtifacts,\n",
    "    content_types=[\"text/csv\"],\n",
    "    response_types=[\"text/csv\"],\n",
    "    inference_instances=[\"ml.t2.medium\", \"ml.m5.large\"],\n",
    "    transform_instances=[\"ml.m5.large\"],\n",
    "    model_package_group_name=model_package_group_name,\n",
    "    approval_status=model_approval_status,\n",
    "    model_metrics=model_metrics,\n",
    "   # vpc_config_override=vpc_config\n",
    ")"
   ]
  },
  {
   "cell_type": "code",
   "execution_count": 208,
   "metadata": {},
   "outputs": [],
   "source": [
    "#xgb_train.get_vpc_config()"
   ]
  },
  {
   "cell_type": "code",
   "execution_count": 209,
   "metadata": {},
   "outputs": [],
   "source": [
    "from sagemaker.workflow.conditions import ConditionGreaterThanOrEqualTo\n",
    "\n",
    "# Condition step for evaluating model quality using accuracy\n",
    "cond_gte = ConditionGreaterThanOrEqualTo(\n",
    "    left=JsonGet(\n",
    "        step_name=step_eval.name,\n",
    "        property_file=evaluation_report,\n",
    "        json_path=\"classification_metrics.accuracy.value\"  # Update to match the classification metric\n",
    "    ),\n",
    "    right=0.6,  # Desired minimum accuracy threshold\n",
    ")\n",
    "\n",
    "# Update the ConditionStep with the accuracy condition\n",
    "step_cond = ConditionStep(\n",
    "    name=\"CheckAccuracyHospitalLOSEvaluation\",\n",
    "    conditions=[cond_gte],\n",
    "    if_steps=[step_register],\n",
    "    else_steps=[],\n",
    ")\n"
   ]
  },
  {
   "cell_type": "code",
   "execution_count": 210,
   "metadata": {},
   "outputs": [],
   "source": [
    "# pipeline instance\n",
    "pipeline = Pipeline(\n",
    "    name=pipeline_name,\n",
    "    parameters=[\n",
    "        processing_instance_type,\n",
    "        processing_instance_count,\n",
    "        training_instance_type,\n",
    "        model_approval_status,\n",
    "        input_data,\n",
    "    ],\n",
    "    steps=[step_process, step_train, step_eval, step_cond],\n",
    "    sagemaker_session=sagemaker_session,\n",
    ")"
   ]
  },
  {
   "cell_type": "code",
   "execution_count": 211,
   "metadata": {},
   "outputs": [
    {
     "name": "stderr",
     "output_type": "stream",
     "text": [
      "WARNING:sagemaker.workflow.utilities:Popping out 'ProcessingJobName' from the pipeline definition by default since it will be overridden at pipeline execution time. Please utilize the PipelineDefinitionConfig to persist this field in the pipeline definition if desired.\n",
      "WARNING:sagemaker.workflow.utilities:Popping out 'TrainingJobName' from the pipeline definition by default since it will be overridden at pipeline execution time. Please utilize the PipelineDefinitionConfig to persist this field in the pipeline definition if desired.\n",
      "WARNING:sagemaker.workflow.utilities:Popping out 'ProcessingJobName' from the pipeline definition by default since it will be overridden at pipeline execution time. Please utilize the PipelineDefinitionConfig to persist this field in the pipeline definition if desired.\n",
      "WARNING:sagemaker.estimator:No finished training job found associated with this estimator. Please make sure this estimator is only used for building workflow config\n",
      "WARNING:sagemaker.workflow._utils:Popping out 'CertifyForMarketplace' from the pipeline definition since it will be overridden in pipeline execution time.\n",
      "WARNING:sagemaker.workflow.utilities:Popping out 'ModelPackageName' from the pipeline definition by default since it will be overridden at pipeline execution time. Please utilize the PipelineDefinitionConfig to persist this field in the pipeline definition if desired.\n",
      "WARNING:sagemaker.workflow.utilities:Popping out 'ProcessingJobName' from the pipeline definition by default since it will be overridden at pipeline execution time. Please utilize the PipelineDefinitionConfig to persist this field in the pipeline definition if desired.\n",
      "WARNING:sagemaker.workflow.utilities:Popping out 'TrainingJobName' from the pipeline definition by default since it will be overridden at pipeline execution time. Please utilize the PipelineDefinitionConfig to persist this field in the pipeline definition if desired.\n",
      "WARNING:sagemaker.workflow.utilities:Popping out 'ProcessingJobName' from the pipeline definition by default since it will be overridden at pipeline execution time. Please utilize the PipelineDefinitionConfig to persist this field in the pipeline definition if desired.\n",
      "WARNING:sagemaker.estimator:No finished training job found associated with this estimator. Please make sure this estimator is only used for building workflow config\n",
      "WARNING:sagemaker.workflow._utils:Popping out 'CertifyForMarketplace' from the pipeline definition since it will be overridden in pipeline execution time.\n",
      "WARNING:sagemaker.workflow.utilities:Popping out 'ModelPackageName' from the pipeline definition by default since it will be overridden at pipeline execution time. Please utilize the PipelineDefinitionConfig to persist this field in the pipeline definition if desired.\n"
     ]
    },
    {
     "data": {
      "text/plain": [
       "{'PipelineArn': 'arn:aws:sagemaker:us-east-1:361019805433:pipeline/HospitalLOS-Pipeline',\n",
       " 'ResponseMetadata': {'RequestId': '6b1f487a-43f6-472f-b8e5-aec214997b90',\n",
       "  'HTTPStatusCode': 200,\n",
       "  'HTTPHeaders': {'x-amzn-requestid': '6b1f487a-43f6-472f-b8e5-aec214997b90',\n",
       "   'content-type': 'application/x-amz-json-1.1',\n",
       "   'content-length': '88',\n",
       "   'date': 'Fri, 25 Oct 2024 21:26:05 GMT'},\n",
       "  'RetryAttempts': 0}}"
      ]
     },
     "execution_count": 211,
     "metadata": {},
     "output_type": "execute_result"
    }
   ],
   "source": [
    "pipeline.upsert(role_arn=pipeline_role)"
   ]
  },
  {
   "cell_type": "code",
   "execution_count": 212,
   "metadata": {},
   "outputs": [
    {
     "name": "stderr",
     "output_type": "stream",
     "text": [
      "WARNING:sagemaker.workflow.utilities:Popping out 'ProcessingJobName' from the pipeline definition by default since it will be overridden at pipeline execution time. Please utilize the PipelineDefinitionConfig to persist this field in the pipeline definition if desired.\n",
      "WARNING:sagemaker.workflow.utilities:Popping out 'TrainingJobName' from the pipeline definition by default since it will be overridden at pipeline execution time. Please utilize the PipelineDefinitionConfig to persist this field in the pipeline definition if desired.\n",
      "WARNING:sagemaker.workflow.utilities:Popping out 'ProcessingJobName' from the pipeline definition by default since it will be overridden at pipeline execution time. Please utilize the PipelineDefinitionConfig to persist this field in the pipeline definition if desired.\n",
      "WARNING:sagemaker.estimator:No finished training job found associated with this estimator. Please make sure this estimator is only used for building workflow config\n",
      "WARNING:sagemaker.workflow._utils:Popping out 'CertifyForMarketplace' from the pipeline definition since it will be overridden in pipeline execution time.\n",
      "WARNING:sagemaker.workflow.utilities:Popping out 'ModelPackageName' from the pipeline definition by default since it will be overridden at pipeline execution time. Please utilize the PipelineDefinitionConfig to persist this field in the pipeline definition if desired.\n"
     ]
    },
    {
     "name": "stdout",
     "output_type": "stream",
     "text": [
      "{\n",
      "  \"Metadata\": {},\n",
      "  \"Parameters\": [\n",
      "    {\n",
      "      \"DefaultValue\": \"ml.m5.xlarge\",\n",
      "      \"Name\": \"ProcessingInstanceType\",\n",
      "      \"Type\": \"String\"\n",
      "    },\n",
      "    {\n",
      "      \"DefaultValue\": 1,\n",
      "      \"Name\": \"ProcessingInstanceCount\",\n",
      "      \"Type\": \"Integer\"\n",
      "    },\n",
      "    {\n",
      "      \"DefaultValue\": \"ml.m5.xlarge\",\n",
      "      \"Name\": \"TrainingInstanceType\",\n",
      "      \"Type\": \"String\"\n",
      "    },\n",
      "    {\n",
      "      \"DefaultValue\": \"PendingManualApproval\",\n",
      "      \"Name\": \"ModelApprovalStatus\",\n",
      "      \"Type\": \"String\"\n",
      "    },\n",
      "    {\n",
      "      \"DefaultValue\": \"s3://sagemaker-us-east-1-361019805433/HospitalLOS/traindata_medium.csv\",\n",
      "      \"Name\": \"InputDataUrl\",\n",
      "      \"Type\": \"String\"\n",
      "    }\n",
      "  ],\n",
      "  \"PipelineExperimentConfig\": {\n",
      "    \"ExperimentName\": {\n",
      "      \"Get\": \"Execution.PipelineName\"\n",
      "    },\n",
      "    \"TrialName\": {\n",
      "      \"Get\": \"Execution.PipelineExecutionId\"\n",
      "    }\n",
      "  },\n",
      "  \"Steps\": [\n",
      "    {\n",
      "      \"Arguments\": {\n",
      "        \"AppSpecification\": {\n",
      "          \"ContainerArguments\": [\n",
      "            \"--input-data\",\n",
      "            {\n",
      "              \"Get\": \"Parameters.InputDataUrl\"\n",
      "            }\n",
      "          ],\n",
      "          \"ContainerEntrypoint\": [\n",
      "            \"python3\",\n",
      "            \"/opt/ml/processing/input/code/preprocess.py\"\n",
      "          ],\n",
      "          \"ImageUri\": \"683313688378.dkr.ecr.us-east-1.amazonaws.com/sagemaker-scikit-learn:0.23-1-cpu-py3\"\n",
      "        },\n",
      "        \"ProcessingInputs\": [\n",
      "          {\n",
      "            \"AppManaged\": false,\n",
      "            \"InputName\": \"code\",\n",
      "            \"S3Input\": {\n",
      "              \"LocalPath\": \"/opt/ml/processing/input/code\",\n",
      "              \"S3CompressionType\": \"None\",\n",
      "              \"S3DataDistributionType\": \"FullyReplicated\",\n",
      "              \"S3DataType\": \"S3Prefix\",\n",
      "              \"S3InputMode\": \"File\",\n",
      "              \"S3Uri\": \"s3://sagemaker-us-east-1-361019805433/PreprocessHLOSData-b63277060d4f29c1405ce7b69ba0187b/input/code/preprocess.py\"\n",
      "            }\n",
      "          }\n",
      "        ],\n",
      "        \"ProcessingOutputConfig\": {\n",
      "          \"Outputs\": [\n",
      "            {\n",
      "              \"AppManaged\": false,\n",
      "              \"OutputName\": \"train\",\n",
      "              \"S3Output\": {\n",
      "                \"LocalPath\": \"/opt/ml/processing/train\",\n",
      "                \"S3UploadMode\": \"EndOfJob\",\n",
      "                \"S3Uri\": {\n",
      "                  \"Std:Join\": {\n",
      "                    \"On\": \"/\",\n",
      "                    \"Values\": [\n",
      "                      \"s3:/\",\n",
      "                      \"sagemaker-us-east-1-361019805433\",\n",
      "                      \"HospitalLOS-Pipeline\",\n",
      "                      {\n",
      "                        \"Get\": \"Execution.PipelineExecutionId\"\n",
      "                      },\n",
      "                      \"PreprocessHLOSData\",\n",
      "                      \"output\",\n",
      "                      \"train\"\n",
      "                    ]\n",
      "                  }\n",
      "                }\n",
      "              }\n",
      "            },\n",
      "            {\n",
      "              \"AppManaged\": false,\n",
      "              \"OutputName\": \"validation\",\n",
      "              \"S3Output\": {\n",
      "                \"LocalPath\": \"/opt/ml/processing/validation\",\n",
      "                \"S3UploadMode\": \"EndOfJob\",\n",
      "                \"S3Uri\": {\n",
      "                  \"Std:Join\": {\n",
      "                    \"On\": \"/\",\n",
      "                    \"Values\": [\n",
      "                      \"s3:/\",\n",
      "                      \"sagemaker-us-east-1-361019805433\",\n",
      "                      \"HospitalLOS-Pipeline\",\n",
      "                      {\n",
      "                        \"Get\": \"Execution.PipelineExecutionId\"\n",
      "                      },\n",
      "                      \"PreprocessHLOSData\",\n",
      "                      \"output\",\n",
      "                      \"validation\"\n",
      "                    ]\n",
      "                  }\n",
      "                }\n",
      "              }\n",
      "            },\n",
      "            {\n",
      "              \"AppManaged\": false,\n",
      "              \"OutputName\": \"test\",\n",
      "              \"S3Output\": {\n",
      "                \"LocalPath\": \"/opt/ml/processing/test\",\n",
      "                \"S3UploadMode\": \"EndOfJob\",\n",
      "                \"S3Uri\": {\n",
      "                  \"Std:Join\": {\n",
      "                    \"On\": \"/\",\n",
      "                    \"Values\": [\n",
      "                      \"s3:/\",\n",
      "                      \"sagemaker-us-east-1-361019805433\",\n",
      "                      \"HospitalLOS-Pipeline\",\n",
      "                      {\n",
      "                        \"Get\": \"Execution.PipelineExecutionId\"\n",
      "                      },\n",
      "                      \"PreprocessHLOSData\",\n",
      "                      \"output\",\n",
      "                      \"test\"\n",
      "                    ]\n",
      "                  }\n",
      "                }\n",
      "              }\n",
      "            }\n",
      "          ]\n",
      "        },\n",
      "        \"ProcessingResources\": {\n",
      "          \"ClusterConfig\": {\n",
      "            \"InstanceCount\": {\n",
      "              \"Get\": \"Parameters.ProcessingInstanceCount\"\n",
      "            },\n",
      "            \"InstanceType\": {\n",
      "              \"Get\": \"Parameters.ProcessingInstanceType\"\n",
      "            },\n",
      "            \"VolumeSizeInGB\": 30\n",
      "          }\n",
      "        },\n",
      "        \"RoleArn\": \"arn:aws:iam::361019805433:role/LabRole\"\n",
      "      },\n",
      "      \"Name\": \"PreprocessHLOSData\",\n",
      "      \"Type\": \"Processing\"\n",
      "    },\n",
      "    {\n",
      "      \"Arguments\": {\n",
      "        \"AlgorithmSpecification\": {\n",
      "          \"TrainingImage\": \"683313688378.dkr.ecr.us-east-1.amazonaws.com/sagemaker-xgboost:1.0-1-cpu-py3\",\n",
      "          \"TrainingInputMode\": \"File\"\n",
      "        },\n",
      "        \"DebugHookConfig\": {\n",
      "          \"CollectionConfigurations\": [],\n",
      "          \"S3OutputPath\": \"s3://sagemaker-us-east-1-361019805433/Hlos/HlosTrain\"\n",
      "        },\n",
      "        \"HyperParameters\": {\n",
      "          \"eta\": \"0.2\",\n",
      "          \"gamma\": \"4\",\n",
      "          \"max_depth\": \"5\",\n",
      "          \"min_child_weight\": \"6\",\n",
      "          \"num_class\": \"12\",\n",
      "          \"num_round\": \"50\",\n",
      "          \"objective\": \"multi:softmax\",\n",
      "          \"silent\": \"0\",\n",
      "          \"subsample\": \"0.7\"\n",
      "        },\n",
      "        \"InputDataConfig\": [\n",
      "          {\n",
      "            \"ChannelName\": \"train\",\n",
      "            \"ContentType\": \"text/csv\",\n",
      "            \"DataSource\": {\n",
      "              \"S3DataSource\": {\n",
      "                \"S3DataDistributionType\": \"FullyReplicated\",\n",
      "                \"S3DataType\": \"S3Prefix\",\n",
      "                \"S3Uri\": {\n",
      "                  \"Get\": \"Steps.PreprocessHLOSData.ProcessingOutputConfig.Outputs['train'].S3Output.S3Uri\"\n",
      "                }\n",
      "              }\n",
      "            }\n",
      "          },\n",
      "          {\n",
      "            \"ChannelName\": \"validation\",\n",
      "            \"ContentType\": \"text/csv\",\n",
      "            \"DataSource\": {\n",
      "              \"S3DataSource\": {\n",
      "                \"S3DataDistributionType\": \"FullyReplicated\",\n",
      "                \"S3DataType\": \"S3Prefix\",\n",
      "                \"S3Uri\": {\n",
      "                  \"Get\": \"Steps.PreprocessHLOSData.ProcessingOutputConfig.Outputs['validation'].S3Output.S3Uri\"\n",
      "                }\n",
      "              }\n",
      "            }\n",
      "          }\n",
      "        ],\n",
      "        \"OutputDataConfig\": {\n",
      "          \"S3OutputPath\": \"s3://sagemaker-us-east-1-361019805433/Hlos/HlosTrain\"\n",
      "        },\n",
      "        \"ProfilerConfig\": {\n",
      "          \"DisableProfiler\": false,\n",
      "          \"S3OutputPath\": \"s3://sagemaker-us-east-1-361019805433/Hlos/HlosTrain\"\n",
      "        },\n",
      "        \"ResourceConfig\": {\n",
      "          \"InstanceCount\": 1,\n",
      "          \"InstanceType\": {\n",
      "            \"Get\": \"Parameters.TrainingInstanceType\"\n",
      "          },\n",
      "          \"VolumeSizeInGB\": 30\n",
      "        },\n",
      "        \"RoleArn\": \"arn:aws:iam::361019805433:role/LabRole\",\n",
      "        \"StoppingCondition\": {\n",
      "          \"MaxRuntimeInSeconds\": 86400\n",
      "        }\n",
      "      },\n",
      "      \"Name\": \"TrainHlosModel\",\n",
      "      \"Type\": \"Training\"\n",
      "    },\n",
      "    {\n",
      "      \"Arguments\": {\n",
      "        \"AppSpecification\": {\n",
      "          \"ContainerEntrypoint\": [\n",
      "            \"python3\",\n",
      "            \"/opt/ml/processing/input/code/evaluate.py\"\n",
      "          ],\n",
      "          \"ImageUri\": \"683313688378.dkr.ecr.us-east-1.amazonaws.com/sagemaker-xgboost:1.0-1-cpu-py3\"\n",
      "        },\n",
      "        \"ProcessingInputs\": [\n",
      "          {\n",
      "            \"AppManaged\": false,\n",
      "            \"InputName\": \"input-1\",\n",
      "            \"S3Input\": {\n",
      "              \"LocalPath\": \"/opt/ml/processing/model\",\n",
      "              \"S3CompressionType\": \"None\",\n",
      "              \"S3DataDistributionType\": \"FullyReplicated\",\n",
      "              \"S3DataType\": \"S3Prefix\",\n",
      "              \"S3InputMode\": \"File\",\n",
      "              \"S3Uri\": {\n",
      "                \"Get\": \"Steps.TrainHlosModel.ModelArtifacts.S3ModelArtifacts\"\n",
      "              }\n",
      "            }\n",
      "          },\n",
      "          {\n",
      "            \"AppManaged\": false,\n",
      "            \"InputName\": \"input-2\",\n",
      "            \"S3Input\": {\n",
      "              \"LocalPath\": \"/opt/ml/processing/test\",\n",
      "              \"S3CompressionType\": \"None\",\n",
      "              \"S3DataDistributionType\": \"FullyReplicated\",\n",
      "              \"S3DataType\": \"S3Prefix\",\n",
      "              \"S3InputMode\": \"File\",\n",
      "              \"S3Uri\": {\n",
      "                \"Get\": \"Steps.PreprocessHLOSData.ProcessingOutputConfig.Outputs['test'].S3Output.S3Uri\"\n",
      "              }\n",
      "            }\n",
      "          },\n",
      "          {\n",
      "            \"AppManaged\": false,\n",
      "            \"InputName\": \"code\",\n",
      "            \"S3Input\": {\n",
      "              \"LocalPath\": \"/opt/ml/processing/input/code\",\n",
      "              \"S3CompressionType\": \"None\",\n",
      "              \"S3DataDistributionType\": \"FullyReplicated\",\n",
      "              \"S3DataType\": \"S3Prefix\",\n",
      "              \"S3InputMode\": \"File\",\n",
      "              \"S3Uri\": \"s3://sagemaker-us-east-1-361019805433/EvaluateHlosModel-d89fae68be810a0cbfdc7bba2943e2d1/input/code/evaluate.py\"\n",
      "            }\n",
      "          }\n",
      "        ],\n",
      "        \"ProcessingOutputConfig\": {\n",
      "          \"Outputs\": [\n",
      "            {\n",
      "              \"AppManaged\": false,\n",
      "              \"OutputName\": \"evaluation\",\n",
      "              \"S3Output\": {\n",
      "                \"LocalPath\": \"/opt/ml/processing/evaluation\",\n",
      "                \"S3UploadMode\": \"EndOfJob\",\n",
      "                \"S3Uri\": \"s3://sagemaker-us-east-1-361019805433/EvaluateHlosModel-d89fae68be810a0cbfdc7bba2943e2d1/output/evaluation\"\n",
      "              }\n",
      "            }\n",
      "          ]\n",
      "        },\n",
      "        \"ProcessingResources\": {\n",
      "          \"ClusterConfig\": {\n",
      "            \"InstanceCount\": 1,\n",
      "            \"InstanceType\": {\n",
      "              \"Get\": \"Parameters.ProcessingInstanceType\"\n",
      "            },\n",
      "            \"VolumeSizeInGB\": 30\n",
      "          }\n",
      "        },\n",
      "        \"RoleArn\": \"arn:aws:iam::361019805433:role/LabRole\"\n",
      "      },\n",
      "      \"Name\": \"EvaluateHlosModel\",\n",
      "      \"PropertyFiles\": [\n",
      "        {\n",
      "          \"FilePath\": \"evaluation.json\",\n",
      "          \"OutputName\": \"evaluation\",\n",
      "          \"PropertyFileName\": \"HlosEvaluationReport\"\n",
      "        }\n",
      "      ],\n",
      "      \"Type\": \"Processing\"\n",
      "    },\n",
      "    {\n",
      "      \"Arguments\": {\n",
      "        \"Conditions\": [\n",
      "          {\n",
      "            \"LeftValue\": {\n",
      "              \"Std:JsonGet\": {\n",
      "                \"Path\": \"classification_metrics.accuracy.value\",\n",
      "                \"PropertyFile\": {\n",
      "                  \"Get\": \"Steps.EvaluateHlosModel.PropertyFiles.HlosEvaluationReport\"\n",
      "                }\n",
      "              }\n",
      "            },\n",
      "            \"RightValue\": 0.6,\n",
      "            \"Type\": \"GreaterThanOrEqualTo\"\n",
      "          }\n",
      "        ],\n",
      "        \"ElseSteps\": [],\n",
      "        \"IfSteps\": [\n",
      "          {\n",
      "            \"Arguments\": {\n",
      "              \"InferenceSpecification\": {\n",
      "                \"Containers\": [\n",
      "                  {\n",
      "                    \"Image\": \"683313688378.dkr.ecr.us-east-1.amazonaws.com/sagemaker-xgboost:1.0-1-cpu-py3\",\n",
      "                    \"ModelDataUrl\": {\n",
      "                      \"Get\": \"Steps.TrainHlosModel.ModelArtifacts.S3ModelArtifacts\"\n",
      "                    }\n",
      "                  }\n",
      "                ],\n",
      "                \"SupportedContentTypes\": [\n",
      "                  \"text/csv\"\n",
      "                ],\n",
      "                \"SupportedRealtimeInferenceInstanceTypes\": [\n",
      "                  \"ml.t2.medium\",\n",
      "                  \"ml.m5.large\"\n",
      "                ],\n",
      "                \"SupportedResponseMIMETypes\": [\n",
      "                  \"text/csv\"\n",
      "                ],\n",
      "                \"SupportedTransformInstanceTypes\": [\n",
      "                  \"ml.m5.large\"\n",
      "                ]\n",
      "              },\n",
      "              \"ModelApprovalStatus\": {\n",
      "                \"Get\": \"Parameters.ModelApprovalStatus\"\n",
      "              },\n",
      "              \"ModelMetrics\": {\n",
      "                \"Bias\": {},\n",
      "                \"Explainability\": {},\n",
      "                \"ModelQuality\": {\n",
      "                  \"Statistics\": {\n",
      "                    \"ContentType\": \"application/json\",\n",
      "                    \"S3Uri\": \"s3://sagemaker-us-east-1-361019805433/EvaluateHlosModel-d89fae68be810a0cbfdc7bba2943e2d1/output/evaluation/evaluation.json\"\n",
      "                  }\n",
      "                }\n",
      "              },\n",
      "              \"ModelPackageGroupName\": \"HospitalLOS\",\n",
      "              \"SkipModelValidation\": \"None\"\n",
      "            },\n",
      "            \"Name\": \"RegisterHlosModel-RegisterModel\",\n",
      "            \"Type\": \"RegisterModel\"\n",
      "          }\n",
      "        ]\n",
      "      },\n",
      "      \"Name\": \"CheckAccuracyHospitalLOSEvaluation\",\n",
      "      \"Type\": \"Condition\"\n",
      "    }\n",
      "  ],\n",
      "  \"Version\": \"2020-12-01\"\n",
      "}\n"
     ]
    }
   ],
   "source": [
    "parsed = json.loads(pipeline.definition())\n",
    "print(json.dumps(parsed, indent=2, sort_keys=True))"
   ]
  },
  {
   "cell_type": "markdown",
   "metadata": {},
   "source": [
    "The following line starts the pipeline execution. In this specific example it runs for about 13 minutes."
   ]
  },
  {
   "cell_type": "code",
   "execution_count": 213,
   "metadata": {},
   "outputs": [],
   "source": [
    "execution = pipeline.start()"
   ]
  },
  {
   "cell_type": "code",
   "execution_count": 216,
   "metadata": {},
   "outputs": [
    {
     "data": {
      "text/plain": [
       "{'PipelineArn': 'arn:aws:sagemaker:us-east-1:361019805433:pipeline/HospitalLOS-Pipeline',\n",
       " 'PipelineExecutionArn': 'arn:aws:sagemaker:us-east-1:361019805433:pipeline/HospitalLOS-Pipeline/execution/dpd4jxouj64g',\n",
       " 'PipelineExecutionDisplayName': 'execution-1729891569344',\n",
       " 'PipelineExecutionStatus': 'Succeeded',\n",
       " 'PipelineExperimentConfig': {'ExperimentName': 'hospitallos-pipeline',\n",
       "  'TrialName': 'dpd4jxouj64g'},\n",
       " 'CreationTime': datetime.datetime(2024, 10, 25, 21, 26, 9, 286000, tzinfo=tzlocal()),\n",
       " 'LastModifiedTime': datetime.datetime(2024, 10, 25, 21, 34, 24, 455000, tzinfo=tzlocal()),\n",
       " 'CreatedBy': {'UserProfileArn': 'arn:aws:sagemaker:us-east-1:361019805433:user-profile/d-ttv0us1l2sdg/dshalaby',\n",
       "  'UserProfileName': 'dshalaby',\n",
       "  'DomainId': 'd-ttv0us1l2sdg',\n",
       "  'IamIdentity': {'Arn': 'arn:aws:sts::361019805433:assumed-role/LabRole/SageMaker',\n",
       "   'PrincipalId': 'AROAVIDTVB342CB4YCBW4:SageMaker'}},\n",
       " 'LastModifiedBy': {'UserProfileArn': 'arn:aws:sagemaker:us-east-1:361019805433:user-profile/d-ttv0us1l2sdg/dshalaby',\n",
       "  'UserProfileName': 'dshalaby',\n",
       "  'DomainId': 'd-ttv0us1l2sdg',\n",
       "  'IamIdentity': {'Arn': 'arn:aws:sts::361019805433:assumed-role/LabRole/SageMaker',\n",
       "   'PrincipalId': 'AROAVIDTVB342CB4YCBW4:SageMaker'}},\n",
       " 'ResponseMetadata': {'RequestId': 'ed3e68d1-1783-482a-bbe0-5f31036b226b',\n",
       "  'HTTPStatusCode': 200,\n",
       "  'HTTPHeaders': {'x-amzn-requestid': 'ed3e68d1-1783-482a-bbe0-5f31036b226b',\n",
       "   'content-type': 'application/x-amz-json-1.1',\n",
       "   'content-length': '1065',\n",
       "   'date': 'Fri, 25 Oct 2024 21:39:47 GMT'},\n",
       "  'RetryAttempts': 0}}"
      ]
     },
     "execution_count": 216,
     "metadata": {},
     "output_type": "execute_result"
    }
   ],
   "source": [
    "execution.describe()"
   ]
  },
  {
   "cell_type": "code",
   "execution_count": 215,
   "metadata": {},
   "outputs": [],
   "source": [
    "execution.wait()"
   ]
  },
  {
   "cell_type": "code",
   "execution_count": 217,
   "metadata": {
    "tags": []
   },
   "outputs": [
    {
     "name": "stderr",
     "output_type": "stream",
     "text": [
      "WARNING:sagemaker.workflow.utilities:Popping out 'ProcessingJobName' from the pipeline definition by default since it will be overridden at pipeline execution time. Please utilize the PipelineDefinitionConfig to persist this field in the pipeline definition if desired.\n"
     ]
    },
    {
     "name": "stdout",
     "output_type": "stream",
     "text": [
      "{'classification_metrics': {'accuracy': {'value': 0.9595528199974878}}}\n"
     ]
    }
   ],
   "source": [
    "from pprint import pprint\n",
    "\n",
    "\n",
    "evaluation_json = sagemaker.s3.S3Downloader.read_file(\n",
    "    \"{}/evaluation.json\".format(\n",
    "        step_eval.arguments[\"ProcessingOutputConfig\"][\"Outputs\"][0][\"S3Output\"][\"S3Uri\"]\n",
    "    )\n",
    ")\n",
    "pprint(json.loads(evaluation_json))"
   ]
  },
  {
   "cell_type": "markdown",
   "metadata": {},
   "source": [
    "## Clean up"
   ]
  },
  {
   "cell_type": "markdown",
   "metadata": {},
   "source": [
    "### Delete SageMaker project\n",
    "This will delete the associated CloudFormation stack and CodeCommit repository"
   ]
  },
  {
   "cell_type": "code",
   "execution_count": null,
   "metadata": {},
   "outputs": [],
   "source": [
    "print(f\"Deleting project {project_name}:{sm.delete_project(ProjectName=project_name)}\")"
   ]
  },
  {
   "cell_type": "markdown",
   "metadata": {},
   "source": [
    "### Delete project S3 bucket \n",
    "This will remove all files and S3 bucket"
   ]
  },
  {
   "cell_type": "code",
   "execution_count": null,
   "metadata": {},
   "outputs": [],
   "source": [
    "!aws s3 rb s3://sm-mlops-cp-{project_name}-{project_id} --force"
   ]
  },
  {
   "cell_type": "markdown",
   "metadata": {},
   "source": [
    "## Release resources"
   ]
  },
  {
   "cell_type": "code",
   "execution_count": null,
   "metadata": {},
   "outputs": [],
   "source": [
    "%%html\n",
    "\n",
    "<p><b>Shutting down your kernel for this notebook to release resources.</b></p>\n",
    "<button class=\"sm-command-button\" data-commandlinker-command=\"kernelmenu:shutdown\" style=\"display:none;\">Shutdown Kernel</button>\n",
    "        \n",
    "<script>\n",
    "try {\n",
    "    els = document.getElementsByClassName(\"sm-command-button\");\n",
    "    els[0].click();\n",
    "}\n",
    "catch(err) {\n",
    "    // NoOp\n",
    "}    \n",
    "</script>"
   ]
  }
 ],
 "metadata": {
  "availableInstances": [
   {
    "_defaultOrder": 0,
    "_isFastLaunch": true,
    "category": "General purpose",
    "gpuNum": 0,
    "hideHardwareSpecs": false,
    "memoryGiB": 4,
    "name": "ml.t3.medium",
    "vcpuNum": 2
   },
   {
    "_defaultOrder": 1,
    "_isFastLaunch": false,
    "category": "General purpose",
    "gpuNum": 0,
    "hideHardwareSpecs": false,
    "memoryGiB": 8,
    "name": "ml.t3.large",
    "vcpuNum": 2
   },
   {
    "_defaultOrder": 2,
    "_isFastLaunch": false,
    "category": "General purpose",
    "gpuNum": 0,
    "hideHardwareSpecs": false,
    "memoryGiB": 16,
    "name": "ml.t3.xlarge",
    "vcpuNum": 4
   },
   {
    "_defaultOrder": 3,
    "_isFastLaunch": false,
    "category": "General purpose",
    "gpuNum": 0,
    "hideHardwareSpecs": false,
    "memoryGiB": 32,
    "name": "ml.t3.2xlarge",
    "vcpuNum": 8
   },
   {
    "_defaultOrder": 4,
    "_isFastLaunch": true,
    "category": "General purpose",
    "gpuNum": 0,
    "hideHardwareSpecs": false,
    "memoryGiB": 8,
    "name": "ml.m5.large",
    "vcpuNum": 2
   },
   {
    "_defaultOrder": 5,
    "_isFastLaunch": false,
    "category": "General purpose",
    "gpuNum": 0,
    "hideHardwareSpecs": false,
    "memoryGiB": 16,
    "name": "ml.m5.xlarge",
    "vcpuNum": 4
   },
   {
    "_defaultOrder": 6,
    "_isFastLaunch": false,
    "category": "General purpose",
    "gpuNum": 0,
    "hideHardwareSpecs": false,
    "memoryGiB": 32,
    "name": "ml.m5.2xlarge",
    "vcpuNum": 8
   },
   {
    "_defaultOrder": 7,
    "_isFastLaunch": false,
    "category": "General purpose",
    "gpuNum": 0,
    "hideHardwareSpecs": false,
    "memoryGiB": 64,
    "name": "ml.m5.4xlarge",
    "vcpuNum": 16
   },
   {
    "_defaultOrder": 8,
    "_isFastLaunch": false,
    "category": "General purpose",
    "gpuNum": 0,
    "hideHardwareSpecs": false,
    "memoryGiB": 128,
    "name": "ml.m5.8xlarge",
    "vcpuNum": 32
   },
   {
    "_defaultOrder": 9,
    "_isFastLaunch": false,
    "category": "General purpose",
    "gpuNum": 0,
    "hideHardwareSpecs": false,
    "memoryGiB": 192,
    "name": "ml.m5.12xlarge",
    "vcpuNum": 48
   },
   {
    "_defaultOrder": 10,
    "_isFastLaunch": false,
    "category": "General purpose",
    "gpuNum": 0,
    "hideHardwareSpecs": false,
    "memoryGiB": 256,
    "name": "ml.m5.16xlarge",
    "vcpuNum": 64
   },
   {
    "_defaultOrder": 11,
    "_isFastLaunch": false,
    "category": "General purpose",
    "gpuNum": 0,
    "hideHardwareSpecs": false,
    "memoryGiB": 384,
    "name": "ml.m5.24xlarge",
    "vcpuNum": 96
   },
   {
    "_defaultOrder": 12,
    "_isFastLaunch": false,
    "category": "General purpose",
    "gpuNum": 0,
    "hideHardwareSpecs": false,
    "memoryGiB": 8,
    "name": "ml.m5d.large",
    "vcpuNum": 2
   },
   {
    "_defaultOrder": 13,
    "_isFastLaunch": false,
    "category": "General purpose",
    "gpuNum": 0,
    "hideHardwareSpecs": false,
    "memoryGiB": 16,
    "name": "ml.m5d.xlarge",
    "vcpuNum": 4
   },
   {
    "_defaultOrder": 14,
    "_isFastLaunch": false,
    "category": "General purpose",
    "gpuNum": 0,
    "hideHardwareSpecs": false,
    "memoryGiB": 32,
    "name": "ml.m5d.2xlarge",
    "vcpuNum": 8
   },
   {
    "_defaultOrder": 15,
    "_isFastLaunch": false,
    "category": "General purpose",
    "gpuNum": 0,
    "hideHardwareSpecs": false,
    "memoryGiB": 64,
    "name": "ml.m5d.4xlarge",
    "vcpuNum": 16
   },
   {
    "_defaultOrder": 16,
    "_isFastLaunch": false,
    "category": "General purpose",
    "gpuNum": 0,
    "hideHardwareSpecs": false,
    "memoryGiB": 128,
    "name": "ml.m5d.8xlarge",
    "vcpuNum": 32
   },
   {
    "_defaultOrder": 17,
    "_isFastLaunch": false,
    "category": "General purpose",
    "gpuNum": 0,
    "hideHardwareSpecs": false,
    "memoryGiB": 192,
    "name": "ml.m5d.12xlarge",
    "vcpuNum": 48
   },
   {
    "_defaultOrder": 18,
    "_isFastLaunch": false,
    "category": "General purpose",
    "gpuNum": 0,
    "hideHardwareSpecs": false,
    "memoryGiB": 256,
    "name": "ml.m5d.16xlarge",
    "vcpuNum": 64
   },
   {
    "_defaultOrder": 19,
    "_isFastLaunch": false,
    "category": "General purpose",
    "gpuNum": 0,
    "hideHardwareSpecs": false,
    "memoryGiB": 384,
    "name": "ml.m5d.24xlarge",
    "vcpuNum": 96
   },
   {
    "_defaultOrder": 20,
    "_isFastLaunch": false,
    "category": "General purpose",
    "gpuNum": 0,
    "hideHardwareSpecs": true,
    "memoryGiB": 0,
    "name": "ml.geospatial.interactive",
    "supportedImageNames": [
     "sagemaker-geospatial-v1-0"
    ],
    "vcpuNum": 0
   },
   {
    "_defaultOrder": 21,
    "_isFastLaunch": true,
    "category": "Compute optimized",
    "gpuNum": 0,
    "hideHardwareSpecs": false,
    "memoryGiB": 4,
    "name": "ml.c5.large",
    "vcpuNum": 2
   },
   {
    "_defaultOrder": 22,
    "_isFastLaunch": false,
    "category": "Compute optimized",
    "gpuNum": 0,
    "hideHardwareSpecs": false,
    "memoryGiB": 8,
    "name": "ml.c5.xlarge",
    "vcpuNum": 4
   },
   {
    "_defaultOrder": 23,
    "_isFastLaunch": false,
    "category": "Compute optimized",
    "gpuNum": 0,
    "hideHardwareSpecs": false,
    "memoryGiB": 16,
    "name": "ml.c5.2xlarge",
    "vcpuNum": 8
   },
   {
    "_defaultOrder": 24,
    "_isFastLaunch": false,
    "category": "Compute optimized",
    "gpuNum": 0,
    "hideHardwareSpecs": false,
    "memoryGiB": 32,
    "name": "ml.c5.4xlarge",
    "vcpuNum": 16
   },
   {
    "_defaultOrder": 25,
    "_isFastLaunch": false,
    "category": "Compute optimized",
    "gpuNum": 0,
    "hideHardwareSpecs": false,
    "memoryGiB": 72,
    "name": "ml.c5.9xlarge",
    "vcpuNum": 36
   },
   {
    "_defaultOrder": 26,
    "_isFastLaunch": false,
    "category": "Compute optimized",
    "gpuNum": 0,
    "hideHardwareSpecs": false,
    "memoryGiB": 96,
    "name": "ml.c5.12xlarge",
    "vcpuNum": 48
   },
   {
    "_defaultOrder": 27,
    "_isFastLaunch": false,
    "category": "Compute optimized",
    "gpuNum": 0,
    "hideHardwareSpecs": false,
    "memoryGiB": 144,
    "name": "ml.c5.18xlarge",
    "vcpuNum": 72
   },
   {
    "_defaultOrder": 28,
    "_isFastLaunch": false,
    "category": "Compute optimized",
    "gpuNum": 0,
    "hideHardwareSpecs": false,
    "memoryGiB": 192,
    "name": "ml.c5.24xlarge",
    "vcpuNum": 96
   },
   {
    "_defaultOrder": 29,
    "_isFastLaunch": true,
    "category": "Accelerated computing",
    "gpuNum": 1,
    "hideHardwareSpecs": false,
    "memoryGiB": 16,
    "name": "ml.g4dn.xlarge",
    "vcpuNum": 4
   },
   {
    "_defaultOrder": 30,
    "_isFastLaunch": false,
    "category": "Accelerated computing",
    "gpuNum": 1,
    "hideHardwareSpecs": false,
    "memoryGiB": 32,
    "name": "ml.g4dn.2xlarge",
    "vcpuNum": 8
   },
   {
    "_defaultOrder": 31,
    "_isFastLaunch": false,
    "category": "Accelerated computing",
    "gpuNum": 1,
    "hideHardwareSpecs": false,
    "memoryGiB": 64,
    "name": "ml.g4dn.4xlarge",
    "vcpuNum": 16
   },
   {
    "_defaultOrder": 32,
    "_isFastLaunch": false,
    "category": "Accelerated computing",
    "gpuNum": 1,
    "hideHardwareSpecs": false,
    "memoryGiB": 128,
    "name": "ml.g4dn.8xlarge",
    "vcpuNum": 32
   },
   {
    "_defaultOrder": 33,
    "_isFastLaunch": false,
    "category": "Accelerated computing",
    "gpuNum": 4,
    "hideHardwareSpecs": false,
    "memoryGiB": 192,
    "name": "ml.g4dn.12xlarge",
    "vcpuNum": 48
   },
   {
    "_defaultOrder": 34,
    "_isFastLaunch": false,
    "category": "Accelerated computing",
    "gpuNum": 1,
    "hideHardwareSpecs": false,
    "memoryGiB": 256,
    "name": "ml.g4dn.16xlarge",
    "vcpuNum": 64
   },
   {
    "_defaultOrder": 35,
    "_isFastLaunch": false,
    "category": "Accelerated computing",
    "gpuNum": 1,
    "hideHardwareSpecs": false,
    "memoryGiB": 61,
    "name": "ml.p3.2xlarge",
    "vcpuNum": 8
   },
   {
    "_defaultOrder": 36,
    "_isFastLaunch": false,
    "category": "Accelerated computing",
    "gpuNum": 4,
    "hideHardwareSpecs": false,
    "memoryGiB": 244,
    "name": "ml.p3.8xlarge",
    "vcpuNum": 32
   },
   {
    "_defaultOrder": 37,
    "_isFastLaunch": false,
    "category": "Accelerated computing",
    "gpuNum": 8,
    "hideHardwareSpecs": false,
    "memoryGiB": 488,
    "name": "ml.p3.16xlarge",
    "vcpuNum": 64
   },
   {
    "_defaultOrder": 38,
    "_isFastLaunch": false,
    "category": "Accelerated computing",
    "gpuNum": 8,
    "hideHardwareSpecs": false,
    "memoryGiB": 768,
    "name": "ml.p3dn.24xlarge",
    "vcpuNum": 96
   },
   {
    "_defaultOrder": 39,
    "_isFastLaunch": false,
    "category": "Memory Optimized",
    "gpuNum": 0,
    "hideHardwareSpecs": false,
    "memoryGiB": 16,
    "name": "ml.r5.large",
    "vcpuNum": 2
   },
   {
    "_defaultOrder": 40,
    "_isFastLaunch": false,
    "category": "Memory Optimized",
    "gpuNum": 0,
    "hideHardwareSpecs": false,
    "memoryGiB": 32,
    "name": "ml.r5.xlarge",
    "vcpuNum": 4
   },
   {
    "_defaultOrder": 41,
    "_isFastLaunch": false,
    "category": "Memory Optimized",
    "gpuNum": 0,
    "hideHardwareSpecs": false,
    "memoryGiB": 64,
    "name": "ml.r5.2xlarge",
    "vcpuNum": 8
   },
   {
    "_defaultOrder": 42,
    "_isFastLaunch": false,
    "category": "Memory Optimized",
    "gpuNum": 0,
    "hideHardwareSpecs": false,
    "memoryGiB": 128,
    "name": "ml.r5.4xlarge",
    "vcpuNum": 16
   },
   {
    "_defaultOrder": 43,
    "_isFastLaunch": false,
    "category": "Memory Optimized",
    "gpuNum": 0,
    "hideHardwareSpecs": false,
    "memoryGiB": 256,
    "name": "ml.r5.8xlarge",
    "vcpuNum": 32
   },
   {
    "_defaultOrder": 44,
    "_isFastLaunch": false,
    "category": "Memory Optimized",
    "gpuNum": 0,
    "hideHardwareSpecs": false,
    "memoryGiB": 384,
    "name": "ml.r5.12xlarge",
    "vcpuNum": 48
   },
   {
    "_defaultOrder": 45,
    "_isFastLaunch": false,
    "category": "Memory Optimized",
    "gpuNum": 0,
    "hideHardwareSpecs": false,
    "memoryGiB": 512,
    "name": "ml.r5.16xlarge",
    "vcpuNum": 64
   },
   {
    "_defaultOrder": 46,
    "_isFastLaunch": false,
    "category": "Memory Optimized",
    "gpuNum": 0,
    "hideHardwareSpecs": false,
    "memoryGiB": 768,
    "name": "ml.r5.24xlarge",
    "vcpuNum": 96
   },
   {
    "_defaultOrder": 47,
    "_isFastLaunch": false,
    "category": "Accelerated computing",
    "gpuNum": 1,
    "hideHardwareSpecs": false,
    "memoryGiB": 16,
    "name": "ml.g5.xlarge",
    "vcpuNum": 4
   },
   {
    "_defaultOrder": 48,
    "_isFastLaunch": false,
    "category": "Accelerated computing",
    "gpuNum": 1,
    "hideHardwareSpecs": false,
    "memoryGiB": 32,
    "name": "ml.g5.2xlarge",
    "vcpuNum": 8
   },
   {
    "_defaultOrder": 49,
    "_isFastLaunch": false,
    "category": "Accelerated computing",
    "gpuNum": 1,
    "hideHardwareSpecs": false,
    "memoryGiB": 64,
    "name": "ml.g5.4xlarge",
    "vcpuNum": 16
   },
   {
    "_defaultOrder": 50,
    "_isFastLaunch": false,
    "category": "Accelerated computing",
    "gpuNum": 1,
    "hideHardwareSpecs": false,
    "memoryGiB": 128,
    "name": "ml.g5.8xlarge",
    "vcpuNum": 32
   },
   {
    "_defaultOrder": 51,
    "_isFastLaunch": false,
    "category": "Accelerated computing",
    "gpuNum": 1,
    "hideHardwareSpecs": false,
    "memoryGiB": 256,
    "name": "ml.g5.16xlarge",
    "vcpuNum": 64
   },
   {
    "_defaultOrder": 52,
    "_isFastLaunch": false,
    "category": "Accelerated computing",
    "gpuNum": 4,
    "hideHardwareSpecs": false,
    "memoryGiB": 192,
    "name": "ml.g5.12xlarge",
    "vcpuNum": 48
   },
   {
    "_defaultOrder": 53,
    "_isFastLaunch": false,
    "category": "Accelerated computing",
    "gpuNum": 4,
    "hideHardwareSpecs": false,
    "memoryGiB": 384,
    "name": "ml.g5.24xlarge",
    "vcpuNum": 96
   },
   {
    "_defaultOrder": 54,
    "_isFastLaunch": false,
    "category": "Accelerated computing",
    "gpuNum": 8,
    "hideHardwareSpecs": false,
    "memoryGiB": 768,
    "name": "ml.g5.48xlarge",
    "vcpuNum": 192
   },
   {
    "_defaultOrder": 55,
    "_isFastLaunch": false,
    "category": "Accelerated computing",
    "gpuNum": 8,
    "hideHardwareSpecs": false,
    "memoryGiB": 1152,
    "name": "ml.p4d.24xlarge",
    "vcpuNum": 96
   },
   {
    "_defaultOrder": 56,
    "_isFastLaunch": false,
    "category": "Accelerated computing",
    "gpuNum": 8,
    "hideHardwareSpecs": false,
    "memoryGiB": 1152,
    "name": "ml.p4de.24xlarge",
    "vcpuNum": 96
   },
   {
    "_defaultOrder": 57,
    "_isFastLaunch": false,
    "category": "Accelerated computing",
    "gpuNum": 0,
    "hideHardwareSpecs": false,
    "memoryGiB": 32,
    "name": "ml.trn1.2xlarge",
    "vcpuNum": 8
   },
   {
    "_defaultOrder": 58,
    "_isFastLaunch": false,
    "category": "Accelerated computing",
    "gpuNum": 0,
    "hideHardwareSpecs": false,
    "memoryGiB": 512,
    "name": "ml.trn1.32xlarge",
    "vcpuNum": 128
   },
   {
    "_defaultOrder": 59,
    "_isFastLaunch": false,
    "category": "Accelerated computing",
    "gpuNum": 0,
    "hideHardwareSpecs": false,
    "memoryGiB": 512,
    "name": "ml.trn1n.32xlarge",
    "vcpuNum": 128
   }
  ],
  "instance_type": "ml.t3.medium",
  "kernelspec": {
   "display_name": "Python 3 (Data Science 3.0)",
   "language": "python",
   "name": "python3__SAGEMAKER_INTERNAL__arn:aws:sagemaker:us-east-1:081325390199:image/sagemaker-data-science-310-v1"
  },
  "language_info": {
   "codemirror_mode": {
    "name": "ipython",
    "version": 3
   },
   "file_extension": ".py",
   "mimetype": "text/x-python",
   "name": "python",
   "nbconvert_exporter": "python",
   "pygments_lexer": "ipython3",
   "version": "3.10.6"
  }
 },
 "nbformat": 4,
 "nbformat_minor": 4
}
